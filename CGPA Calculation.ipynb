{
 "cells": [
  {
   "cell_type": "markdown",
   "id": "f831dcb0",
   "metadata": {},
   "source": [
    "# CGPA Based on Grades of Students "
   ]
  },
  {
   "cell_type": "markdown",
   "id": "4a425644",
   "metadata": {},
   "source": [
    "## Problem Statement:\n",
    "The dataset contains grades scored by students throughout their university tenure in various courses and their CGPA calculated based on their grades"
   ]
  },
  {
   "cell_type": "markdown",
   "id": "53d06108",
   "metadata": {},
   "source": [
    "## Few Details of Data Set:"
   ]
  },
  {
   "cell_type": "markdown",
   "id": "f6d0501a",
   "metadata": {},
   "source": [
    "There are total 43 columns\n",
    "Seat No : The enrolled number of candidate that took the exams\n",
    "\n",
    "CGPA : The cumulative GPA based on the four year total grade progress of each candidate . CGPA is a Final Marks -- provided to student.\n",
    "\n",
    "All other columns are course codes in the format AB-XXX where AB are alphabets representing candidates' departments and XXX are numbers where first X represents the year the canditate took exam"
   ]
  },
  {
   "cell_type": "markdown",
   "id": "aeefd90d",
   "metadata": {},
   "source": [
    "## Requirement\n",
    "Predict: CGPA of a student based on different grades in four years."
   ]
  },
  {
   "cell_type": "code",
   "execution_count": 91,
   "id": "cb2e7e5b",
   "metadata": {},
   "outputs": [],
   "source": [
    "#importing the necessary libraries\n",
    "import numpy as np\n",
    "import pandas as pd\n",
    "import seaborn as sns\n",
    "import matplotlib.pyplot as plt\n",
    "import warnings\n",
    "warnings.filterwarnings('ignore')\n",
    "import sklearn\n",
    "from sklearn.linear_model import LinearRegression\n",
    "from sklearn.metrics import mean_squared_error,mean_absolute_error,r2_score\n",
    "from sklearn.model_selection import train_test_split"
   ]
  },
  {
   "cell_type": "code",
   "execution_count": 92,
   "id": "92c60213",
   "metadata": {},
   "outputs": [
    {
     "data": {
      "text/html": [
       "<div>\n",
       "<style scoped>\n",
       "    .dataframe tbody tr th:only-of-type {\n",
       "        vertical-align: middle;\n",
       "    }\n",
       "\n",
       "    .dataframe tbody tr th {\n",
       "        vertical-align: top;\n",
       "    }\n",
       "\n",
       "    .dataframe thead th {\n",
       "        text-align: right;\n",
       "    }\n",
       "</style>\n",
       "<table border=\"1\" class=\"dataframe\">\n",
       "  <thead>\n",
       "    <tr style=\"text-align: right;\">\n",
       "      <th></th>\n",
       "      <th>Seat No.</th>\n",
       "      <th>PH-121</th>\n",
       "      <th>HS-101</th>\n",
       "      <th>CY-105</th>\n",
       "      <th>HS-105/12</th>\n",
       "      <th>MT-111</th>\n",
       "      <th>CS-105</th>\n",
       "      <th>CS-106</th>\n",
       "      <th>EL-102</th>\n",
       "      <th>EE-119</th>\n",
       "      <th>...</th>\n",
       "      <th>CS-312</th>\n",
       "      <th>CS-317</th>\n",
       "      <th>CS-403</th>\n",
       "      <th>CS-421</th>\n",
       "      <th>CS-406</th>\n",
       "      <th>CS-414</th>\n",
       "      <th>CS-419</th>\n",
       "      <th>CS-423</th>\n",
       "      <th>CS-412</th>\n",
       "      <th>CGPA</th>\n",
       "    </tr>\n",
       "  </thead>\n",
       "  <tbody>\n",
       "    <tr>\n",
       "      <th>0</th>\n",
       "      <td>CS-97001</td>\n",
       "      <td>B-</td>\n",
       "      <td>D+</td>\n",
       "      <td>C-</td>\n",
       "      <td>C</td>\n",
       "      <td>C-</td>\n",
       "      <td>D+</td>\n",
       "      <td>D</td>\n",
       "      <td>C-</td>\n",
       "      <td>B-</td>\n",
       "      <td>...</td>\n",
       "      <td>C-</td>\n",
       "      <td>C-</td>\n",
       "      <td>C-</td>\n",
       "      <td>C-</td>\n",
       "      <td>A-</td>\n",
       "      <td>A</td>\n",
       "      <td>C-</td>\n",
       "      <td>B</td>\n",
       "      <td>A-</td>\n",
       "      <td>2.205</td>\n",
       "    </tr>\n",
       "    <tr>\n",
       "      <th>1</th>\n",
       "      <td>CS-97002</td>\n",
       "      <td>A</td>\n",
       "      <td>D</td>\n",
       "      <td>D+</td>\n",
       "      <td>D</td>\n",
       "      <td>B-</td>\n",
       "      <td>C</td>\n",
       "      <td>D</td>\n",
       "      <td>A</td>\n",
       "      <td>D+</td>\n",
       "      <td>...</td>\n",
       "      <td>D+</td>\n",
       "      <td>D</td>\n",
       "      <td>C</td>\n",
       "      <td>D</td>\n",
       "      <td>A-</td>\n",
       "      <td>B-</td>\n",
       "      <td>C</td>\n",
       "      <td>C</td>\n",
       "      <td>B</td>\n",
       "      <td>2.008</td>\n",
       "    </tr>\n",
       "    <tr>\n",
       "      <th>2</th>\n",
       "      <td>CS-97003</td>\n",
       "      <td>A</td>\n",
       "      <td>B</td>\n",
       "      <td>A</td>\n",
       "      <td>B-</td>\n",
       "      <td>B+</td>\n",
       "      <td>A</td>\n",
       "      <td>B-</td>\n",
       "      <td>B+</td>\n",
       "      <td>A-</td>\n",
       "      <td>...</td>\n",
       "      <td>B</td>\n",
       "      <td>B</td>\n",
       "      <td>A</td>\n",
       "      <td>C</td>\n",
       "      <td>A</td>\n",
       "      <td>A</td>\n",
       "      <td>A</td>\n",
       "      <td>A-</td>\n",
       "      <td>A</td>\n",
       "      <td>3.608</td>\n",
       "    </tr>\n",
       "    <tr>\n",
       "      <th>3</th>\n",
       "      <td>CS-97004</td>\n",
       "      <td>D</td>\n",
       "      <td>C+</td>\n",
       "      <td>D+</td>\n",
       "      <td>D</td>\n",
       "      <td>D</td>\n",
       "      <td>A-</td>\n",
       "      <td>D+</td>\n",
       "      <td>C-</td>\n",
       "      <td>D</td>\n",
       "      <td>...</td>\n",
       "      <td>D+</td>\n",
       "      <td>C</td>\n",
       "      <td>D+</td>\n",
       "      <td>C-</td>\n",
       "      <td>B-</td>\n",
       "      <td>B</td>\n",
       "      <td>C+</td>\n",
       "      <td>C+</td>\n",
       "      <td>C+</td>\n",
       "      <td>1.906</td>\n",
       "    </tr>\n",
       "    <tr>\n",
       "      <th>4</th>\n",
       "      <td>CS-97005</td>\n",
       "      <td>A-</td>\n",
       "      <td>A-</td>\n",
       "      <td>A-</td>\n",
       "      <td>B+</td>\n",
       "      <td>A</td>\n",
       "      <td>A</td>\n",
       "      <td>A-</td>\n",
       "      <td>B+</td>\n",
       "      <td>A</td>\n",
       "      <td>...</td>\n",
       "      <td>B-</td>\n",
       "      <td>B+</td>\n",
       "      <td>B+</td>\n",
       "      <td>B-</td>\n",
       "      <td>A-</td>\n",
       "      <td>A</td>\n",
       "      <td>A-</td>\n",
       "      <td>A-</td>\n",
       "      <td>A</td>\n",
       "      <td>3.448</td>\n",
       "    </tr>\n",
       "    <tr>\n",
       "      <th>...</th>\n",
       "      <td>...</td>\n",
       "      <td>...</td>\n",
       "      <td>...</td>\n",
       "      <td>...</td>\n",
       "      <td>...</td>\n",
       "      <td>...</td>\n",
       "      <td>...</td>\n",
       "      <td>...</td>\n",
       "      <td>...</td>\n",
       "      <td>...</td>\n",
       "      <td>...</td>\n",
       "      <td>...</td>\n",
       "      <td>...</td>\n",
       "      <td>...</td>\n",
       "      <td>...</td>\n",
       "      <td>...</td>\n",
       "      <td>...</td>\n",
       "      <td>...</td>\n",
       "      <td>...</td>\n",
       "      <td>...</td>\n",
       "      <td>...</td>\n",
       "    </tr>\n",
       "    <tr>\n",
       "      <th>566</th>\n",
       "      <td>CS-97567</td>\n",
       "      <td>B</td>\n",
       "      <td>A</td>\n",
       "      <td>A</td>\n",
       "      <td>A-</td>\n",
       "      <td>A+</td>\n",
       "      <td>A</td>\n",
       "      <td>A-</td>\n",
       "      <td>A-</td>\n",
       "      <td>A+</td>\n",
       "      <td>...</td>\n",
       "      <td>A-</td>\n",
       "      <td>A-</td>\n",
       "      <td>A</td>\n",
       "      <td>A</td>\n",
       "      <td>A</td>\n",
       "      <td>B+</td>\n",
       "      <td>B+</td>\n",
       "      <td>B</td>\n",
       "      <td>A</td>\n",
       "      <td>3.798</td>\n",
       "    </tr>\n",
       "    <tr>\n",
       "      <th>567</th>\n",
       "      <td>CS-97568</td>\n",
       "      <td>A+</td>\n",
       "      <td>A</td>\n",
       "      <td>A</td>\n",
       "      <td>A</td>\n",
       "      <td>A</td>\n",
       "      <td>A</td>\n",
       "      <td>A</td>\n",
       "      <td>A-</td>\n",
       "      <td>A</td>\n",
       "      <td>...</td>\n",
       "      <td>B+</td>\n",
       "      <td>B+</td>\n",
       "      <td>A</td>\n",
       "      <td>A</td>\n",
       "      <td>A-</td>\n",
       "      <td>B</td>\n",
       "      <td>A-</td>\n",
       "      <td>C</td>\n",
       "      <td>A-</td>\n",
       "      <td>3.772</td>\n",
       "    </tr>\n",
       "    <tr>\n",
       "      <th>568</th>\n",
       "      <td>CS-97569</td>\n",
       "      <td>B</td>\n",
       "      <td>A</td>\n",
       "      <td>A-</td>\n",
       "      <td>B+</td>\n",
       "      <td>A</td>\n",
       "      <td>A</td>\n",
       "      <td>A</td>\n",
       "      <td>A</td>\n",
       "      <td>A</td>\n",
       "      <td>...</td>\n",
       "      <td>A-</td>\n",
       "      <td>B</td>\n",
       "      <td>A</td>\n",
       "      <td>B+</td>\n",
       "      <td>A</td>\n",
       "      <td>C</td>\n",
       "      <td>B+</td>\n",
       "      <td>A-</td>\n",
       "      <td>A-</td>\n",
       "      <td>3.470</td>\n",
       "    </tr>\n",
       "    <tr>\n",
       "      <th>569</th>\n",
       "      <td>CS-97570</td>\n",
       "      <td>A</td>\n",
       "      <td>B+</td>\n",
       "      <td>D</td>\n",
       "      <td>A</td>\n",
       "      <td>D</td>\n",
       "      <td>D+</td>\n",
       "      <td>B-</td>\n",
       "      <td>C-</td>\n",
       "      <td>B-</td>\n",
       "      <td>...</td>\n",
       "      <td>D</td>\n",
       "      <td>B</td>\n",
       "      <td>B</td>\n",
       "      <td>C-</td>\n",
       "      <td>D</td>\n",
       "      <td>C</td>\n",
       "      <td>B</td>\n",
       "      <td>B-</td>\n",
       "      <td>C</td>\n",
       "      <td>2.193</td>\n",
       "    </tr>\n",
       "    <tr>\n",
       "      <th>570</th>\n",
       "      <td>CS-97571</td>\n",
       "      <td>C</td>\n",
       "      <td>D</td>\n",
       "      <td>D</td>\n",
       "      <td>C</td>\n",
       "      <td>C</td>\n",
       "      <td>D+</td>\n",
       "      <td>B</td>\n",
       "      <td>C+</td>\n",
       "      <td>C</td>\n",
       "      <td>...</td>\n",
       "      <td>C+</td>\n",
       "      <td>C</td>\n",
       "      <td>B-</td>\n",
       "      <td>D</td>\n",
       "      <td>F</td>\n",
       "      <td>C-</td>\n",
       "      <td>B+</td>\n",
       "      <td>D</td>\n",
       "      <td>C-</td>\n",
       "      <td>1.753</td>\n",
       "    </tr>\n",
       "  </tbody>\n",
       "</table>\n",
       "<p>571 rows × 43 columns</p>\n",
       "</div>"
      ],
      "text/plain": [
       "     Seat No. PH-121 HS-101 CY-105 HS-105/12 MT-111 CS-105 CS-106 EL-102  \\\n",
       "0    CS-97001     B-     D+     C-         C     C-     D+      D     C-   \n",
       "1    CS-97002      A      D     D+         D     B-      C      D      A   \n",
       "2    CS-97003      A      B      A        B-     B+      A     B-     B+   \n",
       "3    CS-97004      D     C+     D+         D      D     A-     D+     C-   \n",
       "4    CS-97005     A-     A-     A-        B+      A      A     A-     B+   \n",
       "..        ...    ...    ...    ...       ...    ...    ...    ...    ...   \n",
       "566  CS-97567      B      A      A        A-     A+      A     A-     A-   \n",
       "567  CS-97568     A+      A      A         A      A      A      A     A-   \n",
       "568  CS-97569      B      A     A-        B+      A      A      A      A   \n",
       "569  CS-97570      A     B+      D         A      D     D+     B-     C-   \n",
       "570  CS-97571      C      D      D         C      C     D+      B     C+   \n",
       "\n",
       "    EE-119  ... CS-312 CS-317 CS-403 CS-421 CS-406 CS-414 CS-419 CS-423  \\\n",
       "0       B-  ...     C-     C-     C-     C-     A-      A     C-      B   \n",
       "1       D+  ...     D+      D      C      D     A-     B-      C      C   \n",
       "2       A-  ...      B      B      A      C      A      A      A     A-   \n",
       "3        D  ...     D+      C     D+     C-     B-      B     C+     C+   \n",
       "4        A  ...     B-     B+     B+     B-     A-      A     A-     A-   \n",
       "..     ...  ...    ...    ...    ...    ...    ...    ...    ...    ...   \n",
       "566     A+  ...     A-     A-      A      A      A     B+     B+      B   \n",
       "567      A  ...     B+     B+      A      A     A-      B     A-      C   \n",
       "568      A  ...     A-      B      A     B+      A      C     B+     A-   \n",
       "569     B-  ...      D      B      B     C-      D      C      B     B-   \n",
       "570      C  ...     C+      C     B-      D      F     C-     B+      D   \n",
       "\n",
       "    CS-412   CGPA  \n",
       "0       A-  2.205  \n",
       "1        B  2.008  \n",
       "2        A  3.608  \n",
       "3       C+  1.906  \n",
       "4        A  3.448  \n",
       "..     ...    ...  \n",
       "566      A  3.798  \n",
       "567     A-  3.772  \n",
       "568     A-  3.470  \n",
       "569      C  2.193  \n",
       "570     C-  1.753  \n",
       "\n",
       "[571 rows x 43 columns]"
      ]
     },
     "execution_count": 92,
     "metadata": {},
     "output_type": "execute_result"
    }
   ],
   "source": [
    "df_grades=pd.read_csv(\"grades.csv\")\n",
    "df_grades"
   ]
  },
  {
   "cell_type": "code",
   "execution_count": 93,
   "id": "6f3be61b",
   "metadata": {},
   "outputs": [
    {
     "data": {
      "text/plain": [
       "Index(['Seat No.', 'PH-121', 'HS-101', 'CY-105', 'HS-105/12', 'MT-111',\n",
       "       'CS-105', 'CS-106', 'EL-102', 'EE-119', 'ME-107', 'CS-107', 'HS-205/20',\n",
       "       'MT-222', 'EE-222', 'MT-224', 'CS-210', 'CS-211', 'CS-203', 'CS-214',\n",
       "       'EE-217', 'CS-212', 'CS-215', 'MT-331', 'EF-303', 'HS-304', 'CS-301',\n",
       "       'CS-302', 'TC-383', 'MT-442', 'EL-332', 'CS-318', 'CS-306', 'CS-312',\n",
       "       'CS-317', 'CS-403', 'CS-421', 'CS-406', 'CS-414', 'CS-419', 'CS-423',\n",
       "       'CS-412', 'CGPA'],\n",
       "      dtype='object')"
      ]
     },
     "execution_count": 93,
     "metadata": {},
     "output_type": "execute_result"
    }
   ],
   "source": [
    "df_grades.columns"
   ]
  },
  {
   "cell_type": "markdown",
   "id": "d7bca992",
   "metadata": {},
   "source": [
    "Obs- The course codes are in the format AB-XXX where AB are alphabets representing candidates departments and XXX are numbers where first X represents the year the canditate took examThus , we can say:\n",
    "   * student had 11 subjects in First year,second year and third year\n",
    "   * student had 8 subjects in fourth year    "
   ]
  },
  {
   "cell_type": "markdown",
   "id": "a4f5ca53",
   "metadata": {},
   "source": [
    "## Starting the EDA"
   ]
  },
  {
   "cell_type": "code",
   "execution_count": 94,
   "id": "031fe7e6",
   "metadata": {},
   "outputs": [
    {
     "data": {
      "text/plain": [
       "(571, 43)"
      ]
     },
     "execution_count": 94,
     "metadata": {},
     "output_type": "execute_result"
    }
   ],
   "source": [
    "df_grades.shape"
   ]
  },
  {
   "cell_type": "code",
   "execution_count": 95,
   "id": "b04cece7",
   "metadata": {},
   "outputs": [
    {
     "data": {
      "text/plain": [
       "Seat No.      object\n",
       "PH-121        object\n",
       "HS-101        object\n",
       "CY-105        object\n",
       "HS-105/12     object\n",
       "MT-111        object\n",
       "CS-105        object\n",
       "CS-106        object\n",
       "EL-102        object\n",
       "EE-119        object\n",
       "ME-107        object\n",
       "CS-107        object\n",
       "HS-205/20     object\n",
       "MT-222        object\n",
       "EE-222        object\n",
       "MT-224        object\n",
       "CS-210        object\n",
       "CS-211        object\n",
       "CS-203        object\n",
       "CS-214        object\n",
       "EE-217        object\n",
       "CS-212        object\n",
       "CS-215        object\n",
       "MT-331        object\n",
       "EF-303        object\n",
       "HS-304        object\n",
       "CS-301        object\n",
       "CS-302        object\n",
       "TC-383        object\n",
       "MT-442        object\n",
       "EL-332        object\n",
       "CS-318        object\n",
       "CS-306        object\n",
       "CS-312        object\n",
       "CS-317        object\n",
       "CS-403        object\n",
       "CS-421        object\n",
       "CS-406        object\n",
       "CS-414        object\n",
       "CS-419        object\n",
       "CS-423        object\n",
       "CS-412        object\n",
       "CGPA         float64\n",
       "dtype: object"
      ]
     },
     "execution_count": 95,
     "metadata": {},
     "output_type": "execute_result"
    }
   ],
   "source": [
    "#Checking for data types of all columns\n",
    "df_grades.dtypes"
   ]
  },
  {
   "cell_type": "markdown",
   "id": "3b3a8964",
   "metadata": {},
   "source": [
    "Obs- We can see, except for CGPA, all other columns are object type, so will be encoding it later"
   ]
  },
  {
   "cell_type": "code",
   "execution_count": 96,
   "id": "1f1febfd",
   "metadata": {},
   "outputs": [
    {
     "data": {
      "text/plain": [
       "Seat No.      0\n",
       "PH-121        0\n",
       "HS-101        0\n",
       "CY-105        1\n",
       "HS-105/12     1\n",
       "MT-111        2\n",
       "CS-105        0\n",
       "CS-106        2\n",
       "EL-102        2\n",
       "EE-119        2\n",
       "ME-107        2\n",
       "CS-107        2\n",
       "HS-205/20     5\n",
       "MT-222        5\n",
       "EE-222        7\n",
       "MT-224        7\n",
       "CS-210        7\n",
       "CS-211        5\n",
       "CS-203        5\n",
       "CS-214        6\n",
       "EE-217        6\n",
       "CS-212        6\n",
       "CS-215        6\n",
       "MT-331        9\n",
       "EF-303       10\n",
       "HS-304       10\n",
       "CS-301       10\n",
       "CS-302       10\n",
       "TC-383       10\n",
       "MT-442       10\n",
       "EL-332        9\n",
       "CS-318        9\n",
       "CS-306        9\n",
       "CS-312       10\n",
       "CS-317       12\n",
       "CS-403       12\n",
       "CS-421       12\n",
       "CS-406       85\n",
       "CS-414       13\n",
       "CS-419       13\n",
       "CS-423       14\n",
       "CS-412       79\n",
       "CGPA          0\n",
       "dtype: int64"
      ]
     },
     "execution_count": 96,
     "metadata": {},
     "output_type": "execute_result"
    }
   ],
   "source": [
    "#Checking for null values\n",
    "df_grades.isnull().sum()"
   ]
  },
  {
   "cell_type": "markdown",
   "id": "261f4077",
   "metadata": {},
   "source": [
    "Obs-We can see there are null values in many columns, thus we will be treating it later"
   ]
  },
  {
   "cell_type": "code",
   "execution_count": 7,
   "id": "49cb7d07",
   "metadata": {},
   "outputs": [
    {
     "data": {
      "text/plain": [
       "Seat No.     571\n",
       "PH-121        13\n",
       "HS-101        12\n",
       "CY-105        13\n",
       "HS-105/12     13\n",
       "MT-111        13\n",
       "CS-105        11\n",
       "CS-106        13\n",
       "EL-102        13\n",
       "EE-119        12\n",
       "ME-107        13\n",
       "CS-107        14\n",
       "HS-205/20     13\n",
       "MT-222        14\n",
       "EE-222        13\n",
       "MT-224        14\n",
       "CS-210        14\n",
       "CS-211        14\n",
       "CS-203        13\n",
       "CS-214        13\n",
       "EE-217        13\n",
       "CS-212        12\n",
       "CS-215        14\n",
       "MT-331        12\n",
       "EF-303        12\n",
       "HS-304        14\n",
       "CS-301        12\n",
       "CS-302        11\n",
       "TC-383        12\n",
       "MT-442        12\n",
       "EL-332        13\n",
       "CS-318        14\n",
       "CS-306        13\n",
       "CS-312        14\n",
       "CS-317        12\n",
       "CS-403        11\n",
       "CS-421        13\n",
       "CS-406        14\n",
       "CS-414        13\n",
       "CS-419        12\n",
       "CS-423        12\n",
       "CS-412        13\n",
       "CGPA         491\n",
       "dtype: int64"
      ]
     },
     "execution_count": 7,
     "metadata": {},
     "output_type": "execute_result"
    }
   ],
   "source": [
    "#Checking the number of unique values in all columns\n",
    "df_grades.nunique()"
   ]
  },
  {
   "cell_type": "code",
   "execution_count": 8,
   "id": "832ecfae",
   "metadata": {},
   "outputs": [
    {
     "data": {
      "text/html": [
       "<div>\n",
       "<style scoped>\n",
       "    .dataframe tbody tr th:only-of-type {\n",
       "        vertical-align: middle;\n",
       "    }\n",
       "\n",
       "    .dataframe tbody tr th {\n",
       "        vertical-align: top;\n",
       "    }\n",
       "\n",
       "    .dataframe thead th {\n",
       "        text-align: right;\n",
       "    }\n",
       "</style>\n",
       "<table border=\"1\" class=\"dataframe\">\n",
       "  <thead>\n",
       "    <tr style=\"text-align: right;\">\n",
       "      <th></th>\n",
       "      <th>CGPA</th>\n",
       "    </tr>\n",
       "  </thead>\n",
       "  <tbody>\n",
       "    <tr>\n",
       "      <th>count</th>\n",
       "      <td>571.000000</td>\n",
       "    </tr>\n",
       "    <tr>\n",
       "      <th>mean</th>\n",
       "      <td>2.954888</td>\n",
       "    </tr>\n",
       "    <tr>\n",
       "      <th>std</th>\n",
       "      <td>0.620552</td>\n",
       "    </tr>\n",
       "    <tr>\n",
       "      <th>min</th>\n",
       "      <td>0.800000</td>\n",
       "    </tr>\n",
       "    <tr>\n",
       "      <th>25%</th>\n",
       "      <td>2.538000</td>\n",
       "    </tr>\n",
       "    <tr>\n",
       "      <th>50%</th>\n",
       "      <td>3.029000</td>\n",
       "    </tr>\n",
       "    <tr>\n",
       "      <th>75%</th>\n",
       "      <td>3.451000</td>\n",
       "    </tr>\n",
       "    <tr>\n",
       "      <th>max</th>\n",
       "      <td>3.985000</td>\n",
       "    </tr>\n",
       "  </tbody>\n",
       "</table>\n",
       "</div>"
      ],
      "text/plain": [
       "             CGPA\n",
       "count  571.000000\n",
       "mean     2.954888\n",
       "std      0.620552\n",
       "min      0.800000\n",
       "25%      2.538000\n",
       "50%      3.029000\n",
       "75%      3.451000\n",
       "max      3.985000"
      ]
     },
     "execution_count": 8,
     "metadata": {},
     "output_type": "execute_result"
    }
   ],
   "source": [
    "df_grades.describe()"
   ]
  },
  {
   "cell_type": "markdown",
   "id": "ca4b15fa",
   "metadata": {},
   "source": [
    "Obs- We can see mean is less than median in the output column, that means the data is left skewed"
   ]
  },
  {
   "cell_type": "markdown",
   "id": "96dc65f6",
   "metadata": {},
   "source": [
    "### Data Visualization"
   ]
  },
  {
   "cell_type": "markdown",
   "id": "afc41c8f",
   "metadata": {},
   "source": [
    "##### Univariate Analysis"
   ]
  },
  {
   "cell_type": "code",
   "execution_count": 9,
   "id": "d4fe7e4e",
   "metadata": {},
   "outputs": [
    {
     "name": "stdout",
     "output_type": "stream",
     "text": [
      "A-    112\n",
      "A     111\n",
      "B+     61\n",
      "B      57\n",
      "B-     56\n",
      "D      44\n",
      "C      33\n",
      "C+     31\n",
      "D+     22\n",
      "A+     22\n",
      "C-     19\n",
      "WU      2\n",
      "F       1\n",
      "Name: PH-121, dtype: int64\n"
     ]
    },
    {
     "data": {
      "text/plain": [
       "<AxesSubplot:xlabel='PH-121', ylabel='count'>"
      ]
     },
     "execution_count": 9,
     "metadata": {},
     "output_type": "execute_result"
    },
    {
     "data": {
      "image/png": "[encoded data removed]",
      "text/plain": [
       "<Figure size 576x576 with 1 Axes>"
      ]
     },
     "metadata": {
      "needs_background": "light"
     },
     "output_type": "display_data"
    }
   ],
   "source": [
    "#countplot for few subjects and their grades\n",
    "plt.figure(figsize=(8,8))\n",
    "print(df_grades[\"PH-121\"].value_counts())\n",
    "sns.countplot(x=\"PH-121\", data=df_grades)"
   ]
  },
  {
   "cell_type": "markdown",
   "id": "970bd066",
   "metadata": {},
   "source": [
    "Obs- We can see many students have scored maximum grades(A,A-) in subject Physics and a very few who failed or were absent"
   ]
  },
  {
   "cell_type": "code",
   "execution_count": 10,
   "id": "ae485437",
   "metadata": {},
   "outputs": [
    {
     "name": "stdout",
     "output_type": "stream",
     "text": [
      "A-    105\n",
      "A     100\n",
      "B-     70\n",
      "B+     62\n",
      "B      55\n",
      "C-     39\n",
      "C+     33\n",
      "C      30\n",
      "D      26\n",
      "A+     23\n",
      "D+     21\n",
      "WU      3\n",
      "F       2\n",
      "Name: MT-111, dtype: int64\n"
     ]
    },
    {
     "data": {
      "text/plain": [
       "<AxesSubplot:xlabel='MT-111', ylabel='count'>"
      ]
     },
     "execution_count": 10,
     "metadata": {},
     "output_type": "execute_result"
    },
    {
     "data": {
      "image/png": "[encoded data removed]",
      "text/plain": [
       "<Figure size 576x576 with 1 Axes>"
      ]
     },
     "metadata": {
      "needs_background": "light"
     },
     "output_type": "display_data"
    }
   ],
   "source": [
    "plt.figure(figsize=(8,8))\n",
    "print(df_grades[\"MT-111\"].value_counts())\n",
    "sns.countplot(x=\"MT-111\", data=df_grades)"
   ]
  },
  {
   "cell_type": "markdown",
   "id": "6f7804bb",
   "metadata": {},
   "source": [
    "Obs- We can see many students have scored maximum grades(A,A-) in subject MT-111 and a very few who failed or were absent"
   ]
  },
  {
   "cell_type": "code",
   "execution_count": 11,
   "id": "0941ea0f",
   "metadata": {},
   "outputs": [
    {
     "name": "stdout",
     "output_type": "stream",
     "text": [
      "A-    150\n",
      "A     118\n",
      "B      97\n",
      "B+     89\n",
      "B-     36\n",
      "C+     33\n",
      "C      15\n",
      "C-     11\n",
      "D+      9\n",
      "D       3\n",
      "A+      2\n",
      "F       2\n",
      "WU      1\n",
      "Name: HS-205/20, dtype: int64\n"
     ]
    },
    {
     "data": {
      "text/plain": [
       "<AxesSubplot:xlabel='HS-205/20', ylabel='count'>"
      ]
     },
     "execution_count": 11,
     "metadata": {},
     "output_type": "execute_result"
    },
    {
     "data": {
      "image/png": "[encoded data removed]",
      "text/plain": [
       "<Figure size 576x576 with 1 Axes>"
      ]
     },
     "metadata": {
      "needs_background": "light"
     },
     "output_type": "display_data"
    }
   ],
   "source": [
    "plt.figure(figsize=(8,8))\n",
    "print(df_grades[\"HS-205/20\"].value_counts())\n",
    "sns.countplot(x=\"HS-205/20\", data=df_grades)"
   ]
  },
  {
   "cell_type": "markdown",
   "id": "72c1b422",
   "metadata": {},
   "source": [
    "Obs- We can see many students have scored maximum grades(A,A-) in subject HS and a very few who failed or were absent"
   ]
  },
  {
   "cell_type": "code",
   "execution_count": 12,
   "id": "f8bae615",
   "metadata": {},
   "outputs": [
    {
     "name": "stdout",
     "output_type": "stream",
     "text": [
      "A-    101\n",
      "B+     86\n",
      "B      81\n",
      "B-     65\n",
      "C      44\n",
      "A      43\n",
      "D+     36\n",
      "C+     35\n",
      "C-     35\n",
      "D      33\n",
      "A+      4\n",
      "WU      2\n",
      "Name: CS-212, dtype: int64\n"
     ]
    },
    {
     "data": {
      "text/plain": [
       "<AxesSubplot:xlabel='CS-212', ylabel='count'>"
      ]
     },
     "execution_count": 12,
     "metadata": {},
     "output_type": "execute_result"
    },
    {
     "data": {
      "image/png": "[encoded data removed]",
      "text/plain": [
       "<Figure size 576x576 with 1 Axes>"
      ]
     },
     "metadata": {
      "needs_background": "light"
     },
     "output_type": "display_data"
    }
   ],
   "source": [
    "plt.figure(figsize=(8,8))\n",
    "print(df_grades[\"CS-212\"].value_counts())\n",
    "sns.countplot(x=\"CS-212\", data=df_grades)"
   ]
  },
  {
   "cell_type": "markdown",
   "id": "0f429aae",
   "metadata": {},
   "source": [
    "Obs- We can see many students have scored maximum grades(A-,B+,B) in subject CS and none who failed and very few were absent"
   ]
  },
  {
   "cell_type": "code",
   "execution_count": 13,
   "id": "bdd125b3",
   "metadata": {},
   "outputs": [
    {
     "name": "stdout",
     "output_type": "stream",
     "text": [
      "A     118\n",
      "A-    103\n",
      "B+     64\n",
      "B      57\n",
      "B-     46\n",
      "C-     32\n",
      "D+     31\n",
      "A+     30\n",
      "C      28\n",
      "C+     27\n",
      "D      22\n",
      "F       4\n",
      "Name: MT-331, dtype: int64\n"
     ]
    },
    {
     "data": {
      "text/plain": [
       "<AxesSubplot:xlabel='MT-331', ylabel='count'>"
      ]
     },
     "execution_count": 13,
     "metadata": {},
     "output_type": "execute_result"
    },
    {
     "data": {
      "image/png": "[encoded data removed]",
      "text/plain": [
       "<Figure size 576x576 with 1 Axes>"
      ]
     },
     "metadata": {
      "needs_background": "light"
     },
     "output_type": "display_data"
    }
   ],
   "source": [
    "plt.figure(figsize=(8,8))\n",
    "print(df_grades[\"MT-331\"].value_counts())\n",
    "sns.countplot(x=\"MT-331\", data=df_grades)"
   ]
  },
  {
   "cell_type": "markdown",
   "id": "f53ba987",
   "metadata": {},
   "source": [
    "Obs- We can see many students have scored maximum grades(A,A-) in subject MT and a very few who failed and none were absent"
   ]
  },
  {
   "cell_type": "code",
   "execution_count": 97,
   "id": "e00794ea",
   "metadata": {},
   "outputs": [
    {
     "name": "stdout",
     "output_type": "stream",
     "text": [
      "A-    113\n",
      "B     102\n",
      "A      86\n",
      "B+     81\n",
      "B-     60\n",
      "C+     32\n",
      "C      28\n",
      "D      21\n",
      "C-     19\n",
      "D+     10\n",
      "A+      9\n",
      "Name: CS-302, dtype: int64\n"
     ]
    },
    {
     "data": {
      "text/plain": [
       "<AxesSubplot:xlabel='CS-302', ylabel='count'>"
      ]
     },
     "execution_count": 97,
     "metadata": {},
     "output_type": "execute_result"
    },
    {
     "data": {
      "image/png": "[encoded data removed]",
      "text/plain": [
       "<Figure size 720x720 with 1 Axes>"
      ]
     },
     "metadata": {
      "needs_background": "light"
     },
     "output_type": "display_data"
    }
   ],
   "source": [
    "plt.figure(figsize=(10,10))\n",
    "print(df_grades[\"CS-302\"].value_counts())\n",
    "sns.countplot(x=\"CS-302\", data=df_grades)\n"
   ]
  },
  {
   "cell_type": "markdown",
   "id": "ca13a1ed",
   "metadata": {},
   "source": [
    "Obs-We can see many students have scored maximum grades(A,B) in subject CS and none failed or were absent"
   ]
  },
  {
   "cell_type": "code",
   "execution_count": 15,
   "id": "f64b7f6b",
   "metadata": {},
   "outputs": [
    {
     "name": "stdout",
     "output_type": "stream",
     "text": [
      "A     133\n",
      "A-    106\n",
      "B+     62\n",
      "B-     55\n",
      "B      54\n",
      "D+     35\n",
      "C      33\n",
      "C+     32\n",
      "C-     30\n",
      "A+     15\n",
      "D       4\n",
      "Name: CS-403, dtype: int64\n"
     ]
    },
    {
     "data": {
      "text/plain": [
       "<AxesSubplot:xlabel='CS-403', ylabel='count'>"
      ]
     },
     "execution_count": 15,
     "metadata": {},
     "output_type": "execute_result"
    },
    {
     "data": {
      "image/png": "[encoded data removed]",
      "text/plain": [
       "<Figure size 576x576 with 1 Axes>"
      ]
     },
     "metadata": {
      "needs_background": "light"
     },
     "output_type": "display_data"
    }
   ],
   "source": [
    "plt.figure(figsize=(8,8))\n",
    "print(df_grades[\"CS-403\"].value_counts())\n",
    "sns.countplot(x=\"CS-403\", data=df_grades)"
   ]
  },
  {
   "cell_type": "markdown",
   "id": "b6fec2ca",
   "metadata": {},
   "source": [
    "Obs- We can see many students have scored maximum grades(A,A-) in subject CS and none who failed or were absent"
   ]
  },
  {
   "cell_type": "code",
   "execution_count": 16,
   "id": "f8712b54",
   "metadata": {},
   "outputs": [
    {
     "name": "stdout",
     "output_type": "stream",
     "text": [
      "A-    120\n",
      "B      89\n",
      "B+     85\n",
      "B-     78\n",
      "A      56\n",
      "C+     46\n",
      "C      40\n",
      "C-     20\n",
      "D+     13\n",
      "D       7\n",
      "A+      2\n",
      "F       2\n",
      "Name: CS-419, dtype: int64\n"
     ]
    },
    {
     "data": {
      "text/plain": [
       "<AxesSubplot:xlabel='CS-419', ylabel='count'>"
      ]
     },
     "execution_count": 16,
     "metadata": {},
     "output_type": "execute_result"
    },
    {
     "data": {
      "image/png": "[encoded data removed]",
      "text/plain": [
       "<Figure size 576x576 with 1 Axes>"
      ]
     },
     "metadata": {
      "needs_background": "light"
     },
     "output_type": "display_data"
    }
   ],
   "source": [
    "plt.figure(figsize=(8,8))\n",
    "print(df_grades[\"CS-419\"].value_counts())\n",
    "sns.countplot(x=\"CS-419\", data=df_grades)"
   ]
  },
  {
   "cell_type": "markdown",
   "id": "c87006ac",
   "metadata": {},
   "source": [
    "Obs- We can see many students have scored maximum grades(A,B) in subject CS and a very few who failed and none were absent"
   ]
  },
  {
   "cell_type": "markdown",
   "id": "71bca392",
   "metadata": {},
   "source": [
    "### Data Cleaning and Pre-Processing"
   ]
  },
  {
   "cell_type": "markdown",
   "id": "a62a1785",
   "metadata": {},
   "source": [
    "#### Encoding Categorical Data"
   ]
  },
  {
   "cell_type": "code",
   "execution_count": 99,
   "id": "cd4d2b78",
   "metadata": {
    "scrolled": false
   },
   "outputs": [
    {
     "data": {
      "text/html": [
       "<div>\n",
       "<style scoped>\n",
       "    .dataframe tbody tr th:only-of-type {\n",
       "        vertical-align: middle;\n",
       "    }\n",
       "\n",
       "    .dataframe tbody tr th {\n",
       "        vertical-align: top;\n",
       "    }\n",
       "\n",
       "    .dataframe thead th {\n",
       "        text-align: right;\n",
       "    }\n",
       "</style>\n",
       "<table border=\"1\" class=\"dataframe\">\n",
       "  <thead>\n",
       "    <tr style=\"text-align: right;\">\n",
       "      <th></th>\n",
       "      <th>Seat No.</th>\n",
       "      <th>PH-121</th>\n",
       "      <th>HS-101</th>\n",
       "      <th>CY-105</th>\n",
       "      <th>HS-105/12</th>\n",
       "      <th>MT-111</th>\n",
       "      <th>CS-105</th>\n",
       "      <th>CS-106</th>\n",
       "      <th>EL-102</th>\n",
       "      <th>EE-119</th>\n",
       "      <th>...</th>\n",
       "      <th>CS-312</th>\n",
       "      <th>CS-317</th>\n",
       "      <th>CS-403</th>\n",
       "      <th>CS-421</th>\n",
       "      <th>CS-406</th>\n",
       "      <th>CS-414</th>\n",
       "      <th>CS-419</th>\n",
       "      <th>CS-423</th>\n",
       "      <th>CS-412</th>\n",
       "      <th>CGPA</th>\n",
       "    </tr>\n",
       "  </thead>\n",
       "  <tbody>\n",
       "    <tr>\n",
       "      <th>0</th>\n",
       "      <td>CS-97001</td>\n",
       "      <td>5</td>\n",
       "      <td>10</td>\n",
       "      <td>8</td>\n",
       "      <td>6</td>\n",
       "      <td>8</td>\n",
       "      <td>10</td>\n",
       "      <td>9</td>\n",
       "      <td>8</td>\n",
       "      <td>5</td>\n",
       "      <td>...</td>\n",
       "      <td>8</td>\n",
       "      <td>8</td>\n",
       "      <td>8</td>\n",
       "      <td>8</td>\n",
       "      <td>2</td>\n",
       "      <td>0</td>\n",
       "      <td>8</td>\n",
       "      <td>3</td>\n",
       "      <td>2</td>\n",
       "      <td>2.205</td>\n",
       "    </tr>\n",
       "    <tr>\n",
       "      <th>1</th>\n",
       "      <td>CS-97002</td>\n",
       "      <td>0</td>\n",
       "      <td>9</td>\n",
       "      <td>10</td>\n",
       "      <td>9</td>\n",
       "      <td>5</td>\n",
       "      <td>6</td>\n",
       "      <td>9</td>\n",
       "      <td>0</td>\n",
       "      <td>10</td>\n",
       "      <td>...</td>\n",
       "      <td>10</td>\n",
       "      <td>9</td>\n",
       "      <td>6</td>\n",
       "      <td>9</td>\n",
       "      <td>2</td>\n",
       "      <td>5</td>\n",
       "      <td>6</td>\n",
       "      <td>6</td>\n",
       "      <td>3</td>\n",
       "      <td>2.008</td>\n",
       "    </tr>\n",
       "    <tr>\n",
       "      <th>2</th>\n",
       "      <td>CS-97003</td>\n",
       "      <td>0</td>\n",
       "      <td>3</td>\n",
       "      <td>0</td>\n",
       "      <td>5</td>\n",
       "      <td>4</td>\n",
       "      <td>0</td>\n",
       "      <td>5</td>\n",
       "      <td>4</td>\n",
       "      <td>2</td>\n",
       "      <td>...</td>\n",
       "      <td>3</td>\n",
       "      <td>3</td>\n",
       "      <td>0</td>\n",
       "      <td>6</td>\n",
       "      <td>0</td>\n",
       "      <td>0</td>\n",
       "      <td>0</td>\n",
       "      <td>2</td>\n",
       "      <td>0</td>\n",
       "      <td>3.608</td>\n",
       "    </tr>\n",
       "    <tr>\n",
       "      <th>3</th>\n",
       "      <td>CS-97004</td>\n",
       "      <td>9</td>\n",
       "      <td>7</td>\n",
       "      <td>10</td>\n",
       "      <td>9</td>\n",
       "      <td>9</td>\n",
       "      <td>2</td>\n",
       "      <td>10</td>\n",
       "      <td>8</td>\n",
       "      <td>9</td>\n",
       "      <td>...</td>\n",
       "      <td>10</td>\n",
       "      <td>6</td>\n",
       "      <td>10</td>\n",
       "      <td>8</td>\n",
       "      <td>5</td>\n",
       "      <td>3</td>\n",
       "      <td>7</td>\n",
       "      <td>7</td>\n",
       "      <td>7</td>\n",
       "      <td>1.906</td>\n",
       "    </tr>\n",
       "    <tr>\n",
       "      <th>4</th>\n",
       "      <td>CS-97005</td>\n",
       "      <td>2</td>\n",
       "      <td>2</td>\n",
       "      <td>2</td>\n",
       "      <td>4</td>\n",
       "      <td>0</td>\n",
       "      <td>0</td>\n",
       "      <td>2</td>\n",
       "      <td>4</td>\n",
       "      <td>0</td>\n",
       "      <td>...</td>\n",
       "      <td>5</td>\n",
       "      <td>4</td>\n",
       "      <td>4</td>\n",
       "      <td>5</td>\n",
       "      <td>2</td>\n",
       "      <td>0</td>\n",
       "      <td>2</td>\n",
       "      <td>2</td>\n",
       "      <td>0</td>\n",
       "      <td>3.448</td>\n",
       "    </tr>\n",
       "    <tr>\n",
       "      <th>...</th>\n",
       "      <td>...</td>\n",
       "      <td>...</td>\n",
       "      <td>...</td>\n",
       "      <td>...</td>\n",
       "      <td>...</td>\n",
       "      <td>...</td>\n",
       "      <td>...</td>\n",
       "      <td>...</td>\n",
       "      <td>...</td>\n",
       "      <td>...</td>\n",
       "      <td>...</td>\n",
       "      <td>...</td>\n",
       "      <td>...</td>\n",
       "      <td>...</td>\n",
       "      <td>...</td>\n",
       "      <td>...</td>\n",
       "      <td>...</td>\n",
       "      <td>...</td>\n",
       "      <td>...</td>\n",
       "      <td>...</td>\n",
       "      <td>...</td>\n",
       "    </tr>\n",
       "    <tr>\n",
       "      <th>566</th>\n",
       "      <td>CS-97567</td>\n",
       "      <td>3</td>\n",
       "      <td>0</td>\n",
       "      <td>0</td>\n",
       "      <td>2</td>\n",
       "      <td>1</td>\n",
       "      <td>0</td>\n",
       "      <td>2</td>\n",
       "      <td>2</td>\n",
       "      <td>1</td>\n",
       "      <td>...</td>\n",
       "      <td>2</td>\n",
       "      <td>2</td>\n",
       "      <td>0</td>\n",
       "      <td>0</td>\n",
       "      <td>0</td>\n",
       "      <td>4</td>\n",
       "      <td>4</td>\n",
       "      <td>3</td>\n",
       "      <td>0</td>\n",
       "      <td>3.798</td>\n",
       "    </tr>\n",
       "    <tr>\n",
       "      <th>567</th>\n",
       "      <td>CS-97568</td>\n",
       "      <td>1</td>\n",
       "      <td>0</td>\n",
       "      <td>0</td>\n",
       "      <td>0</td>\n",
       "      <td>0</td>\n",
       "      <td>0</td>\n",
       "      <td>0</td>\n",
       "      <td>2</td>\n",
       "      <td>0</td>\n",
       "      <td>...</td>\n",
       "      <td>4</td>\n",
       "      <td>4</td>\n",
       "      <td>0</td>\n",
       "      <td>0</td>\n",
       "      <td>2</td>\n",
       "      <td>3</td>\n",
       "      <td>2</td>\n",
       "      <td>6</td>\n",
       "      <td>2</td>\n",
       "      <td>3.772</td>\n",
       "    </tr>\n",
       "    <tr>\n",
       "      <th>568</th>\n",
       "      <td>CS-97569</td>\n",
       "      <td>3</td>\n",
       "      <td>0</td>\n",
       "      <td>2</td>\n",
       "      <td>4</td>\n",
       "      <td>0</td>\n",
       "      <td>0</td>\n",
       "      <td>0</td>\n",
       "      <td>0</td>\n",
       "      <td>0</td>\n",
       "      <td>...</td>\n",
       "      <td>2</td>\n",
       "      <td>3</td>\n",
       "      <td>0</td>\n",
       "      <td>4</td>\n",
       "      <td>0</td>\n",
       "      <td>6</td>\n",
       "      <td>4</td>\n",
       "      <td>2</td>\n",
       "      <td>2</td>\n",
       "      <td>3.470</td>\n",
       "    </tr>\n",
       "    <tr>\n",
       "      <th>569</th>\n",
       "      <td>CS-97570</td>\n",
       "      <td>0</td>\n",
       "      <td>4</td>\n",
       "      <td>9</td>\n",
       "      <td>0</td>\n",
       "      <td>9</td>\n",
       "      <td>10</td>\n",
       "      <td>5</td>\n",
       "      <td>8</td>\n",
       "      <td>5</td>\n",
       "      <td>...</td>\n",
       "      <td>9</td>\n",
       "      <td>3</td>\n",
       "      <td>3</td>\n",
       "      <td>8</td>\n",
       "      <td>9</td>\n",
       "      <td>6</td>\n",
       "      <td>3</td>\n",
       "      <td>5</td>\n",
       "      <td>6</td>\n",
       "      <td>2.193</td>\n",
       "    </tr>\n",
       "    <tr>\n",
       "      <th>570</th>\n",
       "      <td>CS-97571</td>\n",
       "      <td>6</td>\n",
       "      <td>9</td>\n",
       "      <td>9</td>\n",
       "      <td>6</td>\n",
       "      <td>6</td>\n",
       "      <td>10</td>\n",
       "      <td>3</td>\n",
       "      <td>7</td>\n",
       "      <td>6</td>\n",
       "      <td>...</td>\n",
       "      <td>7</td>\n",
       "      <td>6</td>\n",
       "      <td>5</td>\n",
       "      <td>9</td>\n",
       "      <td>11</td>\n",
       "      <td>8</td>\n",
       "      <td>4</td>\n",
       "      <td>9</td>\n",
       "      <td>8</td>\n",
       "      <td>1.753</td>\n",
       "    </tr>\n",
       "  </tbody>\n",
       "</table>\n",
       "<p>571 rows × 43 columns</p>\n",
       "</div>"
      ],
      "text/plain": [
       "     Seat No.  PH-121  HS-101  CY-105  HS-105/12  MT-111  CS-105  CS-106  \\\n",
       "0    CS-97001       5      10       8          6       8      10       9   \n",
       "1    CS-97002       0       9      10          9       5       6       9   \n",
       "2    CS-97003       0       3       0          5       4       0       5   \n",
       "3    CS-97004       9       7      10          9       9       2      10   \n",
       "4    CS-97005       2       2       2          4       0       0       2   \n",
       "..        ...     ...     ...     ...        ...     ...     ...     ...   \n",
       "566  CS-97567       3       0       0          2       1       0       2   \n",
       "567  CS-97568       1       0       0          0       0       0       0   \n",
       "568  CS-97569       3       0       2          4       0       0       0   \n",
       "569  CS-97570       0       4       9          0       9      10       5   \n",
       "570  CS-97571       6       9       9          6       6      10       3   \n",
       "\n",
       "     EL-102  EE-119  ...  CS-312  CS-317  CS-403  CS-421  CS-406  CS-414  \\\n",
       "0         8       5  ...       8       8       8       8       2       0   \n",
       "1         0      10  ...      10       9       6       9       2       5   \n",
       "2         4       2  ...       3       3       0       6       0       0   \n",
       "3         8       9  ...      10       6      10       8       5       3   \n",
       "4         4       0  ...       5       4       4       5       2       0   \n",
       "..      ...     ...  ...     ...     ...     ...     ...     ...     ...   \n",
       "566       2       1  ...       2       2       0       0       0       4   \n",
       "567       2       0  ...       4       4       0       0       2       3   \n",
       "568       0       0  ...       2       3       0       4       0       6   \n",
       "569       8       5  ...       9       3       3       8       9       6   \n",
       "570       7       6  ...       7       6       5       9      11       8   \n",
       "\n",
       "     CS-419  CS-423  CS-412   CGPA  \n",
       "0         8       3       2  2.205  \n",
       "1         6       6       3  2.008  \n",
       "2         0       2       0  3.608  \n",
       "3         7       7       7  1.906  \n",
       "4         2       2       0  3.448  \n",
       "..      ...     ...     ...    ...  \n",
       "566       4       3       0  3.798  \n",
       "567       2       6       2  3.772  \n",
       "568       4       2       2  3.470  \n",
       "569       3       5       6  2.193  \n",
       "570       4       9       8  1.753  \n",
       "\n",
       "[571 rows x 43 columns]"
      ]
     },
     "execution_count": 99,
     "metadata": {},
     "output_type": "execute_result"
    }
   ],
   "source": [
    "from sklearn.preprocessing import LabelEncoder\n",
    "cols=['PH-121', 'HS-101', 'CY-105', 'HS-105/12', 'MT-111',\n",
    "       'CS-105', 'CS-106', 'EL-102', 'EE-119', 'ME-107', 'CS-107', 'HS-205/20',\n",
    "       'MT-222', 'EE-222', 'MT-224', 'CS-210', 'CS-211', 'CS-203', 'CS-214',\n",
    "       'EE-217', 'CS-212', 'CS-215', 'MT-331', 'EF-303', 'HS-304', 'CS-301',\n",
    "       'CS-302', 'TC-383', 'MT-442', 'EL-332', 'CS-318', 'CS-306', 'CS-312',\n",
    "       'CS-317', 'CS-403', 'CS-421', 'CS-406', 'CS-414', 'CS-419', 'CS-423',\n",
    "       'CS-412']\n",
    "le=LabelEncoder()\n",
    "df_grades[cols]=df_grades[cols].apply(le.fit_transform)\n",
    "df_grades"
   ]
  },
  {
   "cell_type": "markdown",
   "id": "d4da6972",
   "metadata": {},
   "source": [
    "Obs- The grades encoded are as follows:\n",
    "\n",
    "\"A:0\", \"A+:1\",\"A-:2\",\"B:3\",\"B+:4\",\"B-:5\",\"C:6\",\"C+:7\",\"C-:8\",\"D:9\",\"D+:10\",\"F:11\",\"WU:12\""
   ]
  },
  {
   "cell_type": "markdown",
   "id": "a8675147",
   "metadata": {},
   "source": [
    "#### Removing and filling Null Values "
   ]
  },
  {
   "cell_type": "markdown",
   "id": "1cf3a47d",
   "metadata": {},
   "source": [
    "#There were null values in many columns but only in few rows, so we willl be dropping that rows, But for columns \"CS-406\" and \"CS-412\", Null count =85,79 respectively, we will be imputing those rows with mean values"
   ]
  },
  {
   "cell_type": "code",
   "execution_count": 100,
   "id": "adb7deea",
   "metadata": {},
   "outputs": [],
   "source": [
    "df_grades[\"CS-406\"] = df_grades[\"CS-406\"].fillna(df_grades[\"CS-406\"].mean())\n",
    "df_grades[\"CS-412\"] = df_grades[\"CS-412\"].fillna(df_grades[\"CS-412\"].mean())"
   ]
  },
  {
   "cell_type": "code",
   "execution_count": 101,
   "id": "9a3d0856",
   "metadata": {},
   "outputs": [
    {
     "data": {
      "text/plain": [
       "0"
      ]
     },
     "execution_count": 101,
     "metadata": {},
     "output_type": "execute_result"
    }
   ],
   "source": [
    "#Checking the null count for validation\n",
    "df_grades[\"CS-406\"].isnull().sum()"
   ]
  },
  {
   "cell_type": "code",
   "execution_count": 102,
   "id": "4f4961fb",
   "metadata": {},
   "outputs": [
    {
     "data": {
      "text/plain": [
       "0"
      ]
     },
     "execution_count": 102,
     "metadata": {},
     "output_type": "execute_result"
    }
   ],
   "source": [
    "df_grades[\"CS-412\"].isnull().sum()"
   ]
  },
  {
   "cell_type": "markdown",
   "id": "dc3c37d5",
   "metadata": {},
   "source": [
    "Dropping Seat-No column since it is not important in analysing the CGPA "
   ]
  },
  {
   "cell_type": "code",
   "execution_count": 103,
   "id": "665628eb",
   "metadata": {},
   "outputs": [],
   "source": [
    "df_grades.drop(columns='Seat No.',axis=1, inplace=True)"
   ]
  },
  {
   "cell_type": "code",
   "execution_count": 104,
   "id": "48232ec3",
   "metadata": {},
   "outputs": [
    {
     "data": {
      "text/plain": [
       "(571, 42)"
      ]
     },
     "execution_count": 104,
     "metadata": {},
     "output_type": "execute_result"
    }
   ],
   "source": [
    "df_grades.shape"
   ]
  },
  {
   "cell_type": "code",
   "execution_count": 105,
   "id": "55a81c25",
   "metadata": {},
   "outputs": [],
   "source": [
    "# Deleting all other rows where null values are present\n",
    "df_grades.dropna(inplace=True)"
   ]
  },
  {
   "cell_type": "code",
   "execution_count": 24,
   "id": "24b2331d",
   "metadata": {},
   "outputs": [
    {
     "data": {
      "text/plain": [
       "PH-121       0\n",
       "HS-101       0\n",
       "CY-105       0\n",
       "HS-105/12    0\n",
       "MT-111       0\n",
       "CS-105       0\n",
       "CS-106       0\n",
       "EL-102       0\n",
       "EE-119       0\n",
       "ME-107       0\n",
       "CS-107       0\n",
       "HS-205/20    0\n",
       "MT-222       0\n",
       "EE-222       0\n",
       "MT-224       0\n",
       "CS-210       0\n",
       "CS-211       0\n",
       "CS-203       0\n",
       "CS-214       0\n",
       "EE-217       0\n",
       "CS-212       0\n",
       "CS-215       0\n",
       "MT-331       0\n",
       "EF-303       0\n",
       "HS-304       0\n",
       "CS-301       0\n",
       "CS-302       0\n",
       "TC-383       0\n",
       "MT-442       0\n",
       "EL-332       0\n",
       "CS-318       0\n",
       "CS-306       0\n",
       "CS-312       0\n",
       "CS-317       0\n",
       "CS-403       0\n",
       "CS-421       0\n",
       "CS-406       0\n",
       "CS-414       0\n",
       "CS-419       0\n",
       "CS-423       0\n",
       "CS-412       0\n",
       "CGPA         0\n",
       "dtype: int64"
      ]
     },
     "execution_count": 24,
     "metadata": {},
     "output_type": "execute_result"
    }
   ],
   "source": [
    "#Rechecking the null value count\n",
    "df_grades.isnull().sum()"
   ]
  },
  {
   "cell_type": "markdown",
   "id": "57f7a20f",
   "metadata": {},
   "source": [
    "#### Univariate Analysis Contd.."
   ]
  },
  {
   "cell_type": "code",
   "execution_count": 106,
   "id": "7eb057c6",
   "metadata": {},
   "outputs": [
    {
     "data": {
      "text/plain": [
       "<AxesSubplot:xlabel='CS-419', ylabel='Density'>"
      ]
     },
     "execution_count": 106,
     "metadata": {},
     "output_type": "execute_result"
    },
    {
     "data": {
      "text/plain": [
       "<Figure size 1440x2160 with 0 Axes>"
      ]
     },
     "metadata": {},
     "output_type": "display_data"
    },
    {
     "data": {
      "image/png": "[encoded data removed]",
      "text/plain": [
       "<Figure size 432x288 with 8 Axes>"
      ]
     },
     "metadata": {
      "needs_background": "light"
     },
     "output_type": "display_data"
    }
   ],
   "source": [
    "# Next, we will plot distribution plot of few columns in same figure(to check skewness)\n",
    "plt.figure(figsize=(20,30))\n",
    "fig, axes = plt.subplots(4,2)\n",
    "fig.subplots_adjust(hspace=1, wspace=2)\n",
    "\n",
    "sns.distplot(df_grades['PH-121'], ax=axes[0,0])\n",
    "sns.distplot(df_grades['MT-111'], ax=axes[0,1])\n",
    "sns.distplot(df_grades['HS-205/20'], ax=axes[1,0])\n",
    "sns.distplot(df_grades['CS-212'], ax=axes[1,1])\n",
    "sns.distplot(df_grades['MT-331'], ax=axes[2,0])\n",
    "sns.distplot(df_grades['CS-302'], ax=axes[2,1])\n",
    "sns.distplot(df_grades['CS-403'], ax=axes[3,0])\n",
    "sns.distplot(df_grades['CS-419'], ax=axes[3,1])"
   ]
  },
  {
   "cell_type": "markdown",
   "id": "95877caf",
   "metadata": {},
   "source": [
    "Obs- We can observe skewness is present in all these columns and would be present in other columns too, so we will be treating the skewness later."
   ]
  },
  {
   "cell_type": "code",
   "execution_count": 107,
   "id": "f9e7da31",
   "metadata": {},
   "outputs": [
    {
     "data": {
      "text/plain": [
       "<AxesSubplot:xlabel='CS-419'>"
      ]
     },
     "execution_count": 107,
     "metadata": {},
     "output_type": "execute_result"
    },
    {
     "data": {
      "text/plain": [
       "<Figure size 1440x2160 with 0 Axes>"
      ]
     },
     "metadata": {},
     "output_type": "display_data"
    },
    {
     "data": {
      "image/png": "[encoded data removed]",
      "text/plain": [
       "<Figure size 432x288 with 8 Axes>"
      ]
     },
     "metadata": {
      "needs_background": "light"
     },
     "output_type": "display_data"
    }
   ],
   "source": [
    "# Next, we will plot distribution plot of few columns in same figure(to check skewness)\n",
    "plt.figure(figsize=(20,30))\n",
    "fig, axes = plt.subplots(4,2)\n",
    "fig.subplots_adjust(hspace=1, wspace=2)\n",
    "\n",
    "sns.boxplot(df_grades['PH-121'], ax=axes[0,0])\n",
    "sns.boxplot(df_grades['MT-111'], ax=axes[0,1])\n",
    "sns.boxplot(df_grades['HS-205/20'], ax=axes[1,0])\n",
    "sns.boxplot(df_grades['CS-212'], ax=axes[1,1])\n",
    "sns.boxplot(df_grades['MT-331'], ax=axes[2,0])\n",
    "sns.boxplot(df_grades['CS-302'], ax=axes[2,1])\n",
    "sns.boxplot(df_grades['CS-403'], ax=axes[3,0])\n",
    "sns.boxplot(df_grades['CS-419'], ax=axes[3,1])"
   ]
  },
  {
   "cell_type": "markdown",
   "id": "13f23551",
   "metadata": {},
   "source": [
    "Obs- We can see outliers are present in \"PH-121\",\"MT-111\",\"CS-2\",\"CS-419\" columns and there might be outliers in other columns as well, so we will be treating it further."
   ]
  },
  {
   "cell_type": "markdown",
   "id": "40d99af5",
   "metadata": {},
   "source": [
    "### Checking Correlation"
   ]
  },
  {
   "cell_type": "code",
   "execution_count": 108,
   "id": "b4d265ea",
   "metadata": {},
   "outputs": [
    {
     "data": {
      "text/html": [
       "<div>\n",
       "<style scoped>\n",
       "    .dataframe tbody tr th:only-of-type {\n",
       "        vertical-align: middle;\n",
       "    }\n",
       "\n",
       "    .dataframe tbody tr th {\n",
       "        vertical-align: top;\n",
       "    }\n",
       "\n",
       "    .dataframe thead th {\n",
       "        text-align: right;\n",
       "    }\n",
       "</style>\n",
       "<table border=\"1\" class=\"dataframe\">\n",
       "  <thead>\n",
       "    <tr style=\"text-align: right;\">\n",
       "      <th></th>\n",
       "      <th>PH-121</th>\n",
       "      <th>HS-101</th>\n",
       "      <th>CY-105</th>\n",
       "      <th>HS-105/12</th>\n",
       "      <th>MT-111</th>\n",
       "      <th>CS-105</th>\n",
       "      <th>CS-106</th>\n",
       "      <th>EL-102</th>\n",
       "      <th>EE-119</th>\n",
       "      <th>ME-107</th>\n",
       "      <th>...</th>\n",
       "      <th>CS-312</th>\n",
       "      <th>CS-317</th>\n",
       "      <th>CS-403</th>\n",
       "      <th>CS-421</th>\n",
       "      <th>CS-406</th>\n",
       "      <th>CS-414</th>\n",
       "      <th>CS-419</th>\n",
       "      <th>CS-423</th>\n",
       "      <th>CS-412</th>\n",
       "      <th>CGPA</th>\n",
       "    </tr>\n",
       "  </thead>\n",
       "  <tbody>\n",
       "    <tr>\n",
       "      <th>PH-121</th>\n",
       "      <td>1.000000</td>\n",
       "      <td>0.382436</td>\n",
       "      <td>0.565773</td>\n",
       "      <td>0.508231</td>\n",
       "      <td>0.487830</td>\n",
       "      <td>0.609990</td>\n",
       "      <td>0.319649</td>\n",
       "      <td>0.443420</td>\n",
       "      <td>0.589250</td>\n",
       "      <td>0.548820</td>\n",
       "      <td>...</td>\n",
       "      <td>0.140798</td>\n",
       "      <td>0.499998</td>\n",
       "      <td>0.410585</td>\n",
       "      <td>0.383521</td>\n",
       "      <td>0.429313</td>\n",
       "      <td>0.264933</td>\n",
       "      <td>0.529531</td>\n",
       "      <td>0.199127</td>\n",
       "      <td>0.563519</td>\n",
       "      <td>-0.663135</td>\n",
       "    </tr>\n",
       "    <tr>\n",
       "      <th>HS-101</th>\n",
       "      <td>0.382436</td>\n",
       "      <td>1.000000</td>\n",
       "      <td>0.334536</td>\n",
       "      <td>0.473146</td>\n",
       "      <td>0.441847</td>\n",
       "      <td>0.400713</td>\n",
       "      <td>0.321346</td>\n",
       "      <td>0.359801</td>\n",
       "      <td>0.323381</td>\n",
       "      <td>0.345819</td>\n",
       "      <td>...</td>\n",
       "      <td>0.244502</td>\n",
       "      <td>0.369839</td>\n",
       "      <td>0.265502</td>\n",
       "      <td>0.336850</td>\n",
       "      <td>0.103657</td>\n",
       "      <td>0.257124</td>\n",
       "      <td>0.309970</td>\n",
       "      <td>0.265646</td>\n",
       "      <td>0.251702</td>\n",
       "      <td>-0.537170</td>\n",
       "    </tr>\n",
       "    <tr>\n",
       "      <th>CY-105</th>\n",
       "      <td>0.565773</td>\n",
       "      <td>0.334536</td>\n",
       "      <td>1.000000</td>\n",
       "      <td>0.516758</td>\n",
       "      <td>0.554936</td>\n",
       "      <td>0.587845</td>\n",
       "      <td>0.404763</td>\n",
       "      <td>0.466034</td>\n",
       "      <td>0.501859</td>\n",
       "      <td>0.485183</td>\n",
       "      <td>...</td>\n",
       "      <td>0.381171</td>\n",
       "      <td>0.539259</td>\n",
       "      <td>0.578483</td>\n",
       "      <td>0.482884</td>\n",
       "      <td>0.223139</td>\n",
       "      <td>0.206669</td>\n",
       "      <td>0.551183</td>\n",
       "      <td>0.267375</td>\n",
       "      <td>0.360315</td>\n",
       "      <td>-0.670190</td>\n",
       "    </tr>\n",
       "    <tr>\n",
       "      <th>HS-105/12</th>\n",
       "      <td>0.508231</td>\n",
       "      <td>0.473146</td>\n",
       "      <td>0.516758</td>\n",
       "      <td>1.000000</td>\n",
       "      <td>0.505049</td>\n",
       "      <td>0.493581</td>\n",
       "      <td>0.516214</td>\n",
       "      <td>0.373136</td>\n",
       "      <td>0.425518</td>\n",
       "      <td>0.334125</td>\n",
       "      <td>...</td>\n",
       "      <td>0.337579</td>\n",
       "      <td>0.514041</td>\n",
       "      <td>0.512334</td>\n",
       "      <td>0.484061</td>\n",
       "      <td>0.184283</td>\n",
       "      <td>0.242515</td>\n",
       "      <td>0.518199</td>\n",
       "      <td>0.313219</td>\n",
       "      <td>0.267519</td>\n",
       "      <td>-0.627644</td>\n",
       "    </tr>\n",
       "    <tr>\n",
       "      <th>MT-111</th>\n",
       "      <td>0.487830</td>\n",
       "      <td>0.441847</td>\n",
       "      <td>0.554936</td>\n",
       "      <td>0.505049</td>\n",
       "      <td>1.000000</td>\n",
       "      <td>0.416784</td>\n",
       "      <td>0.528063</td>\n",
       "      <td>0.568940</td>\n",
       "      <td>0.422151</td>\n",
       "      <td>0.478874</td>\n",
       "      <td>...</td>\n",
       "      <td>0.534544</td>\n",
       "      <td>0.581354</td>\n",
       "      <td>0.490726</td>\n",
       "      <td>0.577514</td>\n",
       "      <td>0.101744</td>\n",
       "      <td>0.327353</td>\n",
       "      <td>0.558593</td>\n",
       "      <td>0.470404</td>\n",
       "      <td>0.224883</td>\n",
       "      <td>-0.756109</td>\n",
       "    </tr>\n",
       "    <tr>\n",
       "      <th>CS-105</th>\n",
       "      <td>0.609990</td>\n",
       "      <td>0.400713</td>\n",
       "      <td>0.587845</td>\n",
       "      <td>0.493581</td>\n",
       "      <td>0.416784</td>\n",
       "      <td>1.000000</td>\n",
       "      <td>0.310666</td>\n",
       "      <td>0.377496</td>\n",
       "      <td>0.522205</td>\n",
       "      <td>0.464978</td>\n",
       "      <td>...</td>\n",
       "      <td>0.147291</td>\n",
       "      <td>0.421923</td>\n",
       "      <td>0.362033</td>\n",
       "      <td>0.325876</td>\n",
       "      <td>0.379277</td>\n",
       "      <td>0.231224</td>\n",
       "      <td>0.383126</td>\n",
       "      <td>0.142609</td>\n",
       "      <td>0.448979</td>\n",
       "      <td>-0.613169</td>\n",
       "    </tr>\n",
       "    <tr>\n",
       "      <th>CS-106</th>\n",
       "      <td>0.319649</td>\n",
       "      <td>0.321346</td>\n",
       "      <td>0.404763</td>\n",
       "      <td>0.516214</td>\n",
       "      <td>0.528063</td>\n",
       "      <td>0.310666</td>\n",
       "      <td>1.000000</td>\n",
       "      <td>0.365975</td>\n",
       "      <td>0.304044</td>\n",
       "      <td>0.317611</td>\n",
       "      <td>...</td>\n",
       "      <td>0.519912</td>\n",
       "      <td>0.458346</td>\n",
       "      <td>0.506503</td>\n",
       "      <td>0.471248</td>\n",
       "      <td>0.033116</td>\n",
       "      <td>0.231097</td>\n",
       "      <td>0.490585</td>\n",
       "      <td>0.410040</td>\n",
       "      <td>0.114769</td>\n",
       "      <td>-0.563178</td>\n",
       "    </tr>\n",
       "    <tr>\n",
       "      <th>EL-102</th>\n",
       "      <td>0.443420</td>\n",
       "      <td>0.359801</td>\n",
       "      <td>0.466034</td>\n",
       "      <td>0.373136</td>\n",
       "      <td>0.568940</td>\n",
       "      <td>0.377496</td>\n",
       "      <td>0.365975</td>\n",
       "      <td>1.000000</td>\n",
       "      <td>0.464624</td>\n",
       "      <td>0.492613</td>\n",
       "      <td>...</td>\n",
       "      <td>0.396578</td>\n",
       "      <td>0.515770</td>\n",
       "      <td>0.406288</td>\n",
       "      <td>0.461098</td>\n",
       "      <td>0.103903</td>\n",
       "      <td>0.362837</td>\n",
       "      <td>0.470345</td>\n",
       "      <td>0.463383</td>\n",
       "      <td>0.256816</td>\n",
       "      <td>-0.669536</td>\n",
       "    </tr>\n",
       "    <tr>\n",
       "      <th>EE-119</th>\n",
       "      <td>0.589250</td>\n",
       "      <td>0.323381</td>\n",
       "      <td>0.501859</td>\n",
       "      <td>0.425518</td>\n",
       "      <td>0.422151</td>\n",
       "      <td>0.522205</td>\n",
       "      <td>0.304044</td>\n",
       "      <td>0.464624</td>\n",
       "      <td>1.000000</td>\n",
       "      <td>0.575298</td>\n",
       "      <td>...</td>\n",
       "      <td>0.224754</td>\n",
       "      <td>0.472092</td>\n",
       "      <td>0.409814</td>\n",
       "      <td>0.420696</td>\n",
       "      <td>0.341455</td>\n",
       "      <td>0.299075</td>\n",
       "      <td>0.512645</td>\n",
       "      <td>0.318122</td>\n",
       "      <td>0.427765</td>\n",
       "      <td>-0.668787</td>\n",
       "    </tr>\n",
       "    <tr>\n",
       "      <th>ME-107</th>\n",
       "      <td>0.548820</td>\n",
       "      <td>0.345819</td>\n",
       "      <td>0.485183</td>\n",
       "      <td>0.334125</td>\n",
       "      <td>0.478874</td>\n",
       "      <td>0.464978</td>\n",
       "      <td>0.317611</td>\n",
       "      <td>0.492613</td>\n",
       "      <td>0.575298</td>\n",
       "      <td>1.000000</td>\n",
       "      <td>...</td>\n",
       "      <td>0.281174</td>\n",
       "      <td>0.504715</td>\n",
       "      <td>0.416972</td>\n",
       "      <td>0.428022</td>\n",
       "      <td>0.259143</td>\n",
       "      <td>0.272818</td>\n",
       "      <td>0.511910</td>\n",
       "      <td>0.315812</td>\n",
       "      <td>0.412971</td>\n",
       "      <td>-0.677342</td>\n",
       "    </tr>\n",
       "    <tr>\n",
       "      <th>CS-107</th>\n",
       "      <td>0.501814</td>\n",
       "      <td>0.507674</td>\n",
       "      <td>0.501331</td>\n",
       "      <td>0.550732</td>\n",
       "      <td>0.503985</td>\n",
       "      <td>0.530578</td>\n",
       "      <td>0.448066</td>\n",
       "      <td>0.469880</td>\n",
       "      <td>0.418624</td>\n",
       "      <td>0.373303</td>\n",
       "      <td>...</td>\n",
       "      <td>0.307134</td>\n",
       "      <td>0.476001</td>\n",
       "      <td>0.444553</td>\n",
       "      <td>0.463565</td>\n",
       "      <td>0.264132</td>\n",
       "      <td>0.371252</td>\n",
       "      <td>0.433312</td>\n",
       "      <td>0.324775</td>\n",
       "      <td>0.377767</td>\n",
       "      <td>-0.650531</td>\n",
       "    </tr>\n",
       "    <tr>\n",
       "      <th>HS-205/20</th>\n",
       "      <td>0.338530</td>\n",
       "      <td>0.200494</td>\n",
       "      <td>0.325533</td>\n",
       "      <td>0.224536</td>\n",
       "      <td>0.372303</td>\n",
       "      <td>0.229860</td>\n",
       "      <td>0.210626</td>\n",
       "      <td>0.437513</td>\n",
       "      <td>0.349451</td>\n",
       "      <td>0.426229</td>\n",
       "      <td>...</td>\n",
       "      <td>0.254929</td>\n",
       "      <td>0.462041</td>\n",
       "      <td>0.271331</td>\n",
       "      <td>0.340284</td>\n",
       "      <td>0.171432</td>\n",
       "      <td>0.480534</td>\n",
       "      <td>0.411856</td>\n",
       "      <td>0.423963</td>\n",
       "      <td>0.332378</td>\n",
       "      <td>-0.500668</td>\n",
       "    </tr>\n",
       "    <tr>\n",
       "      <th>MT-222</th>\n",
       "      <td>0.586300</td>\n",
       "      <td>0.408091</td>\n",
       "      <td>0.531602</td>\n",
       "      <td>0.487382</td>\n",
       "      <td>0.528863</td>\n",
       "      <td>0.503913</td>\n",
       "      <td>0.422386</td>\n",
       "      <td>0.506395</td>\n",
       "      <td>0.470109</td>\n",
       "      <td>0.513863</td>\n",
       "      <td>...</td>\n",
       "      <td>0.360768</td>\n",
       "      <td>0.580296</td>\n",
       "      <td>0.467957</td>\n",
       "      <td>0.479757</td>\n",
       "      <td>0.264303</td>\n",
       "      <td>0.324812</td>\n",
       "      <td>0.535366</td>\n",
       "      <td>0.388332</td>\n",
       "      <td>0.365865</td>\n",
       "      <td>-0.695418</td>\n",
       "    </tr>\n",
       "    <tr>\n",
       "      <th>EE-222</th>\n",
       "      <td>0.580147</td>\n",
       "      <td>0.399721</td>\n",
       "      <td>0.483025</td>\n",
       "      <td>0.425634</td>\n",
       "      <td>0.448660</td>\n",
       "      <td>0.533444</td>\n",
       "      <td>0.286521</td>\n",
       "      <td>0.490512</td>\n",
       "      <td>0.464994</td>\n",
       "      <td>0.440843</td>\n",
       "      <td>...</td>\n",
       "      <td>0.193146</td>\n",
       "      <td>0.531632</td>\n",
       "      <td>0.328963</td>\n",
       "      <td>0.415732</td>\n",
       "      <td>0.441408</td>\n",
       "      <td>0.471868</td>\n",
       "      <td>0.447183</td>\n",
       "      <td>0.337198</td>\n",
       "      <td>0.499414</td>\n",
       "      <td>-0.644384</td>\n",
       "    </tr>\n",
       "    <tr>\n",
       "      <th>MT-224</th>\n",
       "      <td>0.398787</td>\n",
       "      <td>0.285273</td>\n",
       "      <td>0.512413</td>\n",
       "      <td>0.431375</td>\n",
       "      <td>0.605159</td>\n",
       "      <td>0.308590</td>\n",
       "      <td>0.460063</td>\n",
       "      <td>0.555793</td>\n",
       "      <td>0.430728</td>\n",
       "      <td>0.509249</td>\n",
       "      <td>...</td>\n",
       "      <td>0.581503</td>\n",
       "      <td>0.643477</td>\n",
       "      <td>0.553196</td>\n",
       "      <td>0.633843</td>\n",
       "      <td>0.103835</td>\n",
       "      <td>0.419579</td>\n",
       "      <td>0.601395</td>\n",
       "      <td>0.582956</td>\n",
       "      <td>0.233727</td>\n",
       "      <td>-0.743577</td>\n",
       "    </tr>\n",
       "    <tr>\n",
       "      <th>CS-210</th>\n",
       "      <td>0.549694</td>\n",
       "      <td>0.334437</td>\n",
       "      <td>0.561838</td>\n",
       "      <td>0.493998</td>\n",
       "      <td>0.605839</td>\n",
       "      <td>0.475538</td>\n",
       "      <td>0.488529</td>\n",
       "      <td>0.552252</td>\n",
       "      <td>0.508342</td>\n",
       "      <td>0.577280</td>\n",
       "      <td>...</td>\n",
       "      <td>0.524619</td>\n",
       "      <td>0.696406</td>\n",
       "      <td>0.568951</td>\n",
       "      <td>0.621561</td>\n",
       "      <td>0.297720</td>\n",
       "      <td>0.450297</td>\n",
       "      <td>0.666578</td>\n",
       "      <td>0.553942</td>\n",
       "      <td>0.408228</td>\n",
       "      <td>-0.798841</td>\n",
       "    </tr>\n",
       "    <tr>\n",
       "      <th>CS-211</th>\n",
       "      <td>0.372640</td>\n",
       "      <td>0.354700</td>\n",
       "      <td>0.503036</td>\n",
       "      <td>0.385160</td>\n",
       "      <td>0.583928</td>\n",
       "      <td>0.374372</td>\n",
       "      <td>0.420166</td>\n",
       "      <td>0.546252</td>\n",
       "      <td>0.461199</td>\n",
       "      <td>0.515200</td>\n",
       "      <td>...</td>\n",
       "      <td>0.573413</td>\n",
       "      <td>0.527730</td>\n",
       "      <td>0.534718</td>\n",
       "      <td>0.552240</td>\n",
       "      <td>0.052284</td>\n",
       "      <td>0.204977</td>\n",
       "      <td>0.517586</td>\n",
       "      <td>0.437086</td>\n",
       "      <td>0.197952</td>\n",
       "      <td>-0.669814</td>\n",
       "    </tr>\n",
       "    <tr>\n",
       "      <th>CS-203</th>\n",
       "      <td>0.499256</td>\n",
       "      <td>0.283023</td>\n",
       "      <td>0.448766</td>\n",
       "      <td>0.328713</td>\n",
       "      <td>0.540936</td>\n",
       "      <td>0.438626</td>\n",
       "      <td>0.349376</td>\n",
       "      <td>0.522097</td>\n",
       "      <td>0.483748</td>\n",
       "      <td>0.623819</td>\n",
       "      <td>...</td>\n",
       "      <td>0.387076</td>\n",
       "      <td>0.542508</td>\n",
       "      <td>0.401336</td>\n",
       "      <td>0.476038</td>\n",
       "      <td>0.304457</td>\n",
       "      <td>0.322212</td>\n",
       "      <td>0.537848</td>\n",
       "      <td>0.416538</td>\n",
       "      <td>0.374876</td>\n",
       "      <td>-0.682817</td>\n",
       "    </tr>\n",
       "    <tr>\n",
       "      <th>CS-214</th>\n",
       "      <td>0.445841</td>\n",
       "      <td>0.467283</td>\n",
       "      <td>0.498835</td>\n",
       "      <td>0.432928</td>\n",
       "      <td>0.608372</td>\n",
       "      <td>0.435046</td>\n",
       "      <td>0.470930</td>\n",
       "      <td>0.556260</td>\n",
       "      <td>0.461665</td>\n",
       "      <td>0.564241</td>\n",
       "      <td>...</td>\n",
       "      <td>0.488320</td>\n",
       "      <td>0.620599</td>\n",
       "      <td>0.512872</td>\n",
       "      <td>0.557247</td>\n",
       "      <td>0.168212</td>\n",
       "      <td>0.370323</td>\n",
       "      <td>0.577803</td>\n",
       "      <td>0.478154</td>\n",
       "      <td>0.279636</td>\n",
       "      <td>-0.758407</td>\n",
       "    </tr>\n",
       "    <tr>\n",
       "      <th>EE-217</th>\n",
       "      <td>0.465972</td>\n",
       "      <td>0.346940</td>\n",
       "      <td>0.458984</td>\n",
       "      <td>0.389272</td>\n",
       "      <td>0.549230</td>\n",
       "      <td>0.379462</td>\n",
       "      <td>0.391372</td>\n",
       "      <td>0.588346</td>\n",
       "      <td>0.409291</td>\n",
       "      <td>0.494014</td>\n",
       "      <td>...</td>\n",
       "      <td>0.370035</td>\n",
       "      <td>0.550230</td>\n",
       "      <td>0.413095</td>\n",
       "      <td>0.506293</td>\n",
       "      <td>0.220530</td>\n",
       "      <td>0.529647</td>\n",
       "      <td>0.507876</td>\n",
       "      <td>0.556573</td>\n",
       "      <td>0.360496</td>\n",
       "      <td>-0.703131</td>\n",
       "    </tr>\n",
       "    <tr>\n",
       "      <th>CS-212</th>\n",
       "      <td>0.395713</td>\n",
       "      <td>0.355364</td>\n",
       "      <td>0.486113</td>\n",
       "      <td>0.492872</td>\n",
       "      <td>0.597293</td>\n",
       "      <td>0.356626</td>\n",
       "      <td>0.590100</td>\n",
       "      <td>0.486650</td>\n",
       "      <td>0.401407</td>\n",
       "      <td>0.491152</td>\n",
       "      <td>...</td>\n",
       "      <td>0.623160</td>\n",
       "      <td>0.583298</td>\n",
       "      <td>0.596045</td>\n",
       "      <td>0.574091</td>\n",
       "      <td>0.062308</td>\n",
       "      <td>0.267827</td>\n",
       "      <td>0.618188</td>\n",
       "      <td>0.524151</td>\n",
       "      <td>0.139100</td>\n",
       "      <td>-0.686163</td>\n",
       "    </tr>\n",
       "    <tr>\n",
       "      <th>CS-215</th>\n",
       "      <td>0.525115</td>\n",
       "      <td>0.412778</td>\n",
       "      <td>0.575926</td>\n",
       "      <td>0.490956</td>\n",
       "      <td>0.609315</td>\n",
       "      <td>0.486700</td>\n",
       "      <td>0.447050</td>\n",
       "      <td>0.535747</td>\n",
       "      <td>0.540276</td>\n",
       "      <td>0.591559</td>\n",
       "      <td>...</td>\n",
       "      <td>0.469504</td>\n",
       "      <td>0.616342</td>\n",
       "      <td>0.587590</td>\n",
       "      <td>0.598618</td>\n",
       "      <td>0.198486</td>\n",
       "      <td>0.323918</td>\n",
       "      <td>0.593062</td>\n",
       "      <td>0.438788</td>\n",
       "      <td>0.361828</td>\n",
       "      <td>-0.768707</td>\n",
       "    </tr>\n",
       "    <tr>\n",
       "      <th>MT-331</th>\n",
       "      <td>0.279922</td>\n",
       "      <td>0.218373</td>\n",
       "      <td>0.477979</td>\n",
       "      <td>0.329471</td>\n",
       "      <td>0.509544</td>\n",
       "      <td>0.314625</td>\n",
       "      <td>0.363551</td>\n",
       "      <td>0.435339</td>\n",
       "      <td>0.396895</td>\n",
       "      <td>0.399810</td>\n",
       "      <td>...</td>\n",
       "      <td>0.572594</td>\n",
       "      <td>0.513687</td>\n",
       "      <td>0.525258</td>\n",
       "      <td>0.547870</td>\n",
       "      <td>0.092964</td>\n",
       "      <td>0.280169</td>\n",
       "      <td>0.520353</td>\n",
       "      <td>0.425993</td>\n",
       "      <td>0.179824</td>\n",
       "      <td>-0.610787</td>\n",
       "    </tr>\n",
       "    <tr>\n",
       "      <th>EF-303</th>\n",
       "      <td>0.292578</td>\n",
       "      <td>0.282508</td>\n",
       "      <td>0.459769</td>\n",
       "      <td>0.452641</td>\n",
       "      <td>0.481695</td>\n",
       "      <td>0.283595</td>\n",
       "      <td>0.509541</td>\n",
       "      <td>0.346783</td>\n",
       "      <td>0.305648</td>\n",
       "      <td>0.317226</td>\n",
       "      <td>...</td>\n",
       "      <td>0.638955</td>\n",
       "      <td>0.544273</td>\n",
       "      <td>0.590701</td>\n",
       "      <td>0.602871</td>\n",
       "      <td>0.077786</td>\n",
       "      <td>0.265966</td>\n",
       "      <td>0.549272</td>\n",
       "      <td>0.449266</td>\n",
       "      <td>0.134052</td>\n",
       "      <td>-0.589066</td>\n",
       "    </tr>\n",
       "    <tr>\n",
       "      <th>HS-304</th>\n",
       "      <td>0.502785</td>\n",
       "      <td>0.444395</td>\n",
       "      <td>0.456618</td>\n",
       "      <td>0.417961</td>\n",
       "      <td>0.397528</td>\n",
       "      <td>0.525220</td>\n",
       "      <td>0.244134</td>\n",
       "      <td>0.459069</td>\n",
       "      <td>0.503941</td>\n",
       "      <td>0.470077</td>\n",
       "      <td>...</td>\n",
       "      <td>0.203407</td>\n",
       "      <td>0.544008</td>\n",
       "      <td>0.348361</td>\n",
       "      <td>0.461122</td>\n",
       "      <td>0.403332</td>\n",
       "      <td>0.568910</td>\n",
       "      <td>0.482831</td>\n",
       "      <td>0.414002</td>\n",
       "      <td>0.539441</td>\n",
       "      <td>-0.656729</td>\n",
       "    </tr>\n",
       "    <tr>\n",
       "      <th>CS-301</th>\n",
       "      <td>0.380959</td>\n",
       "      <td>0.347447</td>\n",
       "      <td>0.478001</td>\n",
       "      <td>0.475867</td>\n",
       "      <td>0.593737</td>\n",
       "      <td>0.306103</td>\n",
       "      <td>0.546289</td>\n",
       "      <td>0.491893</td>\n",
       "      <td>0.416239</td>\n",
       "      <td>0.467944</td>\n",
       "      <td>...</td>\n",
       "      <td>0.646663</td>\n",
       "      <td>0.666267</td>\n",
       "      <td>0.635247</td>\n",
       "      <td>0.666369</td>\n",
       "      <td>0.112398</td>\n",
       "      <td>0.357479</td>\n",
       "      <td>0.646547</td>\n",
       "      <td>0.628824</td>\n",
       "      <td>0.212529</td>\n",
       "      <td>-0.747775</td>\n",
       "    </tr>\n",
       "    <tr>\n",
       "      <th>CS-302</th>\n",
       "      <td>0.515841</td>\n",
       "      <td>0.373995</td>\n",
       "      <td>0.561280</td>\n",
       "      <td>0.476246</td>\n",
       "      <td>0.561545</td>\n",
       "      <td>0.487488</td>\n",
       "      <td>0.432973</td>\n",
       "      <td>0.470164</td>\n",
       "      <td>0.486628</td>\n",
       "      <td>0.501475</td>\n",
       "      <td>...</td>\n",
       "      <td>0.428818</td>\n",
       "      <td>0.684168</td>\n",
       "      <td>0.486326</td>\n",
       "      <td>0.575831</td>\n",
       "      <td>0.317017</td>\n",
       "      <td>0.453274</td>\n",
       "      <td>0.587185</td>\n",
       "      <td>0.536265</td>\n",
       "      <td>0.438697</td>\n",
       "      <td>-0.770868</td>\n",
       "    </tr>\n",
       "    <tr>\n",
       "      <th>TC-383</th>\n",
       "      <td>0.287490</td>\n",
       "      <td>0.364670</td>\n",
       "      <td>0.428530</td>\n",
       "      <td>0.470567</td>\n",
       "      <td>0.563600</td>\n",
       "      <td>0.302888</td>\n",
       "      <td>0.571714</td>\n",
       "      <td>0.452417</td>\n",
       "      <td>0.295278</td>\n",
       "      <td>0.341020</td>\n",
       "      <td>...</td>\n",
       "      <td>0.676639</td>\n",
       "      <td>0.608280</td>\n",
       "      <td>0.590419</td>\n",
       "      <td>0.624574</td>\n",
       "      <td>-0.042478</td>\n",
       "      <td>0.372315</td>\n",
       "      <td>0.550211</td>\n",
       "      <td>0.611345</td>\n",
       "      <td>0.164792</td>\n",
       "      <td>-0.682447</td>\n",
       "    </tr>\n",
       "    <tr>\n",
       "      <th>MT-442</th>\n",
       "      <td>0.505560</td>\n",
       "      <td>0.259696</td>\n",
       "      <td>0.528689</td>\n",
       "      <td>0.381327</td>\n",
       "      <td>0.464228</td>\n",
       "      <td>0.463920</td>\n",
       "      <td>0.326788</td>\n",
       "      <td>0.433979</td>\n",
       "      <td>0.484657</td>\n",
       "      <td>0.492799</td>\n",
       "      <td>...</td>\n",
       "      <td>0.298141</td>\n",
       "      <td>0.564130</td>\n",
       "      <td>0.407420</td>\n",
       "      <td>0.494563</td>\n",
       "      <td>0.313902</td>\n",
       "      <td>0.351442</td>\n",
       "      <td>0.516576</td>\n",
       "      <td>0.397074</td>\n",
       "      <td>0.406492</td>\n",
       "      <td>-0.656557</td>\n",
       "    </tr>\n",
       "    <tr>\n",
       "      <th>EL-332</th>\n",
       "      <td>0.493454</td>\n",
       "      <td>0.405491</td>\n",
       "      <td>0.456296</td>\n",
       "      <td>0.412633</td>\n",
       "      <td>0.628264</td>\n",
       "      <td>0.427477</td>\n",
       "      <td>0.436981</td>\n",
       "      <td>0.576228</td>\n",
       "      <td>0.492410</td>\n",
       "      <td>0.551327</td>\n",
       "      <td>...</td>\n",
       "      <td>0.498697</td>\n",
       "      <td>0.651463</td>\n",
       "      <td>0.467233</td>\n",
       "      <td>0.625374</td>\n",
       "      <td>0.233004</td>\n",
       "      <td>0.569699</td>\n",
       "      <td>0.591753</td>\n",
       "      <td>0.620724</td>\n",
       "      <td>0.433554</td>\n",
       "      <td>-0.803475</td>\n",
       "    </tr>\n",
       "    <tr>\n",
       "      <th>CS-318</th>\n",
       "      <td>0.522597</td>\n",
       "      <td>0.434339</td>\n",
       "      <td>0.435954</td>\n",
       "      <td>0.436092</td>\n",
       "      <td>0.451622</td>\n",
       "      <td>0.513651</td>\n",
       "      <td>0.332986</td>\n",
       "      <td>0.442110</td>\n",
       "      <td>0.420892</td>\n",
       "      <td>0.436396</td>\n",
       "      <td>...</td>\n",
       "      <td>0.261562</td>\n",
       "      <td>0.583151</td>\n",
       "      <td>0.374164</td>\n",
       "      <td>0.455528</td>\n",
       "      <td>0.316207</td>\n",
       "      <td>0.474213</td>\n",
       "      <td>0.478481</td>\n",
       "      <td>0.409538</td>\n",
       "      <td>0.507565</td>\n",
       "      <td>-0.660106</td>\n",
       "    </tr>\n",
       "    <tr>\n",
       "      <th>CS-306</th>\n",
       "      <td>0.543959</td>\n",
       "      <td>0.455731</td>\n",
       "      <td>0.465764</td>\n",
       "      <td>0.534536</td>\n",
       "      <td>0.542458</td>\n",
       "      <td>0.482282</td>\n",
       "      <td>0.422228</td>\n",
       "      <td>0.503149</td>\n",
       "      <td>0.455985</td>\n",
       "      <td>0.460729</td>\n",
       "      <td>...</td>\n",
       "      <td>0.378431</td>\n",
       "      <td>0.708854</td>\n",
       "      <td>0.480976</td>\n",
       "      <td>0.602398</td>\n",
       "      <td>0.312556</td>\n",
       "      <td>0.616658</td>\n",
       "      <td>0.584059</td>\n",
       "      <td>0.549851</td>\n",
       "      <td>0.482368</td>\n",
       "      <td>-0.783624</td>\n",
       "    </tr>\n",
       "    <tr>\n",
       "      <th>CS-312</th>\n",
       "      <td>0.140798</td>\n",
       "      <td>0.244502</td>\n",
       "      <td>0.381171</td>\n",
       "      <td>0.337579</td>\n",
       "      <td>0.534544</td>\n",
       "      <td>0.147291</td>\n",
       "      <td>0.519912</td>\n",
       "      <td>0.396578</td>\n",
       "      <td>0.224754</td>\n",
       "      <td>0.281174</td>\n",
       "      <td>...</td>\n",
       "      <td>1.000000</td>\n",
       "      <td>0.536722</td>\n",
       "      <td>0.568483</td>\n",
       "      <td>0.665625</td>\n",
       "      <td>-0.093349</td>\n",
       "      <td>0.283272</td>\n",
       "      <td>0.497901</td>\n",
       "      <td>0.594200</td>\n",
       "      <td>0.000164</td>\n",
       "      <td>-0.562341</td>\n",
       "    </tr>\n",
       "    <tr>\n",
       "      <th>CS-317</th>\n",
       "      <td>0.499998</td>\n",
       "      <td>0.369839</td>\n",
       "      <td>0.539259</td>\n",
       "      <td>0.514041</td>\n",
       "      <td>0.581354</td>\n",
       "      <td>0.421923</td>\n",
       "      <td>0.458346</td>\n",
       "      <td>0.515770</td>\n",
       "      <td>0.472092</td>\n",
       "      <td>0.504715</td>\n",
       "      <td>...</td>\n",
       "      <td>0.536722</td>\n",
       "      <td>1.000000</td>\n",
       "      <td>0.607778</td>\n",
       "      <td>0.675953</td>\n",
       "      <td>0.257771</td>\n",
       "      <td>0.461690</td>\n",
       "      <td>0.678948</td>\n",
       "      <td>0.606970</td>\n",
       "      <td>0.417183</td>\n",
       "      <td>-0.800771</td>\n",
       "    </tr>\n",
       "    <tr>\n",
       "      <th>CS-403</th>\n",
       "      <td>0.410585</td>\n",
       "      <td>0.265502</td>\n",
       "      <td>0.578483</td>\n",
       "      <td>0.512334</td>\n",
       "      <td>0.490726</td>\n",
       "      <td>0.362033</td>\n",
       "      <td>0.506503</td>\n",
       "      <td>0.406288</td>\n",
       "      <td>0.409814</td>\n",
       "      <td>0.416972</td>\n",
       "      <td>...</td>\n",
       "      <td>0.568483</td>\n",
       "      <td>0.607778</td>\n",
       "      <td>1.000000</td>\n",
       "      <td>0.610180</td>\n",
       "      <td>0.067050</td>\n",
       "      <td>0.216777</td>\n",
       "      <td>0.662082</td>\n",
       "      <td>0.446810</td>\n",
       "      <td>0.260593</td>\n",
       "      <td>-0.657128</td>\n",
       "    </tr>\n",
       "    <tr>\n",
       "      <th>CS-421</th>\n",
       "      <td>0.383521</td>\n",
       "      <td>0.336850</td>\n",
       "      <td>0.482884</td>\n",
       "      <td>0.484061</td>\n",
       "      <td>0.577514</td>\n",
       "      <td>0.325876</td>\n",
       "      <td>0.471248</td>\n",
       "      <td>0.461098</td>\n",
       "      <td>0.420696</td>\n",
       "      <td>0.428022</td>\n",
       "      <td>...</td>\n",
       "      <td>0.665625</td>\n",
       "      <td>0.675953</td>\n",
       "      <td>0.610180</td>\n",
       "      <td>1.000000</td>\n",
       "      <td>0.173921</td>\n",
       "      <td>0.465932</td>\n",
       "      <td>0.626595</td>\n",
       "      <td>0.608017</td>\n",
       "      <td>0.301260</td>\n",
       "      <td>-0.742041</td>\n",
       "    </tr>\n",
       "    <tr>\n",
       "      <th>CS-406</th>\n",
       "      <td>0.429313</td>\n",
       "      <td>0.103657</td>\n",
       "      <td>0.223139</td>\n",
       "      <td>0.184283</td>\n",
       "      <td>0.101744</td>\n",
       "      <td>0.379277</td>\n",
       "      <td>0.033116</td>\n",
       "      <td>0.103903</td>\n",
       "      <td>0.341455</td>\n",
       "      <td>0.259143</td>\n",
       "      <td>...</td>\n",
       "      <td>-0.093349</td>\n",
       "      <td>0.257771</td>\n",
       "      <td>0.067050</td>\n",
       "      <td>0.173921</td>\n",
       "      <td>1.000000</td>\n",
       "      <td>0.294138</td>\n",
       "      <td>0.266670</td>\n",
       "      <td>0.027898</td>\n",
       "      <td>0.287586</td>\n",
       "      <td>-0.280626</td>\n",
       "    </tr>\n",
       "    <tr>\n",
       "      <th>CS-414</th>\n",
       "      <td>0.264933</td>\n",
       "      <td>0.257124</td>\n",
       "      <td>0.206669</td>\n",
       "      <td>0.242515</td>\n",
       "      <td>0.327353</td>\n",
       "      <td>0.231224</td>\n",
       "      <td>0.231097</td>\n",
       "      <td>0.362837</td>\n",
       "      <td>0.299075</td>\n",
       "      <td>0.272818</td>\n",
       "      <td>...</td>\n",
       "      <td>0.283272</td>\n",
       "      <td>0.461690</td>\n",
       "      <td>0.216777</td>\n",
       "      <td>0.465932</td>\n",
       "      <td>0.294138</td>\n",
       "      <td>1.000000</td>\n",
       "      <td>0.441227</td>\n",
       "      <td>0.554155</td>\n",
       "      <td>0.419272</td>\n",
       "      <td>-0.512836</td>\n",
       "    </tr>\n",
       "    <tr>\n",
       "      <th>CS-419</th>\n",
       "      <td>0.529531</td>\n",
       "      <td>0.309970</td>\n",
       "      <td>0.551183</td>\n",
       "      <td>0.518199</td>\n",
       "      <td>0.558593</td>\n",
       "      <td>0.383126</td>\n",
       "      <td>0.490585</td>\n",
       "      <td>0.470345</td>\n",
       "      <td>0.512645</td>\n",
       "      <td>0.511910</td>\n",
       "      <td>...</td>\n",
       "      <td>0.497901</td>\n",
       "      <td>0.678948</td>\n",
       "      <td>0.662082</td>\n",
       "      <td>0.626595</td>\n",
       "      <td>0.266670</td>\n",
       "      <td>0.441227</td>\n",
       "      <td>1.000000</td>\n",
       "      <td>0.560905</td>\n",
       "      <td>0.416590</td>\n",
       "      <td>-0.732899</td>\n",
       "    </tr>\n",
       "    <tr>\n",
       "      <th>CS-423</th>\n",
       "      <td>0.199127</td>\n",
       "      <td>0.265646</td>\n",
       "      <td>0.267375</td>\n",
       "      <td>0.313219</td>\n",
       "      <td>0.470404</td>\n",
       "      <td>0.142609</td>\n",
       "      <td>0.410040</td>\n",
       "      <td>0.463383</td>\n",
       "      <td>0.318122</td>\n",
       "      <td>0.315812</td>\n",
       "      <td>...</td>\n",
       "      <td>0.594200</td>\n",
       "      <td>0.606970</td>\n",
       "      <td>0.446810</td>\n",
       "      <td>0.608017</td>\n",
       "      <td>0.027898</td>\n",
       "      <td>0.554155</td>\n",
       "      <td>0.560905</td>\n",
       "      <td>1.000000</td>\n",
       "      <td>0.192774</td>\n",
       "      <td>-0.624558</td>\n",
       "    </tr>\n",
       "    <tr>\n",
       "      <th>CS-412</th>\n",
       "      <td>0.563519</td>\n",
       "      <td>0.251702</td>\n",
       "      <td>0.360315</td>\n",
       "      <td>0.267519</td>\n",
       "      <td>0.224883</td>\n",
       "      <td>0.448979</td>\n",
       "      <td>0.114769</td>\n",
       "      <td>0.256816</td>\n",
       "      <td>0.427765</td>\n",
       "      <td>0.412971</td>\n",
       "      <td>...</td>\n",
       "      <td>0.000164</td>\n",
       "      <td>0.417183</td>\n",
       "      <td>0.260593</td>\n",
       "      <td>0.301260</td>\n",
       "      <td>0.287586</td>\n",
       "      <td>0.419272</td>\n",
       "      <td>0.416590</td>\n",
       "      <td>0.192774</td>\n",
       "      <td>1.000000</td>\n",
       "      <td>-0.470128</td>\n",
       "    </tr>\n",
       "    <tr>\n",
       "      <th>CGPA</th>\n",
       "      <td>-0.663135</td>\n",
       "      <td>-0.537170</td>\n",
       "      <td>-0.670190</td>\n",
       "      <td>-0.627644</td>\n",
       "      <td>-0.756109</td>\n",
       "      <td>-0.613169</td>\n",
       "      <td>-0.563178</td>\n",
       "      <td>-0.669536</td>\n",
       "      <td>-0.668787</td>\n",
       "      <td>-0.677342</td>\n",
       "      <td>...</td>\n",
       "      <td>-0.562341</td>\n",
       "      <td>-0.800771</td>\n",
       "      <td>-0.657128</td>\n",
       "      <td>-0.742041</td>\n",
       "      <td>-0.280626</td>\n",
       "      <td>-0.512836</td>\n",
       "      <td>-0.732899</td>\n",
       "      <td>-0.624558</td>\n",
       "      <td>-0.470128</td>\n",
       "      <td>1.000000</td>\n",
       "    </tr>\n",
       "  </tbody>\n",
       "</table>\n",
       "<p>42 rows × 42 columns</p>\n",
       "</div>"
      ],
      "text/plain": [
       "             PH-121    HS-101    CY-105  HS-105/12    MT-111    CS-105  \\\n",
       "PH-121     1.000000  0.382436  0.565773   0.508231  0.487830  0.609990   \n",
       "HS-101     0.382436  1.000000  0.334536   0.473146  0.441847  0.400713   \n",
       "CY-105     0.565773  0.334536  1.000000   0.516758  0.554936  0.587845   \n",
       "HS-105/12  0.508231  0.473146  0.516758   1.000000  0.505049  0.493581   \n",
       "MT-111     0.487830  0.441847  0.554936   0.505049  1.000000  0.416784   \n",
       "CS-105     0.609990  0.400713  0.587845   0.493581  0.416784  1.000000   \n",
       "CS-106     0.319649  0.321346  0.404763   0.516214  0.528063  0.310666   \n",
       "EL-102     0.443420  0.359801  0.466034   0.373136  0.568940  0.377496   \n",
       "EE-119     0.589250  0.323381  0.501859   0.425518  0.422151  0.522205   \n",
       "ME-107     0.548820  0.345819  0.485183   0.334125  0.478874  0.464978   \n",
       "CS-107     0.501814  0.507674  0.501331   0.550732  0.503985  0.530578   \n",
       "HS-205/20  0.338530  0.200494  0.325533   0.224536  0.372303  0.229860   \n",
       "MT-222     0.586300  0.408091  0.531602   0.487382  0.528863  0.503913   \n",
       "EE-222     0.580147  0.399721  0.483025   0.425634  0.448660  0.533444   \n",
       "MT-224     0.398787  0.285273  0.512413   0.431375  0.605159  0.308590   \n",
       "CS-210     0.549694  0.334437  0.561838   0.493998  0.605839  0.475538   \n",
       "CS-211     0.372640  0.354700  0.503036   0.385160  0.583928  0.374372   \n",
       "CS-203     0.499256  0.283023  0.448766   0.328713  0.540936  0.438626   \n",
       "CS-214     0.445841  0.467283  0.498835   0.432928  0.608372  0.435046   \n",
       "EE-217     0.465972  0.346940  0.458984   0.389272  0.549230  0.379462   \n",
       "CS-212     0.395713  0.355364  0.486113   0.492872  0.597293  0.356626   \n",
       "CS-215     0.525115  0.412778  0.575926   0.490956  0.609315  0.486700   \n",
       "MT-331     0.279922  0.218373  0.477979   0.329471  0.509544  0.314625   \n",
       "EF-303     0.292578  0.282508  0.459769   0.452641  0.481695  0.283595   \n",
       "HS-304     0.502785  0.444395  0.456618   0.417961  0.397528  0.525220   \n",
       "CS-301     0.380959  0.347447  0.478001   0.475867  0.593737  0.306103   \n",
       "CS-302     0.515841  0.373995  0.561280   0.476246  0.561545  0.487488   \n",
       "TC-383     0.287490  0.364670  0.428530   0.470567  0.563600  0.302888   \n",
       "MT-442     0.505560  0.259696  0.528689   0.381327  0.464228  0.463920   \n",
       "EL-332     0.493454  0.405491  0.456296   0.412633  0.628264  0.427477   \n",
       "CS-318     0.522597  0.434339  0.435954   0.436092  0.451622  0.513651   \n",
       "CS-306     0.543959  0.455731  0.465764   0.534536  0.542458  0.482282   \n",
       "CS-312     0.140798  0.244502  0.381171   0.337579  0.534544  0.147291   \n",
       "CS-317     0.499998  0.369839  0.539259   0.514041  0.581354  0.421923   \n",
       "CS-403     0.410585  0.265502  0.578483   0.512334  0.490726  0.362033   \n",
       "CS-421     0.383521  0.336850  0.482884   0.484061  0.577514  0.325876   \n",
       "CS-406     0.429313  0.103657  0.223139   0.184283  0.101744  0.379277   \n",
       "CS-414     0.264933  0.257124  0.206669   0.242515  0.327353  0.231224   \n",
       "CS-419     0.529531  0.309970  0.551183   0.518199  0.558593  0.383126   \n",
       "CS-423     0.199127  0.265646  0.267375   0.313219  0.470404  0.142609   \n",
       "CS-412     0.563519  0.251702  0.360315   0.267519  0.224883  0.448979   \n",
       "CGPA      -0.663135 -0.537170 -0.670190  -0.627644 -0.756109 -0.613169   \n",
       "\n",
       "             CS-106    EL-102    EE-119    ME-107  ...    CS-312    CS-317  \\\n",
       "PH-121     0.319649  0.443420  0.589250  0.548820  ...  0.140798  0.499998   \n",
       "HS-101     0.321346  0.359801  0.323381  0.345819  ...  0.244502  0.369839   \n",
       "CY-105     0.404763  0.466034  0.501859  0.485183  ...  0.381171  0.539259   \n",
       "HS-105/12  0.516214  0.373136  0.425518  0.334125  ...  0.337579  0.514041   \n",
       "MT-111     0.528063  0.568940  0.422151  0.478874  ...  0.534544  0.581354   \n",
       "CS-105     0.310666  0.377496  0.522205  0.464978  ...  0.147291  0.421923   \n",
       "CS-106     1.000000  0.365975  0.304044  0.317611  ...  0.519912  0.458346   \n",
       "EL-102     0.365975  1.000000  0.464624  0.492613  ...  0.396578  0.515770   \n",
       "EE-119     0.304044  0.464624  1.000000  0.575298  ...  0.224754  0.472092   \n",
       "ME-107     0.317611  0.492613  0.575298  1.000000  ...  0.281174  0.504715   \n",
       "CS-107     0.448066  0.469880  0.418624  0.373303  ...  0.307134  0.476001   \n",
       "HS-205/20  0.210626  0.437513  0.349451  0.426229  ...  0.254929  0.462041   \n",
       "MT-222     0.422386  0.506395  0.470109  0.513863  ...  0.360768  0.580296   \n",
       "EE-222     0.286521  0.490512  0.464994  0.440843  ...  0.193146  0.531632   \n",
       "MT-224     0.460063  0.555793  0.430728  0.509249  ...  0.581503  0.643477   \n",
       "CS-210     0.488529  0.552252  0.508342  0.577280  ...  0.524619  0.696406   \n",
       "CS-211     0.420166  0.546252  0.461199  0.515200  ...  0.573413  0.527730   \n",
       "CS-203     0.349376  0.522097  0.483748  0.623819  ...  0.387076  0.542508   \n",
       "CS-214     0.470930  0.556260  0.461665  0.564241  ...  0.488320  0.620599   \n",
       "EE-217     0.391372  0.588346  0.409291  0.494014  ...  0.370035  0.550230   \n",
       "CS-212     0.590100  0.486650  0.401407  0.491152  ...  0.623160  0.583298   \n",
       "CS-215     0.447050  0.535747  0.540276  0.591559  ...  0.469504  0.616342   \n",
       "MT-331     0.363551  0.435339  0.396895  0.399810  ...  0.572594  0.513687   \n",
       "EF-303     0.509541  0.346783  0.305648  0.317226  ...  0.638955  0.544273   \n",
       "HS-304     0.244134  0.459069  0.503941  0.470077  ...  0.203407  0.544008   \n",
       "CS-301     0.546289  0.491893  0.416239  0.467944  ...  0.646663  0.666267   \n",
       "CS-302     0.432973  0.470164  0.486628  0.501475  ...  0.428818  0.684168   \n",
       "TC-383     0.571714  0.452417  0.295278  0.341020  ...  0.676639  0.608280   \n",
       "MT-442     0.326788  0.433979  0.484657  0.492799  ...  0.298141  0.564130   \n",
       "EL-332     0.436981  0.576228  0.492410  0.551327  ...  0.498697  0.651463   \n",
       "CS-318     0.332986  0.442110  0.420892  0.436396  ...  0.261562  0.583151   \n",
       "CS-306     0.422228  0.503149  0.455985  0.460729  ...  0.378431  0.708854   \n",
       "CS-312     0.519912  0.396578  0.224754  0.281174  ...  1.000000  0.536722   \n",
       "CS-317     0.458346  0.515770  0.472092  0.504715  ...  0.536722  1.000000   \n",
       "CS-403     0.506503  0.406288  0.409814  0.416972  ...  0.568483  0.607778   \n",
       "CS-421     0.471248  0.461098  0.420696  0.428022  ...  0.665625  0.675953   \n",
       "CS-406     0.033116  0.103903  0.341455  0.259143  ... -0.093349  0.257771   \n",
       "CS-414     0.231097  0.362837  0.299075  0.272818  ...  0.283272  0.461690   \n",
       "CS-419     0.490585  0.470345  0.512645  0.511910  ...  0.497901  0.678948   \n",
       "CS-423     0.410040  0.463383  0.318122  0.315812  ...  0.594200  0.606970   \n",
       "CS-412     0.114769  0.256816  0.427765  0.412971  ...  0.000164  0.417183   \n",
       "CGPA      -0.563178 -0.669536 -0.668787 -0.677342  ... -0.562341 -0.800771   \n",
       "\n",
       "             CS-403    CS-421    CS-406    CS-414    CS-419    CS-423  \\\n",
       "PH-121     0.410585  0.383521  0.429313  0.264933  0.529531  0.199127   \n",
       "HS-101     0.265502  0.336850  0.103657  0.257124  0.309970  0.265646   \n",
       "CY-105     0.578483  0.482884  0.223139  0.206669  0.551183  0.267375   \n",
       "HS-105/12  0.512334  0.484061  0.184283  0.242515  0.518199  0.313219   \n",
       "MT-111     0.490726  0.577514  0.101744  0.327353  0.558593  0.470404   \n",
       "CS-105     0.362033  0.325876  0.379277  0.231224  0.383126  0.142609   \n",
       "CS-106     0.506503  0.471248  0.033116  0.231097  0.490585  0.410040   \n",
       "EL-102     0.406288  0.461098  0.103903  0.362837  0.470345  0.463383   \n",
       "EE-119     0.409814  0.420696  0.341455  0.299075  0.512645  0.318122   \n",
       "ME-107     0.416972  0.428022  0.259143  0.272818  0.511910  0.315812   \n",
       "CS-107     0.444553  0.463565  0.264132  0.371252  0.433312  0.324775   \n",
       "HS-205/20  0.271331  0.340284  0.171432  0.480534  0.411856  0.423963   \n",
       "MT-222     0.467957  0.479757  0.264303  0.324812  0.535366  0.388332   \n",
       "EE-222     0.328963  0.415732  0.441408  0.471868  0.447183  0.337198   \n",
       "MT-224     0.553196  0.633843  0.103835  0.419579  0.601395  0.582956   \n",
       "CS-210     0.568951  0.621561  0.297720  0.450297  0.666578  0.553942   \n",
       "CS-211     0.534718  0.552240  0.052284  0.204977  0.517586  0.437086   \n",
       "CS-203     0.401336  0.476038  0.304457  0.322212  0.537848  0.416538   \n",
       "CS-214     0.512872  0.557247  0.168212  0.370323  0.577803  0.478154   \n",
       "EE-217     0.413095  0.506293  0.220530  0.529647  0.507876  0.556573   \n",
       "CS-212     0.596045  0.574091  0.062308  0.267827  0.618188  0.524151   \n",
       "CS-215     0.587590  0.598618  0.198486  0.323918  0.593062  0.438788   \n",
       "MT-331     0.525258  0.547870  0.092964  0.280169  0.520353  0.425993   \n",
       "EF-303     0.590701  0.602871  0.077786  0.265966  0.549272  0.449266   \n",
       "HS-304     0.348361  0.461122  0.403332  0.568910  0.482831  0.414002   \n",
       "CS-301     0.635247  0.666369  0.112398  0.357479  0.646547  0.628824   \n",
       "CS-302     0.486326  0.575831  0.317017  0.453274  0.587185  0.536265   \n",
       "TC-383     0.590419  0.624574 -0.042478  0.372315  0.550211  0.611345   \n",
       "MT-442     0.407420  0.494563  0.313902  0.351442  0.516576  0.397074   \n",
       "EL-332     0.467233  0.625374  0.233004  0.569699  0.591753  0.620724   \n",
       "CS-318     0.374164  0.455528  0.316207  0.474213  0.478481  0.409538   \n",
       "CS-306     0.480976  0.602398  0.312556  0.616658  0.584059  0.549851   \n",
       "CS-312     0.568483  0.665625 -0.093349  0.283272  0.497901  0.594200   \n",
       "CS-317     0.607778  0.675953  0.257771  0.461690  0.678948  0.606970   \n",
       "CS-403     1.000000  0.610180  0.067050  0.216777  0.662082  0.446810   \n",
       "CS-421     0.610180  1.000000  0.173921  0.465932  0.626595  0.608017   \n",
       "CS-406     0.067050  0.173921  1.000000  0.294138  0.266670  0.027898   \n",
       "CS-414     0.216777  0.465932  0.294138  1.000000  0.441227  0.554155   \n",
       "CS-419     0.662082  0.626595  0.266670  0.441227  1.000000  0.560905   \n",
       "CS-423     0.446810  0.608017  0.027898  0.554155  0.560905  1.000000   \n",
       "CS-412     0.260593  0.301260  0.287586  0.419272  0.416590  0.192774   \n",
       "CGPA      -0.657128 -0.742041 -0.280626 -0.512836 -0.732899 -0.624558   \n",
       "\n",
       "             CS-412      CGPA  \n",
       "PH-121     0.563519 -0.663135  \n",
       "HS-101     0.251702 -0.537170  \n",
       "CY-105     0.360315 -0.670190  \n",
       "HS-105/12  0.267519 -0.627644  \n",
       "MT-111     0.224883 -0.756109  \n",
       "CS-105     0.448979 -0.613169  \n",
       "CS-106     0.114769 -0.563178  \n",
       "EL-102     0.256816 -0.669536  \n",
       "EE-119     0.427765 -0.668787  \n",
       "ME-107     0.412971 -0.677342  \n",
       "CS-107     0.377767 -0.650531  \n",
       "HS-205/20  0.332378 -0.500668  \n",
       "MT-222     0.365865 -0.695418  \n",
       "EE-222     0.499414 -0.644384  \n",
       "MT-224     0.233727 -0.743577  \n",
       "CS-210     0.408228 -0.798841  \n",
       "CS-211     0.197952 -0.669814  \n",
       "CS-203     0.374876 -0.682817  \n",
       "CS-214     0.279636 -0.758407  \n",
       "EE-217     0.360496 -0.703131  \n",
       "CS-212     0.139100 -0.686163  \n",
       "CS-215     0.361828 -0.768707  \n",
       "MT-331     0.179824 -0.610787  \n",
       "EF-303     0.134052 -0.589066  \n",
       "HS-304     0.539441 -0.656729  \n",
       "CS-301     0.212529 -0.747775  \n",
       "CS-302     0.438697 -0.770868  \n",
       "TC-383     0.164792 -0.682447  \n",
       "MT-442     0.406492 -0.656557  \n",
       "EL-332     0.433554 -0.803475  \n",
       "CS-318     0.507565 -0.660106  \n",
       "CS-306     0.482368 -0.783624  \n",
       "CS-312     0.000164 -0.562341  \n",
       "CS-317     0.417183 -0.800771  \n",
       "CS-403     0.260593 -0.657128  \n",
       "CS-421     0.301260 -0.742041  \n",
       "CS-406     0.287586 -0.280626  \n",
       "CS-414     0.419272 -0.512836  \n",
       "CS-419     0.416590 -0.732899  \n",
       "CS-423     0.192774 -0.624558  \n",
       "CS-412     1.000000 -0.470128  \n",
       "CGPA      -0.470128  1.000000  \n",
       "\n",
       "[42 rows x 42 columns]"
      ]
     },
     "execution_count": 108,
     "metadata": {},
     "output_type": "execute_result"
    }
   ],
   "source": [
    "df_grades.corr()"
   ]
  },
  {
   "cell_type": "code",
   "execution_count": 109,
   "id": "a34f5e37",
   "metadata": {},
   "outputs": [
    {
     "data": {
      "text/plain": [
       "<AxesSubplot:>"
      ]
     },
     "execution_count": 109,
     "metadata": {},
     "output_type": "execute_result"
    },
    {
     "data": {
      "image/png": "[encoded data removed]",
      "text/plain": [
       "<Figure size 2160x2160 with 2 Axes>"
      ]
     },
     "metadata": {
      "needs_background": "light"
     },
     "output_type": "display_data"
    }
   ],
   "source": [
    "#displaying Correlation using heatmap\n",
    "plt.figure(figsize=(30,30))\n",
    "sns.heatmap(df_grades.corr(),annot=True)"
   ]
  },
  {
   "cell_type": "markdown",
   "id": "c61e421f",
   "metadata": {},
   "source": [
    "Obs- We can see all the columns are negatively correlated with the target column, and no two columns are strongly correlated with each other, thus multi-collinearity is not present."
   ]
  },
  {
   "cell_type": "markdown",
   "id": "75f70cb6",
   "metadata": {},
   "source": [
    "### Data Transformation"
   ]
  },
  {
   "cell_type": "markdown",
   "id": "aa7a522e",
   "metadata": {},
   "source": [
    "#### Checking for Skewness"
   ]
  },
  {
   "cell_type": "code",
   "execution_count": 111,
   "id": "838178a9",
   "metadata": {},
   "outputs": [
    {
     "data": {
      "text/plain": [
       "PH-121       0.549104\n",
       "HS-101       0.053303\n",
       "CY-105       1.001752\n",
       "HS-105/12    0.337649\n",
       "MT-111       0.520916\n",
       "CS-105       0.930769\n",
       "CS-106       0.682923\n",
       "EL-102       0.532311\n",
       "EE-119       0.607213\n",
       "ME-107       0.131791\n",
       "CS-107       0.456184\n",
       "HS-205/20    1.155648\n",
       "MT-222       0.267531\n",
       "EE-222       0.864582\n",
       "MT-224       0.566537\n",
       "CS-210       0.966469\n",
       "CS-211       0.202623\n",
       "CS-203       0.337821\n",
       "CS-214       0.120394\n",
       "EE-217       0.876835\n",
       "CS-212       0.459739\n",
       "CS-215       0.288215\n",
       "MT-331       0.674150\n",
       "EF-303       0.547945\n",
       "HS-304       0.814333\n",
       "CS-301       0.489045\n",
       "CS-302       0.697409\n",
       "TC-383       0.379712\n",
       "MT-442       0.970582\n",
       "EL-332       0.587335\n",
       "CS-318       0.511718\n",
       "CS-306       0.575364\n",
       "CS-312       0.561465\n",
       "CS-317       0.273812\n",
       "CS-403       0.638689\n",
       "CS-421       0.317459\n",
       "CS-406       1.105583\n",
       "CS-414       1.592209\n",
       "CS-419       0.773674\n",
       "CS-423       0.627219\n",
       "CS-412       1.086028\n",
       "CGPA        -0.497203\n",
       "dtype: float64"
      ]
     },
     "execution_count": 111,
     "metadata": {},
     "output_type": "execute_result"
    }
   ],
   "source": [
    "df_grades.skew()"
   ]
  },
  {
   "cell_type": "markdown",
   "id": "97aff717",
   "metadata": {},
   "source": [
    "We can see data is skewed in many columns \"CY-105\",\"CS-105\",\"CS-106\",\"EE-119\",\"HS-205/20\",\"EE-222\",\"CS-210\",\"EE-217\",\"MT-331\",\"HS-304\",\"CS-302\",\"MT-442\",\"CS-403\",\"CS-406\",\"CS-414\",\"CS-419\",\"CS-423\",\"CS-412\"\n",
    "\n",
    "Transforming the data and re-checking the skewness"
   ]
  },
  {
   "cell_type": "markdown",
   "id": "c6b1ebd5",
   "metadata": {},
   "source": [
    "#### Applying Transformation Method"
   ]
  },
  {
   "cell_type": "code",
   "execution_count": 113,
   "id": "38e14fe7",
   "metadata": {},
   "outputs": [],
   "source": [
    "from sklearn.preprocessing import PowerTransformer\n",
    "pt = PowerTransformer() #deafault method=boxcox\n",
    "\n",
    "skew_col = [\"CY-105\",\"CS-105\",\"CS-106\",\"EE-119\",\"HS-205/20\",\"EE-222\",\"CS-210\",\"EE-217\",\"MT-331\",\"HS-304\",\"CS-302\",\"MT-442\",\"CS-403\",\"CS-406\",\"CS-414\",\"CS-419\",\"CS-423\",\"CS-412\"]\n",
    "df_grades[skew_col]= pt.fit_transform(df_grades[skew_col].values)"
   ]
  },
  {
   "cell_type": "code",
   "execution_count": 114,
   "id": "fa047bfe",
   "metadata": {},
   "outputs": [
    {
     "data": {
      "text/plain": [
       "PH-121       0.549104\n",
       "HS-101       0.053303\n",
       "CY-105       0.029825\n",
       "HS-105/12    0.337649\n",
       "MT-111       0.520916\n",
       "CS-105       0.022592\n",
       "CS-106      -0.032774\n",
       "EL-102       0.532311\n",
       "EE-119      -0.015615\n",
       "ME-107       0.131791\n",
       "CS-107       0.456184\n",
       "HS-205/20    0.061450\n",
       "MT-222       0.267531\n",
       "EE-222       0.007766\n",
       "MT-224       0.566537\n",
       "CS-210       0.025581\n",
       "CS-211       0.202623\n",
       "CS-203       0.337821\n",
       "CS-214       0.120394\n",
       "EE-217       0.013186\n",
       "CS-212       0.459739\n",
       "CS-215       0.288215\n",
       "MT-331      -0.001824\n",
       "EF-303       0.547945\n",
       "HS-304      -0.013567\n",
       "CS-301       0.489045\n",
       "CS-302       0.006323\n",
       "TC-383       0.379712\n",
       "MT-442       0.009723\n",
       "EL-332       0.587335\n",
       "CS-318       0.511718\n",
       "CS-306       0.575364\n",
       "CS-312       0.561465\n",
       "CS-317       0.273812\n",
       "CS-403       0.004230\n",
       "CS-421       0.317459\n",
       "CS-406      -0.045037\n",
       "CS-414       0.066654\n",
       "CS-419       0.003618\n",
       "CS-423      -0.004580\n",
       "CS-412      -0.034709\n",
       "CGPA        -0.497203\n",
       "dtype: float64"
      ]
     },
     "execution_count": 114,
     "metadata": {},
     "output_type": "execute_result"
    }
   ],
   "source": [
    "df_grades.skew()"
   ]
  },
  {
   "cell_type": "markdown",
   "id": "5325b9c6",
   "metadata": {},
   "source": [
    "Obs- We can see the skewness has come within the acceptable range after the power transformation"
   ]
  },
  {
   "cell_type": "markdown",
   "id": "d4dcc2d8",
   "metadata": {},
   "source": [
    "### Checking for outliers"
   ]
  },
  {
   "cell_type": "code",
   "execution_count": 115,
   "id": "3dc24737",
   "metadata": {},
   "outputs": [
    {
     "name": "stdout",
     "output_type": "stream",
     "text": [
      "(array([143, 281, 288, 565], dtype=int64), array([41, 41, 41, 41], dtype=int64))\n"
     ]
    }
   ],
   "source": [
    "# Method 1: Z-score\n",
    "from scipy.stats import zscore\n",
    "z=np.abs(zscore(df_grades))\n",
    "threshold=3\n",
    "print(np.where(z>3))"
   ]
  },
  {
   "cell_type": "markdown",
   "id": "55689dc8",
   "metadata": {},
   "source": [
    "Obs-From the box plot, we already visualized outliers were present in multiple columns.\n",
    "\n",
    "Here it is exactly showing the locations where outliers are present, removing these locations data further"
   ]
  },
  {
   "cell_type": "code",
   "execution_count": 116,
   "id": "57489989",
   "metadata": {},
   "outputs": [],
   "source": [
    "df_grades_new=df_grades[(z<3).all(axis=1)]"
   ]
  },
  {
   "cell_type": "code",
   "execution_count": 117,
   "id": "0bff8269",
   "metadata": {},
   "outputs": [
    {
     "name": "stdout",
     "output_type": "stream",
     "text": [
      "df_grades.shape: (571, 42) \n",
      "df_grades_new.shape: (567, 42)\n"
     ]
    }
   ],
   "source": [
    "print(\"df_grades.shape:\",df_grades.shape, \"\\ndf_grades_new.shape:\",df_grades_new.shape)"
   ]
  },
  {
   "cell_type": "code",
   "execution_count": 118,
   "id": "c7c5728a",
   "metadata": {},
   "outputs": [
    {
     "data": {
      "text/plain": [
       "0.7005253940455342"
      ]
     },
     "execution_count": 118,
     "metadata": {},
     "output_type": "execute_result"
    }
   ],
   "source": [
    "# Let's check the the data loss\n",
    "data_loss = (571-567)/571*100\n",
    "data_loss"
   ]
  },
  {
   "cell_type": "code",
   "execution_count": 120,
   "id": "280386c0",
   "metadata": {},
   "outputs": [],
   "source": [
    "# Method 2: IQR(Inter Quartile) Method\n",
    "Q1=df_grades.quantile(0.25)\n",
    "Q3=df_grades.quantile(0.75)\n",
    "IQR=Q3 - Q1\n",
    "\n",
    "df_grades_new2=df_grades[~((df_grades < (Q1 - 1.5 * IQR)) |(df_grades > (Q3 + 1.5 * IQR))).any(axis=1)]"
   ]
  },
  {
   "cell_type": "code",
   "execution_count": 121,
   "id": "3924d990",
   "metadata": {},
   "outputs": [
    {
     "name": "stdout",
     "output_type": "stream",
     "text": [
      "df_grades.shape: (571, 42) \n",
      "df_grades_new2.shape: (428, 42)\n"
     ]
    }
   ],
   "source": [
    "print(\"df_grades.shape:\",df_grades.shape, \"\\ndf_grades_new2.shape:\",df_grades_new2.shape)"
   ]
  },
  {
   "cell_type": "code",
   "execution_count": 122,
   "id": "f4a16d7e",
   "metadata": {},
   "outputs": [
    {
     "data": {
      "text/plain": [
       "25.04378283712785"
      ]
     },
     "execution_count": 122,
     "metadata": {},
     "output_type": "execute_result"
    }
   ],
   "source": [
    "# Let's check the the data loss\n",
    "data_loss = (571-428)/571*100\n",
    "data_loss"
   ]
  },
  {
   "cell_type": "markdown",
   "id": "dfbffef7",
   "metadata": {},
   "source": [
    "Obs- The Data Loss in IQR method is more, so we will be going with Z-score method"
   ]
  },
  {
   "cell_type": "code",
   "execution_count": 123,
   "id": "648da099",
   "metadata": {},
   "outputs": [
    {
     "data": {
      "text/plain": [
       "(567, 42)"
      ]
     },
     "execution_count": 123,
     "metadata": {},
     "output_type": "execute_result"
    }
   ],
   "source": [
    "df_grades=df_grades_new # Assigning back the new created dataframe\n",
    "df_grades.shape"
   ]
  },
  {
   "cell_type": "markdown",
   "id": "140283c8",
   "metadata": {},
   "source": [
    "### Creating Input(Predictor) and Output(Target) Columns"
   ]
  },
  {
   "cell_type": "code",
   "execution_count": 124,
   "id": "d79cb629",
   "metadata": {},
   "outputs": [],
   "source": [
    "x=df_grades.drop(columns=['CGPA'],axis=1)\n",
    "y=df_grades['CGPA']"
   ]
  },
  {
   "cell_type": "code",
   "execution_count": 41,
   "id": "e5fbb26f",
   "metadata": {},
   "outputs": [
    {
     "data": {
      "text/plain": [
       "(567, 41)"
      ]
     },
     "execution_count": 41,
     "metadata": {},
     "output_type": "execute_result"
    }
   ],
   "source": [
    "x.shape"
   ]
  },
  {
   "cell_type": "code",
   "execution_count": 125,
   "id": "b978eb2e",
   "metadata": {},
   "outputs": [
    {
     "data": {
      "text/plain": [
       "(567,)"
      ]
     },
     "execution_count": 125,
     "metadata": {},
     "output_type": "execute_result"
    }
   ],
   "source": [
    "y.shape"
   ]
  },
  {
   "cell_type": "markdown",
   "id": "5d174e33",
   "metadata": {},
   "source": [
    "### Data Scaling"
   ]
  },
  {
   "cell_type": "code",
   "execution_count": 126,
   "id": "510de9af",
   "metadata": {},
   "outputs": [
    {
     "data": {
      "text/plain": [
       "array([[ 0.42096781,  1.79298088,  1.45210291, ...,  1.42077602,\n",
       "        -0.24902311, -0.48304112],\n",
       "       [-1.24352833,  1.43145166,  1.72453752, ...,  0.81514   ,\n",
       "         0.70174853, -0.11535698],\n",
       "       [-1.24352833, -0.73772364, -1.26201177, ..., -1.95220221,\n",
       "        -0.63923431, -1.76261362],\n",
       "       ...,\n",
       "       [-0.24483065, -1.82231129,  0.03008403, ...,  0.11860006,\n",
       "        -0.63923431, -0.48304112],\n",
       "       [-1.24352833, -0.37619442,  1.59469043, ..., -0.28020986,\n",
       "         0.41117572,  0.64077422],\n",
       "       [ 0.75386703,  1.43145166,  1.59469043, ...,  0.11860006,\n",
       "         1.46971551,  0.99902572]])"
      ]
     },
     "execution_count": 126,
     "metadata": {},
     "output_type": "execute_result"
    }
   ],
   "source": [
    "from sklearn.preprocessing import StandardScaler\n",
    "st=StandardScaler()\n",
    "x_scale=st.fit_transform(x)\n",
    "x_scale"
   ]
  },
  {
   "cell_type": "code",
   "execution_count": 127,
   "id": "754e8c30",
   "metadata": {},
   "outputs": [],
   "source": [
    "x=pd.DataFrame(data=x_scale)"
   ]
  },
  {
   "cell_type": "markdown",
   "id": "b5bac569",
   "metadata": {},
   "source": [
    "### Data Modelling\n",
    "We will make two models:\n",
    "* 1.Without PCA (Even though there are many columns in the dataset, but still I feel marks in every subject cannot be correlated with each other as every student can have different expertise.)\n",
    "* 2. Using PCA(to remove curse of dimensionality)"
   ]
  },
  {
   "cell_type": "markdown",
   "id": "90affb57",
   "metadata": {},
   "source": [
    "### Model1(Without PCA)"
   ]
  },
  {
   "cell_type": "markdown",
   "id": "afdea6d4",
   "metadata": {},
   "source": [
    "#### Finding Best Random State"
   ]
  },
  {
   "cell_type": "code",
   "execution_count": 128,
   "id": "f2d015da",
   "metadata": {},
   "outputs": [],
   "source": [
    "#importing necessary libraries\n",
    "from sklearn.linear_model import LinearRegression\n",
    "from sklearn.model_selection import train_test_split\n",
    "from sklearn.metrics import mean_squared_error,mean_absolute_error\n",
    "\n",
    "from sklearn.svm import SVR\n",
    "from sklearn.tree import DecisionTreeRegressor\n",
    "from sklearn.neighbors import KNeighborsRegressor\n",
    "\n",
    "from sklearn.ensemble import RandomForestRegressor\n",
    "from sklearn.ensemble import AdaBoostRegressor\n",
    "from sklearn.ensemble import GradientBoostingRegressor"
   ]
  },
  {
   "cell_type": "code",
   "execution_count": 175,
   "id": "59126d1b",
   "metadata": {},
   "outputs": [
    {
     "name": "stdout",
     "output_type": "stream",
     "text": [
      "Best accuracy is  0.9676997283669325  on Random_state  172\n"
     ]
    }
   ],
   "source": [
    "maxAccu=0\n",
    "maxRS=0\n",
    "for i in range(1,200):\n",
    "    x_train,x_test,y_train,y_test = train_test_split(x,y,test_size=.30, random_state =i)\n",
    "    lr = LinearRegression()\n",
    "    lr.fit(x_train, y_train)\n",
    "    pred = lr.predict(x_test)\n",
    "    acc=r2_score(y_test, pred)\n",
    "    if acc>maxAccu:\n",
    "        maxAccu=acc\n",
    "        maxRS=i\n",
    "print(\"Best accuracy is \",maxAccu,\" on Random_state \",maxRS)"
   ]
  },
  {
   "cell_type": "markdown",
   "id": "bdfaad63",
   "metadata": {},
   "source": [
    "#### Splitting data into Train-Test"
   ]
  },
  {
   "cell_type": "code",
   "execution_count": 180,
   "id": "8c6ed655",
   "metadata": {},
   "outputs": [],
   "source": [
    "x_train,x_test,y_train,y_test=train_test_split(x,y,test_size=0.30,random_state=172)"
   ]
  },
  {
   "cell_type": "code",
   "execution_count": 181,
   "id": "97cdb942",
   "metadata": {},
   "outputs": [
    {
     "data": {
      "text/plain": [
       "(396, 41)"
      ]
     },
     "execution_count": 181,
     "metadata": {},
     "output_type": "execute_result"
    }
   ],
   "source": [
    "x_train.shape"
   ]
  },
  {
   "cell_type": "code",
   "execution_count": 182,
   "id": "830c22e6",
   "metadata": {},
   "outputs": [
    {
     "data": {
      "text/plain": [
       "(396,)"
      ]
     },
     "execution_count": 182,
     "metadata": {},
     "output_type": "execute_result"
    }
   ],
   "source": [
    "y_train.shape"
   ]
  },
  {
   "cell_type": "code",
   "execution_count": 183,
   "id": "813edc1c",
   "metadata": {},
   "outputs": [
    {
     "data": {
      "text/plain": [
       "(171, 41)"
      ]
     },
     "execution_count": 183,
     "metadata": {},
     "output_type": "execute_result"
    }
   ],
   "source": [
    "x_test.shape"
   ]
  },
  {
   "cell_type": "code",
   "execution_count": 135,
   "id": "1db21a52",
   "metadata": {},
   "outputs": [
    {
     "data": {
      "text/plain": [
       "(171,)"
      ]
     },
     "execution_count": 135,
     "metadata": {},
     "output_type": "execute_result"
    }
   ],
   "source": [
    "y_test.shape"
   ]
  },
  {
   "cell_type": "markdown",
   "id": "6919bf60",
   "metadata": {},
   "source": [
    "### Using various Machine Learning Algorithms"
   ]
  },
  {
   "cell_type": "markdown",
   "id": "7351c2d5",
   "metadata": {},
   "source": [
    "#### 1. Linear Regression"
   ]
  },
  {
   "cell_type": "code",
   "execution_count": 184,
   "id": "17c11f29",
   "metadata": {},
   "outputs": [
    {
     "data": {
      "text/plain": [
       "0.9414211134949567"
      ]
     },
     "execution_count": 184,
     "metadata": {},
     "output_type": "execute_result"
    }
   ],
   "source": [
    "lr=LinearRegression()\n",
    "lr.fit(x_train,y_train)\n",
    "lr.score(x_train,y_train)"
   ]
  },
  {
   "cell_type": "code",
   "execution_count": 185,
   "id": "c879345c",
   "metadata": {},
   "outputs": [
    {
     "name": "stdout",
     "output_type": "stream",
     "text": [
      "r2_score= 0.9676997283669325 \n",
      "\n",
      "Mean Absolute Error: 0.08120836270905112\n",
      "Mean Squared Error: 0.011295521863581197\n",
      "Root Meand Squared Error: 0.10628039265820012\n"
     ]
    }
   ],
   "source": [
    "predlr=lr.predict(x_test)\n",
    "print(\"r2_score=\",r2_score(y_test,predlr),\"\\n\")\n",
    "\n",
    "print(\"Mean Absolute Error:\",mean_absolute_error(y_test,predlr))\n",
    "print(\"Mean Squared Error:\",mean_squared_error(y_test,predlr))\n",
    "print(\"Root Meand Squared Error:\",np.sqrt(mean_squared_error(y_test,predlr)))"
   ]
  },
  {
   "cell_type": "markdown",
   "id": "592068d2",
   "metadata": {},
   "source": [
    "#### 2. Support Vector Regressor"
   ]
  },
  {
   "cell_type": "code",
   "execution_count": 186,
   "id": "1a2e2015",
   "metadata": {},
   "outputs": [
    {
     "data": {
      "text/plain": [
       "0.9868726031105287"
      ]
     },
     "execution_count": 186,
     "metadata": {},
     "output_type": "execute_result"
    }
   ],
   "source": [
    "svr=SVR()\n",
    "svr.fit(x_train,y_train)\n",
    "svr.score(x_train,y_train)"
   ]
  },
  {
   "cell_type": "code",
   "execution_count": 187,
   "id": "125cea7c",
   "metadata": {},
   "outputs": [
    {
     "name": "stdout",
     "output_type": "stream",
     "text": [
      "r2_score= 0.9738644820121619 \n",
      "\n",
      "Mean Absolute Error: 0.06841598214540497\n",
      "Mean Squared Error: 0.009139685207644459\n",
      "Root Meand Squared Error: 0.09560170086167118\n"
     ]
    }
   ],
   "source": [
    "predsvr=svr.predict(x_test)\n",
    "print(\"r2_score=\",r2_score(y_test,predsvr),\"\\n\")\n",
    "\n",
    "print(\"Mean Absolute Error:\",mean_absolute_error(y_test,predsvr))\n",
    "print(\"Mean Squared Error:\",mean_squared_error(y_test,predsvr))\n",
    "print(\"Root Meand Squared Error:\",np.sqrt(mean_squared_error(y_test,predsvr)))"
   ]
  },
  {
   "cell_type": "markdown",
   "id": "1d0fe72f",
   "metadata": {},
   "source": [
    "#### 3. Decision Tree Regressor"
   ]
  },
  {
   "cell_type": "code",
   "execution_count": 188,
   "id": "f60c65f2",
   "metadata": {},
   "outputs": [
    {
     "data": {
      "text/plain": [
       "1.0"
      ]
     },
     "execution_count": 188,
     "metadata": {},
     "output_type": "execute_result"
    }
   ],
   "source": [
    "dtr=DecisionTreeRegressor()\n",
    "dtr.fit(x_train,y_train)\n",
    "dtr.score(x_train,y_train)"
   ]
  },
  {
   "cell_type": "code",
   "execution_count": 189,
   "id": "37ee8f5e",
   "metadata": {},
   "outputs": [
    {
     "name": "stdout",
     "output_type": "stream",
     "text": [
      "r2_score= 0.8018791141729043 \n",
      "\n",
      "Mean Absolute Error: 0.19294736842105262\n",
      "Mean Squared Error: 0.06928359064327486\n",
      "Root Meand Squared Error: 0.2632177627806962\n"
     ]
    }
   ],
   "source": [
    "preddtr=dtr.predict(x_test)\n",
    "print(\"r2_score=\",r2_score(y_test,preddtr),\"\\n\")\n",
    "\n",
    "print(\"Mean Absolute Error:\",mean_absolute_error(y_test,preddtr))\n",
    "print(\"Mean Squared Error:\",mean_squared_error(y_test,preddtr))\n",
    "print(\"Root Meand Squared Error:\",np.sqrt(mean_squared_error(y_test,preddtr)))"
   ]
  },
  {
   "cell_type": "markdown",
   "id": "d80bce3f",
   "metadata": {},
   "source": [
    "#### 4. K Neighbors Regressor"
   ]
  },
  {
   "cell_type": "code",
   "execution_count": 190,
   "id": "e6adf870",
   "metadata": {},
   "outputs": [
    {
     "data": {
      "text/plain": [
       "0.9689172731617635"
      ]
     },
     "execution_count": 190,
     "metadata": {},
     "output_type": "execute_result"
    }
   ],
   "source": [
    "knr=KNeighborsRegressor()\n",
    "knr.fit(x_train,y_train)\n",
    "knr.score(x_train,y_train)"
   ]
  },
  {
   "cell_type": "code",
   "execution_count": 191,
   "id": "23103ec7",
   "metadata": {},
   "outputs": [
    {
     "name": "stdout",
     "output_type": "stream",
     "text": [
      "r2_score= 0.9736959137122928 \n",
      "\n",
      "Mean Absolute Error: 0.07253450292397666\n",
      "Mean Squared Error: 0.009198634152046787\n",
      "Root Meand Squared Error: 0.09590951022733245\n"
     ]
    }
   ],
   "source": [
    "predknr=knr.predict(x_test)\n",
    "print(\"r2_score=\",r2_score(y_test,predknr),\"\\n\")\n",
    "\n",
    "print(\"Mean Absolute Error:\",mean_absolute_error(y_test,predknr))\n",
    "print(\"Mean Squared Error:\",mean_squared_error(y_test,predknr))\n",
    "print(\"Root Meand Squared Error:\",np.sqrt(mean_squared_error(y_test,predknr)))"
   ]
  },
  {
   "cell_type": "markdown",
   "id": "5065bf57",
   "metadata": {},
   "source": [
    "#### 5.Random Forest Regressor"
   ]
  },
  {
   "cell_type": "code",
   "execution_count": 192,
   "id": "421dd07d",
   "metadata": {},
   "outputs": [
    {
     "data": {
      "text/plain": [
       "0.9908597971082438"
      ]
     },
     "execution_count": 192,
     "metadata": {},
     "output_type": "execute_result"
    }
   ],
   "source": [
    "rfr=RandomForestRegressor()\n",
    "rfr.fit(x_train,y_train)\n",
    "rfr.score(x_train,y_train)"
   ]
  },
  {
   "cell_type": "code",
   "execution_count": 193,
   "id": "331d81fc",
   "metadata": {},
   "outputs": [
    {
     "name": "stdout",
     "output_type": "stream",
     "text": [
      "r2_score= 0.9668920192650918 \n",
      "\n",
      "Mean Absolute Error: 0.08093643274853796\n",
      "Mean Squared Error: 0.011577980659064326\n",
      "Root Meand Squared Error: 0.10760102536251374\n"
     ]
    }
   ],
   "source": [
    "predrfr=rfr.predict(x_test)\n",
    "print(\"r2_score=\",r2_score(y_test,predrfr),\"\\n\")\n",
    "\n",
    "print(\"Mean Absolute Error:\",mean_absolute_error(y_test,predrfr))\n",
    "print(\"Mean Squared Error:\",mean_squared_error(y_test,predrfr))\n",
    "print(\"Root Meand Squared Error:\",np.sqrt(mean_squared_error(y_test,predrfr)))"
   ]
  },
  {
   "cell_type": "markdown",
   "id": "88366f62",
   "metadata": {},
   "source": [
    "#### 6.Ada Boost Regressor"
   ]
  },
  {
   "cell_type": "code",
   "execution_count": 194,
   "id": "7db6cb2d",
   "metadata": {},
   "outputs": [
    {
     "data": {
      "text/plain": [
       "0.9453148619524883"
      ]
     },
     "execution_count": 194,
     "metadata": {},
     "output_type": "execute_result"
    }
   ],
   "source": [
    "adr=AdaBoostRegressor()\n",
    "adr.fit(x_train,y_train)\n",
    "adr.score(x_train,y_train)"
   ]
  },
  {
   "cell_type": "code",
   "execution_count": 195,
   "id": "6d99d15d",
   "metadata": {},
   "outputs": [
    {
     "name": "stdout",
     "output_type": "stream",
     "text": [
      "r2_score= 0.9326438664125084 \n",
      "\n",
      "Mean Absolute Error: 0.12912419440347536\n",
      "Mean Squared Error: 0.02355468363321476\n",
      "Root Meand Squared Error: 0.15347535187519448\n"
     ]
    }
   ],
   "source": [
    "predadr=adr.predict(x_test)\n",
    "print(\"r2_score=\",r2_score(y_test,predadr),\"\\n\")\n",
    "\n",
    "print(\"Mean Absolute Error:\",mean_absolute_error(y_test,predadr))\n",
    "print(\"Mean Squared Error:\",mean_squared_error(y_test,predadr))\n",
    "print(\"Root Meand Squared Error:\",np.sqrt(mean_squared_error(y_test,predadr)))"
   ]
  },
  {
   "cell_type": "markdown",
   "id": "597fa569",
   "metadata": {},
   "source": [
    "#### 7.Gradient Boosting Regressor"
   ]
  },
  {
   "cell_type": "code",
   "execution_count": 196,
   "id": "2e4bdade",
   "metadata": {},
   "outputs": [
    {
     "data": {
      "text/plain": [
       "0.9974084547429366"
      ]
     },
     "execution_count": 196,
     "metadata": {},
     "output_type": "execute_result"
    }
   ],
   "source": [
    "gbr=GradientBoostingRegressor()\n",
    "gbr.fit(x_train,y_train)\n",
    "gbr.score(x_train,y_train)"
   ]
  },
  {
   "cell_type": "code",
   "execution_count": 197,
   "id": "848362b4",
   "metadata": {},
   "outputs": [
    {
     "name": "stdout",
     "output_type": "stream",
     "text": [
      "r2_score= 0.9743797762764552 \n",
      "\n",
      "Mean Absolute Error: 0.06896812121726931\n",
      "Mean Squared Error: 0.008959484938909098\n",
      "Root Meand Squared Error: 0.09465455582754112\n"
     ]
    }
   ],
   "source": [
    "predgbr=gbr.predict(x_test)\n",
    "print(\"r2_score=\",r2_score(y_test,predgbr),\"\\n\")\n",
    "\n",
    "print(\"Mean Absolute Error:\",mean_absolute_error(y_test,predgbr))\n",
    "print(\"Mean Squared Error:\",mean_squared_error(y_test,predgbr))\n",
    "print(\"Root Meand Squared Error:\",np.sqrt(mean_squared_error(y_test,predgbr)))"
   ]
  },
  {
   "cell_type": "markdown",
   "id": "257a72ae",
   "metadata": {},
   "source": [
    "### Regularization to overcome Over-Fitting (Lasso,Ridge)"
   ]
  },
  {
   "cell_type": "code",
   "execution_count": 198,
   "id": "7ac6584d",
   "metadata": {},
   "outputs": [],
   "source": [
    "from sklearn.model_selection import GridSearchCV\n",
    "from sklearn.linear_model import Lasso,Ridge"
   ]
  },
  {
   "cell_type": "markdown",
   "id": "1c99b2ae",
   "metadata": {},
   "source": [
    "#### 8. Lasso Regression"
   ]
  },
  {
   "cell_type": "code",
   "execution_count": 199,
   "id": "74c292f5",
   "metadata": {},
   "outputs": [
    {
     "data": {
      "text/plain": [
       "0.8737548762533658"
      ]
     },
     "execution_count": 199,
     "metadata": {},
     "output_type": "execute_result"
    }
   ],
   "source": [
    "ls=Lasso(alpha=0.1)\n",
    "ls.fit(x_train,y_train)\n",
    "ls.score(x_train,y_train)"
   ]
  },
  {
   "cell_type": "code",
   "execution_count": 200,
   "id": "96b171af",
   "metadata": {},
   "outputs": [
    {
     "name": "stdout",
     "output_type": "stream",
     "text": [
      "r2_score= 0.8969430687282489 \n",
      "\n",
      "Mean Absolute Error: 0.15616754479062347\n",
      "Mean Squared Error: 0.03603938176117121\n",
      "Root Meand Squared Error: 0.18984041129636023\n"
     ]
    }
   ],
   "source": [
    "predls=ls.predict(x_test)\n",
    "print(\"r2_score=\",r2_score(y_test,predls),\"\\n\")\n",
    "\n",
    "print(\"Mean Absolute Error:\",mean_absolute_error(y_test,predls))\n",
    "print(\"Mean Squared Error:\",mean_squared_error(y_test,predls))\n",
    "print(\"Root Meand Squared Error:\",np.sqrt(mean_squared_error(y_test,predls)))"
   ]
  },
  {
   "cell_type": "markdown",
   "id": "a6224e2c",
   "metadata": {},
   "source": [
    "#### 9. Ridge Regression"
   ]
  },
  {
   "cell_type": "code",
   "execution_count": 201,
   "id": "f455518e",
   "metadata": {},
   "outputs": [
    {
     "data": {
      "text/plain": [
       "0.941421105826728"
      ]
     },
     "execution_count": 201,
     "metadata": {},
     "output_type": "execute_result"
    }
   ],
   "source": [
    "rg=Ridge(alpha=0.1)\n",
    "rg.fit(x_train,y_train)\n",
    "rg.score(x_train,y_train)"
   ]
  },
  {
   "cell_type": "code",
   "execution_count": 202,
   "id": "aaf6e29c",
   "metadata": {},
   "outputs": [
    {
     "name": "stdout",
     "output_type": "stream",
     "text": [
      "r2_score= 0.9677106749256968 \n",
      "\n",
      "Mean Absolute Error: 0.0811888128013963\n",
      "Mean Squared Error: 0.011291693812372876\n",
      "Root Meand Squared Error: 0.10626238192499204\n"
     ]
    }
   ],
   "source": [
    "predrg=rg.predict(x_test)\n",
    "print(\"r2_score=\",r2_score(y_test,predrg),\"\\n\")\n",
    "\n",
    "print(\"Mean Absolute Error:\",mean_absolute_error(y_test,predrg))\n",
    "print(\"Mean Squared Error:\",mean_squared_error(y_test,predrg))\n",
    "print(\"Root Meand Squared Error:\",np.sqrt(mean_squared_error(y_test,predrg)))"
   ]
  },
  {
   "cell_type": "markdown",
   "id": "f339b651",
   "metadata": {},
   "source": [
    "### Cross Validation"
   ]
  },
  {
   "cell_type": "code",
   "execution_count": 203,
   "id": "0d6a20a0",
   "metadata": {},
   "outputs": [],
   "source": [
    "from sklearn.model_selection import cross_val_score"
   ]
  },
  {
   "cell_type": "code",
   "execution_count": 204,
   "id": "ac983eba",
   "metadata": {},
   "outputs": [
    {
     "name": "stdout",
     "output_type": "stream",
     "text": [
      "CV score  for Linear Regression 0.9344398017497084\n"
     ]
    }
   ],
   "source": [
    "# cv score for 1. Logistic Regression \n",
    "print('CV score  for Linear Regression',cross_val_score(lr,x,y,cv=10).mean())"
   ]
  },
  {
   "cell_type": "code",
   "execution_count": 205,
   "id": "f0a41f26",
   "metadata": {},
   "outputs": [
    {
     "name": "stdout",
     "output_type": "stream",
     "text": [
      "CV score  for Support Vector Regressor 0.9591341165611136\n"
     ]
    }
   ],
   "source": [
    "# cv score for 2. Support Vector Regressor\n",
    "print('CV score  for Support Vector Regressor',cross_val_score(svr,x,y,cv=10).mean())"
   ]
  },
  {
   "cell_type": "code",
   "execution_count": 206,
   "id": "19e0542b",
   "metadata": {},
   "outputs": [
    {
     "name": "stdout",
     "output_type": "stream",
     "text": [
      "CV score  for Decision Tree Regressor 0.7984120251779834\n"
     ]
    }
   ],
   "source": [
    "# cv score for 3. Decision Tree Regressor\n",
    "print('CV score  for Decision Tree Regressor',cross_val_score(dtr,x,y,cv=10).mean())"
   ]
  },
  {
   "cell_type": "code",
   "execution_count": 208,
   "id": "5255ddcc",
   "metadata": {},
   "outputs": [
    {
     "name": "stdout",
     "output_type": "stream",
     "text": [
      "CV score  for K Neighbors Regressor 0.9450314277388415\n"
     ]
    }
   ],
   "source": [
    "# cv score for 4. K Neighbors Regressor\n",
    "print('CV score  for K Neighbors Regressor',cross_val_score(knr,x,y,cv=10).mean())"
   ]
  },
  {
   "cell_type": "code",
   "execution_count": 209,
   "id": "6c872a22",
   "metadata": {},
   "outputs": [
    {
     "name": "stdout",
     "output_type": "stream",
     "text": [
      "CV score  for Random Forest Regressor 0.9350340188236398\n"
     ]
    }
   ],
   "source": [
    "# cv score for 5.Random Forest Regressor\n",
    "print('CV score  for Random Forest Regressor',cross_val_score(rfr,x,y,cv=10).mean())"
   ]
  },
  {
   "cell_type": "code",
   "execution_count": 210,
   "id": "fd6c1ba7",
   "metadata": {},
   "outputs": [
    {
     "name": "stdout",
     "output_type": "stream",
     "text": [
      "CV score  for Ada Boost Regressor 0.9030579950149494\n"
     ]
    }
   ],
   "source": [
    "# cv score for 6.Ada Boost Regressor\n",
    "print('CV score  for Ada Boost Regressor',cross_val_score(adr,x,y,cv=10).mean())"
   ]
  },
  {
   "cell_type": "code",
   "execution_count": 211,
   "id": "82fdbf26",
   "metadata": {},
   "outputs": [
    {
     "name": "stdout",
     "output_type": "stream",
     "text": [
      "CV score  for Gradient Boosting Regressor Regressor 0.9554394350290272\n"
     ]
    }
   ],
   "source": [
    "# cv score for 7.Gradient Boosting RegressorRegressor\n",
    "print('CV score  for Gradient Boosting Regressor Regressor',cross_val_score(gbr,x,y,cv=10).mean())"
   ]
  },
  {
   "cell_type": "code",
   "execution_count": 212,
   "id": "83639ebe",
   "metadata": {},
   "outputs": [
    {
     "name": "stdout",
     "output_type": "stream",
     "text": [
      "CV score  for Lasso Regression 0.8616107292240744\n"
     ]
    }
   ],
   "source": [
    "# cv score for 8. Lasso Regression \n",
    "print('CV score  for Lasso Regression',cross_val_score(ls,x,y,cv=10).mean())"
   ]
  },
  {
   "cell_type": "code",
   "execution_count": 214,
   "id": "c08ac18c",
   "metadata": {},
   "outputs": [
    {
     "name": "stdout",
     "output_type": "stream",
     "text": [
      "CV score  for Ridge Regression 0.934446738489213\n"
     ]
    }
   ],
   "source": [
    "# cv score for 9. Ridge Regression\n",
    "print('CV score  for Ridge Regression',cross_val_score(rg,x,y,cv=10).mean())"
   ]
  },
  {
   "cell_type": "markdown",
   "id": "1aef9e18",
   "metadata": {},
   "source": [
    "Obs- After comparing difference in Training Accuracy(Score)vsTesting Accuracy(r2_score)vs Cross Validation Score and also errors, we can say the best performing model is Support Vector Regressor(SVR)       "
   ]
  },
  {
   "cell_type": "markdown",
   "id": "821fb732",
   "metadata": {},
   "source": [
    "### Hyper Parameter Tuning"
   ]
  },
  {
   "cell_type": "code",
   "execution_count": 215,
   "id": "f4c1664c",
   "metadata": {},
   "outputs": [],
   "source": [
    "#Selecting few parameter list of SVR to pass in Gradient Boosting \n",
    "from sklearn.model_selection import GridSearchCV\n",
    "parameters={'kernel':['linear', 'poly', 'rbf', 'sigmoid'],'gamma':['scale', 'auto'] }"
   ]
  },
  {
   "cell_type": "code",
   "execution_count": 216,
   "id": "9c046d9c",
   "metadata": {},
   "outputs": [
    {
     "name": "stdout",
     "output_type": "stream",
     "text": [
      "{'gamma': 'scale', 'kernel': 'rbf'}\n"
     ]
    }
   ],
   "source": [
    "#start the tuning\n",
    "svr1=SVR()\n",
    "GCV=GridSearchCV(svr1,parameters,cv=10)\n",
    "\n",
    "GCV.fit(x_train,y_train)  \n",
    "print(GCV.best_params_)         #printing the best parameter found by Gridsearchcv"
   ]
  },
  {
   "cell_type": "code",
   "execution_count": 217,
   "id": "371166cb",
   "metadata": {},
   "outputs": [
    {
     "data": {
      "text/plain": [
       "0.9868726031105287"
      ]
     },
     "execution_count": 217,
     "metadata": {},
     "output_type": "execute_result"
    }
   ],
   "source": [
    "#Applying best parameter values on Support Vector Regressor Algorithm \n",
    "CGPAbest=SVR(gamma='scale', kernel='rbf')\n",
    "CGPAbest.fit(x_train,y_train)\n",
    "CGPAbest.score(x_train,y_train)"
   ]
  },
  {
   "cell_type": "code",
   "execution_count": 218,
   "id": "4eb851b0",
   "metadata": {},
   "outputs": [
    {
     "name": "stdout",
     "output_type": "stream",
     "text": [
      "r2_score= 0.9738644820121619 \n",
      "\n",
      "Mean Absolute Error: 0.06841598214540497\n",
      "Mean Squared Error: 0.009139685207644459\n",
      "Root Meand Squared Error: 0.09560170086167118\n"
     ]
    }
   ],
   "source": [
    "predsvr1=CGPAbest.predict(x_test)\n",
    "print(\"r2_score=\",r2_score(y_test,predsvr1),\"\\n\")\n",
    "\n",
    "print(\"Mean Absolute Error:\",mean_absolute_error(y_test,predsvr1))\n",
    "print(\"Mean Squared Error:\",mean_squared_error(y_test,predsvr1))\n",
    "print(\"Root Meand Squared Error:\",np.sqrt(mean_squared_error(y_test,predsvr1)))"
   ]
  },
  {
   "cell_type": "markdown",
   "id": "dbae4e91",
   "metadata": {},
   "source": [
    "Obs- Our best model has given r2_score= 0.9738644820121619 and Mean Absolute Error= 0.06841598214540497"
   ]
  },
  {
   "cell_type": "code",
   "execution_count": null,
   "id": "d035a22b",
   "metadata": {},
   "outputs": [],
   "source": []
  },
  {
   "cell_type": "markdown",
   "id": "4f214c1f",
   "metadata": {},
   "source": [
    "### Model2(Using PCA)"
   ]
  },
  {
   "cell_type": "code",
   "execution_count": 169,
   "id": "3fc67fef",
   "metadata": {},
   "outputs": [
    {
     "data": {
      "text/plain": [
       "array([[ 5.11742226, -1.10450708,  2.92577224, ..., -0.31055528,\n",
       "         0.4984501 , -0.06227938],\n",
       "       [ 5.77655227, -1.24346182,  0.16003424, ..., -1.68789334,\n",
       "        -1.26227039,  1.30720852],\n",
       "       [-5.49257753, -2.24012777, -0.09286713, ..., -0.86141065,\n",
       "         1.32698242, -0.79337705],\n",
       "       ...,\n",
       "       [-3.55960476,  1.03682143, -1.90679069, ...,  0.10255901,\n",
       "         0.44754517, -0.10774643],\n",
       "       [ 4.03652105, -0.18502547, -0.65150524, ..., -1.62510121,\n",
       "        -0.65187556, -0.14838277],\n",
       "       [ 6.57011759,  0.93385049, -1.1860648 , ...,  0.12912677,\n",
       "        -0.72507791,  0.06844995]])"
      ]
     },
     "execution_count": 169,
     "metadata": {},
     "output_type": "execute_result"
    }
   ],
   "source": [
    "from sklearn.decomposition import PCA\n",
    "pc=PCA(n_components=14)\n",
    "x1=pc.fit_transform(x)\n",
    "x1"
   ]
  },
  {
   "cell_type": "code",
   "execution_count": 173,
   "id": "82d034c7",
   "metadata": {},
   "outputs": [
    {
     "data": {
      "text/html": [
       "<div>\n",
       "<style scoped>\n",
       "    .dataframe tbody tr th:only-of-type {\n",
       "        vertical-align: middle;\n",
       "    }\n",
       "\n",
       "    .dataframe tbody tr th {\n",
       "        vertical-align: top;\n",
       "    }\n",
       "\n",
       "    .dataframe thead th {\n",
       "        text-align: right;\n",
       "    }\n",
       "</style>\n",
       "<table border=\"1\" class=\"dataframe\">\n",
       "  <thead>\n",
       "    <tr style=\"text-align: right;\">\n",
       "      <th></th>\n",
       "      <th>0</th>\n",
       "      <th>1</th>\n",
       "      <th>2</th>\n",
       "      <th>3</th>\n",
       "      <th>4</th>\n",
       "      <th>5</th>\n",
       "      <th>6</th>\n",
       "      <th>7</th>\n",
       "      <th>8</th>\n",
       "      <th>9</th>\n",
       "      <th>10</th>\n",
       "      <th>11</th>\n",
       "      <th>12</th>\n",
       "      <th>13</th>\n",
       "    </tr>\n",
       "  </thead>\n",
       "  <tbody>\n",
       "    <tr>\n",
       "      <th>0</th>\n",
       "      <td>5.117422</td>\n",
       "      <td>-1.104507</td>\n",
       "      <td>2.925772</td>\n",
       "      <td>-0.037529</td>\n",
       "      <td>-1.067145</td>\n",
       "      <td>0.079554</td>\n",
       "      <td>0.925067</td>\n",
       "      <td>-0.707415</td>\n",
       "      <td>0.694300</td>\n",
       "      <td>-0.836795</td>\n",
       "      <td>-0.543066</td>\n",
       "      <td>-0.310555</td>\n",
       "      <td>0.498450</td>\n",
       "      <td>-0.062279</td>\n",
       "    </tr>\n",
       "    <tr>\n",
       "      <th>1</th>\n",
       "      <td>5.776552</td>\n",
       "      <td>-1.243462</td>\n",
       "      <td>0.160034</td>\n",
       "      <td>0.274952</td>\n",
       "      <td>0.310961</td>\n",
       "      <td>-0.577987</td>\n",
       "      <td>0.791404</td>\n",
       "      <td>1.166400</td>\n",
       "      <td>2.067194</td>\n",
       "      <td>-0.557516</td>\n",
       "      <td>1.142397</td>\n",
       "      <td>-1.687893</td>\n",
       "      <td>-1.262270</td>\n",
       "      <td>1.307209</td>\n",
       "    </tr>\n",
       "    <tr>\n",
       "      <th>2</th>\n",
       "      <td>-5.492578</td>\n",
       "      <td>-2.240128</td>\n",
       "      <td>-0.092867</td>\n",
       "      <td>-1.689603</td>\n",
       "      <td>-0.799683</td>\n",
       "      <td>0.875440</td>\n",
       "      <td>-0.151689</td>\n",
       "      <td>-0.457306</td>\n",
       "      <td>0.098993</td>\n",
       "      <td>0.536697</td>\n",
       "      <td>-0.930946</td>\n",
       "      <td>-0.861411</td>\n",
       "      <td>1.326982</td>\n",
       "      <td>-0.793377</td>\n",
       "    </tr>\n",
       "    <tr>\n",
       "      <th>3</th>\n",
       "      <td>7.224340</td>\n",
       "      <td>-1.239559</td>\n",
       "      <td>0.700620</td>\n",
       "      <td>-0.312888</td>\n",
       "      <td>-0.296282</td>\n",
       "      <td>0.808202</td>\n",
       "      <td>-0.873609</td>\n",
       "      <td>0.377284</td>\n",
       "      <td>-0.822543</td>\n",
       "      <td>1.222281</td>\n",
       "      <td>0.515132</td>\n",
       "      <td>-0.202775</td>\n",
       "      <td>0.149373</td>\n",
       "      <td>0.068559</td>\n",
       "    </tr>\n",
       "    <tr>\n",
       "      <th>4</th>\n",
       "      <td>-3.362641</td>\n",
       "      <td>-2.488190</td>\n",
       "      <td>1.060057</td>\n",
       "      <td>-1.273759</td>\n",
       "      <td>1.042301</td>\n",
       "      <td>-1.952894</td>\n",
       "      <td>-0.110382</td>\n",
       "      <td>-0.222062</td>\n",
       "      <td>0.029091</td>\n",
       "      <td>0.462985</td>\n",
       "      <td>-0.860018</td>\n",
       "      <td>0.518065</td>\n",
       "      <td>0.128398</td>\n",
       "      <td>-1.116330</td>\n",
       "    </tr>\n",
       "    <tr>\n",
       "      <th>...</th>\n",
       "      <td>...</td>\n",
       "      <td>...</td>\n",
       "      <td>...</td>\n",
       "      <td>...</td>\n",
       "      <td>...</td>\n",
       "      <td>...</td>\n",
       "      <td>...</td>\n",
       "      <td>...</td>\n",
       "      <td>...</td>\n",
       "      <td>...</td>\n",
       "      <td>...</td>\n",
       "      <td>...</td>\n",
       "      <td>...</td>\n",
       "      <td>...</td>\n",
       "    </tr>\n",
       "    <tr>\n",
       "      <th>562</th>\n",
       "      <td>-6.640611</td>\n",
       "      <td>-0.737767</td>\n",
       "      <td>-0.699700</td>\n",
       "      <td>-0.250906</td>\n",
       "      <td>0.013867</td>\n",
       "      <td>1.112885</td>\n",
       "      <td>-0.736948</td>\n",
       "      <td>0.787040</td>\n",
       "      <td>-0.659009</td>\n",
       "      <td>0.437784</td>\n",
       "      <td>0.393121</td>\n",
       "      <td>-0.379654</td>\n",
       "      <td>0.207512</td>\n",
       "      <td>0.032566</td>\n",
       "    </tr>\n",
       "    <tr>\n",
       "      <th>563</th>\n",
       "      <td>-6.655038</td>\n",
       "      <td>0.236269</td>\n",
       "      <td>-2.096153</td>\n",
       "      <td>0.636486</td>\n",
       "      <td>0.199056</td>\n",
       "      <td>0.254809</td>\n",
       "      <td>-2.026774</td>\n",
       "      <td>0.802804</td>\n",
       "      <td>0.184822</td>\n",
       "      <td>0.187466</td>\n",
       "      <td>0.477441</td>\n",
       "      <td>1.374896</td>\n",
       "      <td>0.646768</td>\n",
       "      <td>0.041066</td>\n",
       "    </tr>\n",
       "    <tr>\n",
       "      <th>564</th>\n",
       "      <td>-3.559605</td>\n",
       "      <td>1.036821</td>\n",
       "      <td>-1.906791</td>\n",
       "      <td>0.218191</td>\n",
       "      <td>1.082369</td>\n",
       "      <td>-0.185615</td>\n",
       "      <td>-1.040698</td>\n",
       "      <td>1.473342</td>\n",
       "      <td>1.678410</td>\n",
       "      <td>-1.388928</td>\n",
       "      <td>-0.622858</td>\n",
       "      <td>0.102559</td>\n",
       "      <td>0.447545</td>\n",
       "      <td>-0.107746</td>\n",
       "    </tr>\n",
       "    <tr>\n",
       "      <th>565</th>\n",
       "      <td>4.036521</td>\n",
       "      <td>-0.185025</td>\n",
       "      <td>-0.651505</td>\n",
       "      <td>1.534373</td>\n",
       "      <td>-0.063004</td>\n",
       "      <td>-1.061139</td>\n",
       "      <td>-0.751700</td>\n",
       "      <td>-0.471232</td>\n",
       "      <td>0.992313</td>\n",
       "      <td>0.236017</td>\n",
       "      <td>-0.151987</td>\n",
       "      <td>-1.625101</td>\n",
       "      <td>-0.651876</td>\n",
       "      <td>-0.148383</td>\n",
       "    </tr>\n",
       "    <tr>\n",
       "      <th>566</th>\n",
       "      <td>6.570118</td>\n",
       "      <td>0.933850</td>\n",
       "      <td>-1.186065</td>\n",
       "      <td>-0.091482</td>\n",
       "      <td>-0.341228</td>\n",
       "      <td>-0.882360</td>\n",
       "      <td>1.355557</td>\n",
       "      <td>0.727508</td>\n",
       "      <td>0.418118</td>\n",
       "      <td>-0.202723</td>\n",
       "      <td>0.268947</td>\n",
       "      <td>0.129127</td>\n",
       "      <td>-0.725078</td>\n",
       "      <td>0.068450</td>\n",
       "    </tr>\n",
       "  </tbody>\n",
       "</table>\n",
       "<p>567 rows × 14 columns</p>\n",
       "</div>"
      ],
      "text/plain": [
       "           0         1         2         3         4         5         6   \\\n",
       "0    5.117422 -1.104507  2.925772 -0.037529 -1.067145  0.079554  0.925067   \n",
       "1    5.776552 -1.243462  0.160034  0.274952  0.310961 -0.577987  0.791404   \n",
       "2   -5.492578 -2.240128 -0.092867 -1.689603 -0.799683  0.875440 -0.151689   \n",
       "3    7.224340 -1.239559  0.700620 -0.312888 -0.296282  0.808202 -0.873609   \n",
       "4   -3.362641 -2.488190  1.060057 -1.273759  1.042301 -1.952894 -0.110382   \n",
       "..        ...       ...       ...       ...       ...       ...       ...   \n",
       "562 -6.640611 -0.737767 -0.699700 -0.250906  0.013867  1.112885 -0.736948   \n",
       "563 -6.655038  0.236269 -2.096153  0.636486  0.199056  0.254809 -2.026774   \n",
       "564 -3.559605  1.036821 -1.906791  0.218191  1.082369 -0.185615 -1.040698   \n",
       "565  4.036521 -0.185025 -0.651505  1.534373 -0.063004 -1.061139 -0.751700   \n",
       "566  6.570118  0.933850 -1.186065 -0.091482 -0.341228 -0.882360  1.355557   \n",
       "\n",
       "           7         8         9         10        11        12        13  \n",
       "0   -0.707415  0.694300 -0.836795 -0.543066 -0.310555  0.498450 -0.062279  \n",
       "1    1.166400  2.067194 -0.557516  1.142397 -1.687893 -1.262270  1.307209  \n",
       "2   -0.457306  0.098993  0.536697 -0.930946 -0.861411  1.326982 -0.793377  \n",
       "3    0.377284 -0.822543  1.222281  0.515132 -0.202775  0.149373  0.068559  \n",
       "4   -0.222062  0.029091  0.462985 -0.860018  0.518065  0.128398 -1.116330  \n",
       "..        ...       ...       ...       ...       ...       ...       ...  \n",
       "562  0.787040 -0.659009  0.437784  0.393121 -0.379654  0.207512  0.032566  \n",
       "563  0.802804  0.184822  0.187466  0.477441  1.374896  0.646768  0.041066  \n",
       "564  1.473342  1.678410 -1.388928 -0.622858  0.102559  0.447545 -0.107746  \n",
       "565 -0.471232  0.992313  0.236017 -0.151987 -1.625101 -0.651876 -0.148383  \n",
       "566  0.727508  0.418118 -0.202723  0.268947  0.129127 -0.725078  0.068450  \n",
       "\n",
       "[567 rows x 14 columns]"
      ]
     },
     "execution_count": 173,
     "metadata": {},
     "output_type": "execute_result"
    }
   ],
   "source": [
    "x1=pd.DataFrame(x1)\n",
    "x1"
   ]
  },
  {
   "cell_type": "markdown",
   "id": "31cc7c80",
   "metadata": {},
   "source": [
    "#### Finding Best Random State"
   ]
  },
  {
   "cell_type": "code",
   "execution_count": 171,
   "id": "24bcc774",
   "metadata": {},
   "outputs": [],
   "source": [
    "#importing necessary libraries\n",
    "from sklearn.linear_model import LinearRegression\n",
    "from sklearn.model_selection import train_test_split\n",
    "from sklearn.metrics import mean_squared_error,mean_absolute_error\n",
    "\n",
    "from sklearn.svm import SVR\n",
    "from sklearn.tree import DecisionTreeRegressor\n",
    "from sklearn.neighbors import KNeighborsRegressor\n",
    "\n",
    "from sklearn.ensemble import RandomForestRegressor\n",
    "from sklearn.ensemble import AdaBoostRegressor\n",
    "from sklearn.ensemble import GradientBoostingRegressor"
   ]
  },
  {
   "cell_type": "code",
   "execution_count": 220,
   "id": "9d5b76c4",
   "metadata": {},
   "outputs": [
    {
     "name": "stdout",
     "output_type": "stream",
     "text": [
      "Best accuracy is  0.973191313789852  on Random_state  133\n"
     ]
    }
   ],
   "source": [
    "maxAccu=0\n",
    "maxRS=0\n",
    "for i in range(1,200):\n",
    "    x1_train,x1_test,y1_train,y1_test = train_test_split(x1,y,test_size=.30, random_state =i)\n",
    "    lr = LinearRegression()\n",
    "    lr.fit(x1_train, y1_train)\n",
    "    pred = lr.predict(x1_test)\n",
    "    acc=r2_score(y1_test, pred)\n",
    "    if acc>maxAccu:\n",
    "        maxAccu=acc\n",
    "        maxRS=i\n",
    "print(\"Best accuracy is \",maxAccu,\" on Random_state \",maxRS)"
   ]
  },
  {
   "cell_type": "markdown",
   "id": "049a2dc6",
   "metadata": {},
   "source": [
    "#### Splitting data into Train-Test"
   ]
  },
  {
   "cell_type": "code",
   "execution_count": 221,
   "id": "a4abf09e",
   "metadata": {},
   "outputs": [],
   "source": [
    "x1_train,x1_test,y1_train,y1_test=train_test_split(x1,y,test_size=0.30,random_state=133)"
   ]
  },
  {
   "cell_type": "code",
   "execution_count": 222,
   "id": "1054f524",
   "metadata": {},
   "outputs": [
    {
     "data": {
      "text/plain": [
       "(396, 14)"
      ]
     },
     "execution_count": 222,
     "metadata": {},
     "output_type": "execute_result"
    }
   ],
   "source": [
    "x1_train.shape"
   ]
  },
  {
   "cell_type": "code",
   "execution_count": 223,
   "id": "22fc6cb8",
   "metadata": {},
   "outputs": [
    {
     "data": {
      "text/plain": [
       "(396,)"
      ]
     },
     "execution_count": 223,
     "metadata": {},
     "output_type": "execute_result"
    }
   ],
   "source": [
    "y1_train.shape"
   ]
  },
  {
   "cell_type": "code",
   "execution_count": 224,
   "id": "5c89c7b0",
   "metadata": {},
   "outputs": [
    {
     "data": {
      "text/plain": [
       "(171, 14)"
      ]
     },
     "execution_count": 224,
     "metadata": {},
     "output_type": "execute_result"
    }
   ],
   "source": [
    "x1_test.shape"
   ]
  },
  {
   "cell_type": "code",
   "execution_count": 225,
   "id": "2d30a451",
   "metadata": {},
   "outputs": [
    {
     "data": {
      "text/plain": [
       "(171,)"
      ]
     },
     "execution_count": 225,
     "metadata": {},
     "output_type": "execute_result"
    }
   ],
   "source": [
    "y1_test.shape"
   ]
  },
  {
   "cell_type": "markdown",
   "id": "4c4e70ed",
   "metadata": {},
   "source": [
    "### Using various Machine Learning Algorithms"
   ]
  },
  {
   "cell_type": "markdown",
   "id": "0191d352",
   "metadata": {},
   "source": [
    "#### 1. Linear Regression"
   ]
  },
  {
   "cell_type": "code",
   "execution_count": 227,
   "id": "d216cb0b",
   "metadata": {},
   "outputs": [
    {
     "data": {
      "text/plain": [
       "0.9272318307483377"
      ]
     },
     "execution_count": 227,
     "metadata": {},
     "output_type": "execute_result"
    }
   ],
   "source": [
    "lr=LinearRegression()\n",
    "lr.fit(x1_train,y1_train)\n",
    "lr.score(x1_train,y1_train)"
   ]
  },
  {
   "cell_type": "code",
   "execution_count": 229,
   "id": "c20e3deb",
   "metadata": {},
   "outputs": [
    {
     "name": "stdout",
     "output_type": "stream",
     "text": [
      "r2_score= 0.973191313789852 \n",
      "\n",
      "Mean Absolute Error: 0.08068949234734316\n",
      "Mean Squared Error: 0.01019652723495526\n",
      "Root Meand Squared Error: 0.8416131081365377\n"
     ]
    }
   ],
   "source": [
    "predlr1=lr.predict(x1_test)\n",
    "print(\"r2_score=\",r2_score(y1_test,predlr1),\"\\n\")\n",
    "\n",
    "print(\"Mean Absolute Error:\",mean_absolute_error(y1_test,predlr1))\n",
    "print(\"Mean Squared Error:\",mean_squared_error(y1_test,predlr1))\n",
    "print(\"Root Meand Squared Error:\",np.sqrt(mean_squared_error(y_test,predlr1)))"
   ]
  },
  {
   "cell_type": "markdown",
   "id": "e4d0d502",
   "metadata": {},
   "source": [
    "#### 2. Support Vector Regressor"
   ]
  },
  {
   "cell_type": "code",
   "execution_count": 230,
   "id": "8417d0cc",
   "metadata": {},
   "outputs": [
    {
     "data": {
      "text/plain": [
       "0.9829795307064627"
      ]
     },
     "execution_count": 230,
     "metadata": {},
     "output_type": "execute_result"
    }
   ],
   "source": [
    "svr=SVR()\n",
    "svr.fit(x1_train,y1_train)\n",
    "svr.score(x1_train,y1_train)"
   ]
  },
  {
   "cell_type": "code",
   "execution_count": 235,
   "id": "dff9be55",
   "metadata": {},
   "outputs": [
    {
     "name": "stdout",
     "output_type": "stream",
     "text": [
      "r2_score= 0.9637132857344888 \n",
      "\n",
      "Mean Absolute Error: 0.06724932614107264\n",
      "Mean Squared Error: 0.013801439853299053\n",
      "Root Meand Squared Error: 0.1174795295074808\n"
     ]
    }
   ],
   "source": [
    "predsvr1=svr.predict(x1_test)\n",
    "print(\"r2_score=\",r2_score(y1_test,predsvr1),\"\\n\")\n",
    "\n",
    "print(\"Mean Absolute Error:\",mean_absolute_error(y1_test,predsvr1))\n",
    "print(\"Mean Squared Error:\",mean_squared_error(y1_test,predsvr1))\n",
    "print(\"Root Meand Squared Error:\",np.sqrt(mean_squared_error(y1_test,predsvr1)))"
   ]
  },
  {
   "cell_type": "markdown",
   "id": "ce9aa9e5",
   "metadata": {},
   "source": [
    "#### 3. Decision Tree Regressor"
   ]
  },
  {
   "cell_type": "code",
   "execution_count": 232,
   "id": "76f35e50",
   "metadata": {},
   "outputs": [
    {
     "data": {
      "text/plain": [
       "1.0"
      ]
     },
     "execution_count": 232,
     "metadata": {},
     "output_type": "execute_result"
    }
   ],
   "source": [
    "dtr1=DecisionTreeRegressor()\n",
    "dtr.fit(x1_train,y1_train)\n",
    "dtr.score(x1_train,y1_train)"
   ]
  },
  {
   "cell_type": "code",
   "execution_count": 236,
   "id": "c5335451",
   "metadata": {},
   "outputs": [
    {
     "name": "stdout",
     "output_type": "stream",
     "text": [
      "r2_score= 0.9491621249203888 \n",
      "\n",
      "Mean Absolute Error: 0.0822046783625731\n",
      "Mean Squared Error: 0.01933588888888889\n",
      "Root Meand Squared Error: 0.13905354684037688\n"
     ]
    }
   ],
   "source": [
    "preddtr1=dtr.predict(x1_test)\n",
    "print(\"r2_score=\",r2_score(y1_test,preddtr1),\"\\n\")\n",
    "\n",
    "print(\"Mean Absolute Error:\",mean_absolute_error(y1_test,preddtr1))\n",
    "print(\"Mean Squared Error:\",mean_squared_error(y1_test,preddtr1))\n",
    "print(\"Root Meand Squared Error:\",np.sqrt(mean_squared_error(y1_test,preddtr1)))"
   ]
  },
  {
   "cell_type": "markdown",
   "id": "90c44a13",
   "metadata": {},
   "source": [
    "#### 4. K Neighbors Regressor"
   ]
  },
  {
   "cell_type": "code",
   "execution_count": 234,
   "id": "9c888255",
   "metadata": {},
   "outputs": [
    {
     "data": {
      "text/plain": [
       "0.9719799023525804"
      ]
     },
     "execution_count": 234,
     "metadata": {},
     "output_type": "execute_result"
    }
   ],
   "source": [
    "knr1=KNeighborsRegressor()\n",
    "knr.fit(x1_train,y1_train)\n",
    "knr.score(x1_train,y1_train)"
   ]
  },
  {
   "cell_type": "code",
   "execution_count": 237,
   "id": "d5fcfb55",
   "metadata": {},
   "outputs": [
    {
     "name": "stdout",
     "output_type": "stream",
     "text": [
      "r2_score= 0.9603163760333344 \n",
      "\n",
      "Mean Absolute Error: 0.07360116959064329\n",
      "Mean Squared Error: 0.015093434619883044\n",
      "Root Meand Squared Error: 0.12285534021719627\n"
     ]
    }
   ],
   "source": [
    "predknr1=knr.predict(x1_test)\n",
    "print(\"r2_score=\",r2_score(y1_test,predknr1),\"\\n\")\n",
    "\n",
    "print(\"Mean Absolute Error:\",mean_absolute_error(y1_test,predknr1))\n",
    "print(\"Mean Squared Error:\",mean_squared_error(y1_test,predknr1))\n",
    "print(\"Root Meand Squared Error:\",np.sqrt(mean_squared_error(y1_test,predknr1)))"
   ]
  },
  {
   "cell_type": "markdown",
   "id": "77ce6d63",
   "metadata": {},
   "source": [
    "#### 5.Random Forest Regressor"
   ]
  },
  {
   "cell_type": "code",
   "execution_count": 238,
   "id": "38a02c3a",
   "metadata": {},
   "outputs": [
    {
     "data": {
      "text/plain": [
       "0.995170189750695"
      ]
     },
     "execution_count": 238,
     "metadata": {},
     "output_type": "execute_result"
    }
   ],
   "source": [
    "rfr=RandomForestRegressor()\n",
    "rfr.fit(x1_train,y1_train)\n",
    "rfr.score(x1_train,y1_train)"
   ]
  },
  {
   "cell_type": "code",
   "execution_count": 239,
   "id": "a968c9a7",
   "metadata": {},
   "outputs": [
    {
     "name": "stdout",
     "output_type": "stream",
     "text": [
      "r2_score= 0.9763518100767081 \n",
      "\n",
      "Mean Absolute Error: 0.05747590643274857\n",
      "Mean Squared Error: 0.00899445092982457\n",
      "Root Meand Squared Error: 0.09483907912788152\n"
     ]
    }
   ],
   "source": [
    "predrfr1=rfr.predict(x1_test)\n",
    "print(\"r2_score=\",r2_score(y1_test,predrfr1),\"\\n\")\n",
    "\n",
    "print(\"Mean Absolute Error:\",mean_absolute_error(y1_test,predrfr1))\n",
    "print(\"Mean Squared Error:\",mean_squared_error(y1_test,predrfr1))\n",
    "print(\"Root Meand Squared Error:\",np.sqrt(mean_squared_error(y1_test,predrfr1)))"
   ]
  },
  {
   "cell_type": "markdown",
   "id": "18e04723",
   "metadata": {},
   "source": [
    "#### 6.Ada Boost Regressor"
   ]
  },
  {
   "cell_type": "code",
   "execution_count": 240,
   "id": "91c061c5",
   "metadata": {},
   "outputs": [
    {
     "data": {
      "text/plain": [
       "0.9817186568045493"
      ]
     },
     "execution_count": 240,
     "metadata": {},
     "output_type": "execute_result"
    }
   ],
   "source": [
    "adr=AdaBoostRegressor()\n",
    "adr.fit(x1_train,y1_train)\n",
    "adr.score(x1_train,y1_train)"
   ]
  },
  {
   "cell_type": "code",
   "execution_count": 241,
   "id": "34f02899",
   "metadata": {},
   "outputs": [
    {
     "name": "stdout",
     "output_type": "stream",
     "text": [
      "r2_score= 0.9701161363512975 \n",
      "\n",
      "Mean Absolute Error: 0.07292944974703434\n",
      "Mean Squared Error: 0.011366153014404018\n",
      "Root Meand Squared Error: 0.10661216166274849\n"
     ]
    }
   ],
   "source": [
    "predadr1=adr.predict(x1_test)\n",
    "print(\"r2_score=\",r2_score(y1_test,predadr1),\"\\n\")\n",
    "\n",
    "print(\"Mean Absolute Error:\",mean_absolute_error(y1_test,predadr1))\n",
    "print(\"Mean Squared Error:\",mean_squared_error(y1_test,predadr1))\n",
    "print(\"Root Meand Squared Error:\",np.sqrt(mean_squared_error(y1_test,predadr1)))"
   ]
  },
  {
   "cell_type": "markdown",
   "id": "9b6bd028",
   "metadata": {},
   "source": [
    "#### 7.Gradient Boosting Regressor"
   ]
  },
  {
   "cell_type": "code",
   "execution_count": 243,
   "id": "a5ef2ce6",
   "metadata": {},
   "outputs": [
    {
     "data": {
      "text/plain": [
       "0.9970677238362513"
      ]
     },
     "execution_count": 243,
     "metadata": {},
     "output_type": "execute_result"
    }
   ],
   "source": [
    "gbr=GradientBoostingRegressor()\n",
    "gbr.fit(x1_train,y1_train)\n",
    "gbr.score(x1_train,y1_train)"
   ]
  },
  {
   "cell_type": "code",
   "execution_count": 244,
   "id": "84bc1b8e",
   "metadata": {},
   "outputs": [
    {
     "name": "stdout",
     "output_type": "stream",
     "text": [
      "r2_score= 0.9763403058105216 \n",
      "\n",
      "Mean Absolute Error: 0.05483989809181668\n",
      "Mean Squared Error: 0.008998826510282693\n",
      "Root Meand Squared Error: 0.09486214476956914\n"
     ]
    }
   ],
   "source": [
    "predgbr1=gbr.predict(x1_test)\n",
    "print(\"r2_score=\",r2_score(y1_test,predgbr1),\"\\n\")\n",
    "\n",
    "print(\"Mean Absolute Error:\",mean_absolute_error(y1_test,predgbr1))\n",
    "print(\"Mean Squared Error:\",mean_squared_error(y1_test,predgbr1))\n",
    "print(\"Root Meand Squared Error:\",np.sqrt(mean_squared_error(y1_test,predgbr1)))"
   ]
  },
  {
   "cell_type": "markdown",
   "id": "acae90b9",
   "metadata": {},
   "source": [
    "### Regularization to overcome Over-Fitting (Lasso,Ridge)"
   ]
  },
  {
   "cell_type": "markdown",
   "id": "85a7c0ea",
   "metadata": {},
   "source": [
    "#### 8. Lasso Regression"
   ]
  },
  {
   "cell_type": "code",
   "execution_count": 245,
   "id": "b9b3f179",
   "metadata": {},
   "outputs": [
    {
     "data": {
      "text/plain": [
       "0.9121520554437147"
      ]
     },
     "execution_count": 245,
     "metadata": {},
     "output_type": "execute_result"
    }
   ],
   "source": [
    "ls=Lasso(alpha=0.1)\n",
    "ls.fit(x1_train,y1_train)\n",
    "ls.score(x1_train,y1_train)"
   ]
  },
  {
   "cell_type": "code",
   "execution_count": 246,
   "id": "ba5e9c3d",
   "metadata": {},
   "outputs": [
    {
     "name": "stdout",
     "output_type": "stream",
     "text": [
      "r2_score= 0.9705192786738599 \n",
      "\n",
      "Mean Absolute Error: 0.07781662610776993\n",
      "Mean Squared Error: 0.011212820186403863\n",
      "Root Meand Squared Error: 0.10589060480705483\n"
     ]
    }
   ],
   "source": [
    "predls1=ls.predict(x1_test)\n",
    "print(\"r2_score=\",r2_score(y1_test,predls1),\"\\n\")\n",
    "\n",
    "print(\"Mean Absolute Error:\",mean_absolute_error(y1_test,predls1))\n",
    "print(\"Mean Squared Error:\",mean_squared_error(y1_test,predls1))\n",
    "print(\"Root Meand Squared Error:\",np.sqrt(mean_squared_error(y1_test,predls1)))"
   ]
  },
  {
   "cell_type": "markdown",
   "id": "dd9a4e0b",
   "metadata": {},
   "source": [
    "#### 9. Ridge Regression"
   ]
  },
  {
   "cell_type": "code",
   "execution_count": 247,
   "id": "1bfa06ed",
   "metadata": {},
   "outputs": [
    {
     "data": {
      "text/plain": [
       "0.9272318286475518"
      ]
     },
     "execution_count": 247,
     "metadata": {},
     "output_type": "execute_result"
    }
   ],
   "source": [
    "rg=Ridge(alpha=0.1)\n",
    "rg.fit(x1_train,y1_train)\n",
    "rg.score(x1_train,y1_train)"
   ]
  },
  {
   "cell_type": "code",
   "execution_count": 248,
   "id": "6c185acf",
   "metadata": {},
   "outputs": [
    {
     "name": "stdout",
     "output_type": "stream",
     "text": [
      "r2_score= 0.973195377100444 \n",
      "\n",
      "Mean Absolute Error: 0.08068056125162147\n",
      "Mean Squared Error: 0.010194981778501668\n",
      "Root Meand Squared Error: 0.10097020242874463\n"
     ]
    }
   ],
   "source": [
    "predrg1=rg.predict(x1_test)\n",
    "print(\"r2_score=\",r2_score(y1_test,predrg1),\"\\n\")\n",
    "\n",
    "print(\"Mean Absolute Error:\",mean_absolute_error(y1_test,predrg1))\n",
    "print(\"Mean Squared Error:\",mean_squared_error(y1_test,predrg1))\n",
    "print(\"Root Meand Squared Error:\",np.sqrt(mean_squared_error(y1_test,predrg1)))"
   ]
  },
  {
   "cell_type": "markdown",
   "id": "a5d30ad5",
   "metadata": {},
   "source": [
    "### Cross Validation"
   ]
  },
  {
   "cell_type": "code",
   "execution_count": 252,
   "id": "efe82642",
   "metadata": {},
   "outputs": [
    {
     "name": "stdout",
     "output_type": "stream",
     "text": [
      "CV score  for Linear Regression 0.9335913454654703\n"
     ]
    }
   ],
   "source": [
    "# cv score for 1. Logistic Regression \n",
    "print('CV score  for Linear Regression',cross_val_score(lr,x1,y,cv=10).mean())"
   ]
  },
  {
   "cell_type": "code",
   "execution_count": 253,
   "id": "2c5795d7",
   "metadata": {},
   "outputs": [
    {
     "name": "stdout",
     "output_type": "stream",
     "text": [
      "CV score  for Support Vector Regressor 0.9615935011635957\n"
     ]
    }
   ],
   "source": [
    "# cv score for 2. Support Vector Regressor\n",
    "print('CV score  for Support Vector Regressor',cross_val_score(svr,x1,y,cv=10).mean())"
   ]
  },
  {
   "cell_type": "code",
   "execution_count": 254,
   "id": "41ae1c68",
   "metadata": {},
   "outputs": [
    {
     "name": "stdout",
     "output_type": "stream",
     "text": [
      "CV score  for Decision Tree Regressor 0.9535196444137514\n"
     ]
    }
   ],
   "source": [
    "# cv score for 3. Decision Tree Regressor\n",
    "print('CV score  for Decision Tree Regressor',cross_val_score(dtr,x1,y,cv=10).mean())"
   ]
  },
  {
   "cell_type": "code",
   "execution_count": 255,
   "id": "33084b0a",
   "metadata": {},
   "outputs": [
    {
     "name": "stdout",
     "output_type": "stream",
     "text": [
      "CV score  for K Neighbors Regressor 0.9530162492595509\n"
     ]
    }
   ],
   "source": [
    "# cv score for 4. K Neighbors Regressor\n",
    "print('CV score  for K Neighbors Regressor',cross_val_score(knr,x1,y,cv=10).mean())"
   ]
  },
  {
   "cell_type": "code",
   "execution_count": 256,
   "id": "b05988c1",
   "metadata": {},
   "outputs": [
    {
     "name": "stdout",
     "output_type": "stream",
     "text": [
      "CV score  for Random Forest Regressor 0.9659441192790121\n"
     ]
    }
   ],
   "source": [
    "# cv score for 5.Random Forest Regressor\n",
    "print('CV score  for Random Forest Regressor',cross_val_score(rfr,x1,y,cv=10).mean())"
   ]
  },
  {
   "cell_type": "code",
   "execution_count": 257,
   "id": "5630205c",
   "metadata": {},
   "outputs": [
    {
     "name": "stdout",
     "output_type": "stream",
     "text": [
      "CV score  for Ada Boost Regressor 0.9637452072575327\n"
     ]
    }
   ],
   "source": [
    "# cv score for 6.Ada Boost Regressor\n",
    "print('CV score  for Ada Boost Regressor',cross_val_score(adr,x1,y,cv=10).mean())"
   ]
  },
  {
   "cell_type": "code",
   "execution_count": 258,
   "id": "e2d7cd4d",
   "metadata": {},
   "outputs": [
    {
     "name": "stdout",
     "output_type": "stream",
     "text": [
      "CV score  for Gradient Boosting Regressor Regressor 0.9667175598125468\n"
     ]
    }
   ],
   "source": [
    "# cv score for 7.Gradient Boosting RegressorRegressor\n",
    "print('CV score  for Gradient Boosting Regressor Regressor',cross_val_score(gbr,x1,y,cv=10).mean())"
   ]
  },
  {
   "cell_type": "code",
   "execution_count": 259,
   "id": "97c53b62",
   "metadata": {},
   "outputs": [
    {
     "name": "stdout",
     "output_type": "stream",
     "text": [
      "CV score  for Lasso Regression 0.9299225135822606\n"
     ]
    }
   ],
   "source": [
    "# cv score for 8. Lasso Regression \n",
    "print('CV score  for Lasso Regression',cross_val_score(ls,x1,y,cv=10).mean())"
   ]
  },
  {
   "cell_type": "code",
   "execution_count": 260,
   "id": "9dc0cfe2",
   "metadata": {},
   "outputs": [
    {
     "name": "stdout",
     "output_type": "stream",
     "text": [
      "CV score  for Ridge Regression 0.9335930809937537\n"
     ]
    }
   ],
   "source": [
    "# cv score for 9. Ridge Regression\n",
    "print('CV score  for Ridge Regression',cross_val_score(rg,x1,y,cv=10).mean())"
   ]
  },
  {
   "cell_type": "markdown",
   "id": "0f425004",
   "metadata": {},
   "source": [
    "Obs- After comparing difference in Training Accuracy(Score)vsTesting Accuracy(r2_score)vs Cross Validation Score and also errors, we can say the best performing model is Support Vector Regressor(SVR)"
   ]
  },
  {
   "cell_type": "markdown",
   "id": "63573d56",
   "metadata": {},
   "source": [
    "### Hyper Parameter Tuning"
   ]
  },
  {
   "cell_type": "code",
   "execution_count": 261,
   "id": "5ff98506",
   "metadata": {},
   "outputs": [],
   "source": [
    "#Selecting few parameter list of SVR to pass in Gradient Boosting \n",
    "from sklearn.model_selection import GridSearchCV\n",
    "parameters={'kernel':['linear', 'poly', 'rbf', 'sigmoid'],'gamma':['scale', 'auto'] }"
   ]
  },
  {
   "cell_type": "code",
   "execution_count": 262,
   "id": "709e3e18",
   "metadata": {},
   "outputs": [
    {
     "name": "stdout",
     "output_type": "stream",
     "text": [
      "{'gamma': 'scale', 'kernel': 'rbf'}\n"
     ]
    }
   ],
   "source": [
    "#start the tuning\n",
    "svr1=SVR()\n",
    "GCV=GridSearchCV(svr1,parameters,cv=10)\n",
    "\n",
    "GCV.fit(x_train,y_train)  \n",
    "print(GCV.best_params_)   "
   ]
  },
  {
   "cell_type": "code",
   "execution_count": 263,
   "id": "e7025b9d",
   "metadata": {},
   "outputs": [
    {
     "data": {
      "text/plain": [
       "0.9829795307064627"
      ]
     },
     "execution_count": 263,
     "metadata": {},
     "output_type": "execute_result"
    }
   ],
   "source": [
    "#Applying best parameter values on Support Vector Regressor Algorithm \n",
    "CGPApca=SVR(gamma='scale', kernel='rbf')\n",
    "CGPApca.fit(x1_train,y1_train)\n",
    "CGPApca.score(x1_train,y1_train)"
   ]
  },
  {
   "cell_type": "code",
   "execution_count": 264,
   "id": "6a1b4b56",
   "metadata": {},
   "outputs": [
    {
     "name": "stdout",
     "output_type": "stream",
     "text": [
      "r2_score= 0.9637132857344888 \n",
      "\n",
      "Mean Absolute Error: 0.06724932614107264\n",
      "Mean Squared Error: 0.013801439853299053\n",
      "Root Meand Squared Error: 0.1174795295074808\n"
     ]
    }
   ],
   "source": [
    "predsvr1=CGPApca.predict(x1_test)\n",
    "print(\"r2_score=\",r2_score(y1_test,predsvr1),\"\\n\")\n",
    "\n",
    "print(\"Mean Absolute Error:\",mean_absolute_error(y1_test,predsvr1))\n",
    "print(\"Mean Squared Error:\",mean_squared_error(y1_test,predsvr1))\n",
    "print(\"Root Meand Squared Error:\",np.sqrt(mean_squared_error(y1_test,predsvr1)))"
   ]
  },
  {
   "cell_type": "markdown",
   "id": "bdd2e3d3",
   "metadata": {},
   "source": [
    "#### Obs - We can see the model without PCA has given more accuracy and therefore considering that model"
   ]
  },
  {
   "cell_type": "markdown",
   "id": "b72992f7",
   "metadata": {},
   "source": [
    "## Saving the best model"
   ]
  },
  {
   "cell_type": "code",
   "execution_count": 271,
   "id": "1576dd8b",
   "metadata": {},
   "outputs": [
    {
     "data": {
      "text/plain": [
       "['CGPA.obj']"
      ]
     },
     "execution_count": 271,
     "metadata": {},
     "output_type": "execute_result"
    }
   ],
   "source": [
    "import joblib\n",
    "\n",
    "joblib.dump(CGPAbest,'CGPA.obj')"
   ]
  },
  {
   "cell_type": "code",
   "execution_count": 272,
   "id": "5b406e8d",
   "metadata": {},
   "outputs": [],
   "source": [
    "CGPA_model=joblib.load('CGPA.obj')"
   ]
  },
  {
   "cell_type": "code",
   "execution_count": 273,
   "id": "90baa8f7",
   "metadata": {},
   "outputs": [
    {
     "data": {
      "text/plain": [
       "SVR()"
      ]
     },
     "execution_count": 273,
     "metadata": {},
     "output_type": "execute_result"
    }
   ],
   "source": [
    "CGPA_model"
   ]
  },
  {
   "cell_type": "code",
   "execution_count": null,
   "id": "9f850249",
   "metadata": {},
   "outputs": [],
   "source": []
  }
 ],
 "metadata": {
  "kernelspec": {
   "display_name": "Python 3 (ipykernel)",
   "language": "python",
   "name": "python3"
  },
  "language_info": {
   "codemirror_mode": {
    "name": "ipython",
    "version": 3
   },
   "file_extension": ".py",
   "mimetype": "text/x-python",
   "name": "python",
   "nbconvert_exporter": "python",
   "pygments_lexer": "ipython3",
   "version": "3.9.12"
  }
 },
 "nbformat": 4,
 "nbformat_minor": 5
}
