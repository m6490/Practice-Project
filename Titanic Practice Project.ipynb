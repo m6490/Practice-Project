{
 "cells": [
  {
   "cell_type": "markdown",
   "id": "fff02b74",
   "metadata": {},
   "source": [
    "# Problem Statement:\n",
    " The Titanic Problem is based on the sinking of the ‘Unsinkable’ ship Titanic in early 1912. It gives you information about multiple people like their ages, sexes, sibling counts, embarkment points, and whether or not they survived the disaster. Based on these features, you have to predict if an arbitrary passenger on Titanic would survive the sinking or not. \n"
   ]
  },
  {
   "cell_type": "code",
   "execution_count": 1,
   "id": "0d3814e9",
   "metadata": {},
   "outputs": [],
   "source": [
    "#importing the necessary libraries\n",
    "import numpy as np\n",
    "import pandas as pd\n",
    "import seaborn as sns\n",
    "import matplotlib.pyplot as plt\n",
    "import warnings\n",
    "warnings.filterwarnings('ignore')\n",
    "import sklearn\n",
    "from sklearn.linear_model import LogisticRegression\n",
    "from sklearn.metrics import accuracy_score,confusion_matrix,classification_report\n",
    "from sklearn.model_selection import train_test_split"
   ]
  },
  {
   "cell_type": "code",
   "execution_count": 2,
   "id": "b0efb9ca",
   "metadata": {},
   "outputs": [],
   "source": [
    "df_titanic=pd.read_csv(\"titanicnew.csv\")"
   ]
  },
  {
   "cell_type": "code",
   "execution_count": 3,
   "id": "ec8560f9",
   "metadata": {},
   "outputs": [
    {
     "data": {
      "text/html": [
       "<div>\n",
       "<style scoped>\n",
       "    .dataframe tbody tr th:only-of-type {\n",
       "        vertical-align: middle;\n",
       "    }\n",
       "\n",
       "    .dataframe tbody tr th {\n",
       "        vertical-align: top;\n",
       "    }\n",
       "\n",
       "    .dataframe thead th {\n",
       "        text-align: right;\n",
       "    }\n",
       "</style>\n",
       "<table border=\"1\" class=\"dataframe\">\n",
       "  <thead>\n",
       "    <tr style=\"text-align: right;\">\n",
       "      <th></th>\n",
       "      <th>PassengerId</th>\n",
       "      <th>Survived</th>\n",
       "      <th>Pclass</th>\n",
       "      <th>Name</th>\n",
       "      <th>Sex</th>\n",
       "      <th>Age</th>\n",
       "      <th>SibSp</th>\n",
       "      <th>Parch</th>\n",
       "      <th>Ticket</th>\n",
       "      <th>Fare</th>\n",
       "      <th>Cabin</th>\n",
       "      <th>Embarked</th>\n",
       "    </tr>\n",
       "  </thead>\n",
       "  <tbody>\n",
       "    <tr>\n",
       "      <th>0</th>\n",
       "      <td>1</td>\n",
       "      <td>0</td>\n",
       "      <td>3</td>\n",
       "      <td>Braund, Mr. Owen Harris</td>\n",
       "      <td>male</td>\n",
       "      <td>22.0</td>\n",
       "      <td>1</td>\n",
       "      <td>0</td>\n",
       "      <td>A/5 21171</td>\n",
       "      <td>7.2500</td>\n",
       "      <td>NaN</td>\n",
       "      <td>S</td>\n",
       "    </tr>\n",
       "    <tr>\n",
       "      <th>1</th>\n",
       "      <td>2</td>\n",
       "      <td>1</td>\n",
       "      <td>1</td>\n",
       "      <td>Cumings, Mrs. John Bradley (Florence Briggs Th...</td>\n",
       "      <td>female</td>\n",
       "      <td>38.0</td>\n",
       "      <td>1</td>\n",
       "      <td>0</td>\n",
       "      <td>PC 17599</td>\n",
       "      <td>71.2833</td>\n",
       "      <td>C85</td>\n",
       "      <td>C</td>\n",
       "    </tr>\n",
       "    <tr>\n",
       "      <th>2</th>\n",
       "      <td>3</td>\n",
       "      <td>1</td>\n",
       "      <td>3</td>\n",
       "      <td>Heikkinen, Miss. Laina</td>\n",
       "      <td>female</td>\n",
       "      <td>26.0</td>\n",
       "      <td>0</td>\n",
       "      <td>0</td>\n",
       "      <td>STON/O2. 3101282</td>\n",
       "      <td>7.9250</td>\n",
       "      <td>NaN</td>\n",
       "      <td>S</td>\n",
       "    </tr>\n",
       "    <tr>\n",
       "      <th>3</th>\n",
       "      <td>4</td>\n",
       "      <td>1</td>\n",
       "      <td>1</td>\n",
       "      <td>Futrelle, Mrs. Jacques Heath (Lily May Peel)</td>\n",
       "      <td>female</td>\n",
       "      <td>35.0</td>\n",
       "      <td>1</td>\n",
       "      <td>0</td>\n",
       "      <td>113803</td>\n",
       "      <td>53.1000</td>\n",
       "      <td>C123</td>\n",
       "      <td>S</td>\n",
       "    </tr>\n",
       "    <tr>\n",
       "      <th>4</th>\n",
       "      <td>5</td>\n",
       "      <td>0</td>\n",
       "      <td>3</td>\n",
       "      <td>Allen, Mr. William Henry</td>\n",
       "      <td>male</td>\n",
       "      <td>35.0</td>\n",
       "      <td>0</td>\n",
       "      <td>0</td>\n",
       "      <td>373450</td>\n",
       "      <td>8.0500</td>\n",
       "      <td>NaN</td>\n",
       "      <td>S</td>\n",
       "    </tr>\n",
       "    <tr>\n",
       "      <th>...</th>\n",
       "      <td>...</td>\n",
       "      <td>...</td>\n",
       "      <td>...</td>\n",
       "      <td>...</td>\n",
       "      <td>...</td>\n",
       "      <td>...</td>\n",
       "      <td>...</td>\n",
       "      <td>...</td>\n",
       "      <td>...</td>\n",
       "      <td>...</td>\n",
       "      <td>...</td>\n",
       "      <td>...</td>\n",
       "    </tr>\n",
       "    <tr>\n",
       "      <th>886</th>\n",
       "      <td>887</td>\n",
       "      <td>0</td>\n",
       "      <td>2</td>\n",
       "      <td>Montvila, Rev. Juozas</td>\n",
       "      <td>male</td>\n",
       "      <td>27.0</td>\n",
       "      <td>0</td>\n",
       "      <td>0</td>\n",
       "      <td>211536</td>\n",
       "      <td>13.0000</td>\n",
       "      <td>NaN</td>\n",
       "      <td>S</td>\n",
       "    </tr>\n",
       "    <tr>\n",
       "      <th>887</th>\n",
       "      <td>888</td>\n",
       "      <td>1</td>\n",
       "      <td>1</td>\n",
       "      <td>Graham, Miss. Margaret Edith</td>\n",
       "      <td>female</td>\n",
       "      <td>19.0</td>\n",
       "      <td>0</td>\n",
       "      <td>0</td>\n",
       "      <td>112053</td>\n",
       "      <td>30.0000</td>\n",
       "      <td>B42</td>\n",
       "      <td>S</td>\n",
       "    </tr>\n",
       "    <tr>\n",
       "      <th>888</th>\n",
       "      <td>889</td>\n",
       "      <td>0</td>\n",
       "      <td>3</td>\n",
       "      <td>Johnston, Miss. Catherine Helen \"Carrie\"</td>\n",
       "      <td>female</td>\n",
       "      <td>NaN</td>\n",
       "      <td>1</td>\n",
       "      <td>2</td>\n",
       "      <td>W./C. 6607</td>\n",
       "      <td>23.4500</td>\n",
       "      <td>NaN</td>\n",
       "      <td>S</td>\n",
       "    </tr>\n",
       "    <tr>\n",
       "      <th>889</th>\n",
       "      <td>890</td>\n",
       "      <td>1</td>\n",
       "      <td>1</td>\n",
       "      <td>Behr, Mr. Karl Howell</td>\n",
       "      <td>male</td>\n",
       "      <td>26.0</td>\n",
       "      <td>0</td>\n",
       "      <td>0</td>\n",
       "      <td>111369</td>\n",
       "      <td>30.0000</td>\n",
       "      <td>C148</td>\n",
       "      <td>C</td>\n",
       "    </tr>\n",
       "    <tr>\n",
       "      <th>890</th>\n",
       "      <td>891</td>\n",
       "      <td>0</td>\n",
       "      <td>3</td>\n",
       "      <td>Dooley, Mr. Patrick</td>\n",
       "      <td>male</td>\n",
       "      <td>32.0</td>\n",
       "      <td>0</td>\n",
       "      <td>0</td>\n",
       "      <td>370376</td>\n",
       "      <td>7.7500</td>\n",
       "      <td>NaN</td>\n",
       "      <td>Q</td>\n",
       "    </tr>\n",
       "  </tbody>\n",
       "</table>\n",
       "<p>891 rows × 12 columns</p>\n",
       "</div>"
      ],
      "text/plain": [
       "     PassengerId  Survived  Pclass  \\\n",
       "0              1         0       3   \n",
       "1              2         1       1   \n",
       "2              3         1       3   \n",
       "3              4         1       1   \n",
       "4              5         0       3   \n",
       "..           ...       ...     ...   \n",
       "886          887         0       2   \n",
       "887          888         1       1   \n",
       "888          889         0       3   \n",
       "889          890         1       1   \n",
       "890          891         0       3   \n",
       "\n",
       "                                                  Name     Sex   Age  SibSp  \\\n",
       "0                              Braund, Mr. Owen Harris    male  22.0      1   \n",
       "1    Cumings, Mrs. John Bradley (Florence Briggs Th...  female  38.0      1   \n",
       "2                               Heikkinen, Miss. Laina  female  26.0      0   \n",
       "3         Futrelle, Mrs. Jacques Heath (Lily May Peel)  female  35.0      1   \n",
       "4                             Allen, Mr. William Henry    male  35.0      0   \n",
       "..                                                 ...     ...   ...    ...   \n",
       "886                              Montvila, Rev. Juozas    male  27.0      0   \n",
       "887                       Graham, Miss. Margaret Edith  female  19.0      0   \n",
       "888           Johnston, Miss. Catherine Helen \"Carrie\"  female   NaN      1   \n",
       "889                              Behr, Mr. Karl Howell    male  26.0      0   \n",
       "890                                Dooley, Mr. Patrick    male  32.0      0   \n",
       "\n",
       "     Parch            Ticket     Fare Cabin Embarked  \n",
       "0        0         A/5 21171   7.2500   NaN        S  \n",
       "1        0          PC 17599  71.2833   C85        C  \n",
       "2        0  STON/O2. 3101282   7.9250   NaN        S  \n",
       "3        0            113803  53.1000  C123        S  \n",
       "4        0            373450   8.0500   NaN        S  \n",
       "..     ...               ...      ...   ...      ...  \n",
       "886      0            211536  13.0000   NaN        S  \n",
       "887      0            112053  30.0000   B42        S  \n",
       "888      2        W./C. 6607  23.4500   NaN        S  \n",
       "889      0            111369  30.0000  C148        C  \n",
       "890      0            370376   7.7500   NaN        Q  \n",
       "\n",
       "[891 rows x 12 columns]"
      ]
     },
     "execution_count": 3,
     "metadata": {},
     "output_type": "execute_result"
    }
   ],
   "source": [
    "df_titanic"
   ]
  },
  {
   "cell_type": "markdown",
   "id": "1bcf49ca",
   "metadata": {},
   "source": [
    "About the dataset\n",
    "From the dataset we can assume the following things:\n",
    "\n",
    "Survived: 0 = No(Dead) and 1 = Yes(Survived)\n",
    "Pclass=Passenger's class: 1 = Upper class, 2 = Middle class, 3 = Lower class\n",
    "SibSp: It indicates the passenger's relation with siblings and Spouse.\n",
    "Parch: It indicates the passenger's relation with parents.\n",
    "Embarked: The ports of embarkations are C = Cherbourg, Q = Queenstown and S = Southampton."
   ]
  },
  {
   "cell_type": "code",
   "execution_count": 4,
   "id": "2932ba02",
   "metadata": {},
   "outputs": [
    {
     "data": {
      "text/html": [
       "<div>\n",
       "<style scoped>\n",
       "    .dataframe tbody tr th:only-of-type {\n",
       "        vertical-align: middle;\n",
       "    }\n",
       "\n",
       "    .dataframe tbody tr th {\n",
       "        vertical-align: top;\n",
       "    }\n",
       "\n",
       "    .dataframe thead th {\n",
       "        text-align: right;\n",
       "    }\n",
       "</style>\n",
       "<table border=\"1\" class=\"dataframe\">\n",
       "  <thead>\n",
       "    <tr style=\"text-align: right;\">\n",
       "      <th></th>\n",
       "      <th>PassengerId</th>\n",
       "      <th>Survived</th>\n",
       "      <th>Pclass</th>\n",
       "      <th>Name</th>\n",
       "      <th>Sex</th>\n",
       "      <th>Age</th>\n",
       "      <th>SibSp</th>\n",
       "      <th>Parch</th>\n",
       "      <th>Ticket</th>\n",
       "      <th>Fare</th>\n",
       "      <th>Cabin</th>\n",
       "      <th>Embarked</th>\n",
       "    </tr>\n",
       "  </thead>\n",
       "  <tbody>\n",
       "    <tr>\n",
       "      <th>0</th>\n",
       "      <td>1</td>\n",
       "      <td>0</td>\n",
       "      <td>3</td>\n",
       "      <td>Braund, Mr. Owen Harris</td>\n",
       "      <td>male</td>\n",
       "      <td>22.0</td>\n",
       "      <td>1</td>\n",
       "      <td>0</td>\n",
       "      <td>A/5 21171</td>\n",
       "      <td>7.2500</td>\n",
       "      <td>NaN</td>\n",
       "      <td>S</td>\n",
       "    </tr>\n",
       "    <tr>\n",
       "      <th>1</th>\n",
       "      <td>2</td>\n",
       "      <td>1</td>\n",
       "      <td>1</td>\n",
       "      <td>Cumings, Mrs. John Bradley (Florence Briggs Th...</td>\n",
       "      <td>female</td>\n",
       "      <td>38.0</td>\n",
       "      <td>1</td>\n",
       "      <td>0</td>\n",
       "      <td>PC 17599</td>\n",
       "      <td>71.2833</td>\n",
       "      <td>C85</td>\n",
       "      <td>C</td>\n",
       "    </tr>\n",
       "    <tr>\n",
       "      <th>2</th>\n",
       "      <td>3</td>\n",
       "      <td>1</td>\n",
       "      <td>3</td>\n",
       "      <td>Heikkinen, Miss. Laina</td>\n",
       "      <td>female</td>\n",
       "      <td>26.0</td>\n",
       "      <td>0</td>\n",
       "      <td>0</td>\n",
       "      <td>STON/O2. 3101282</td>\n",
       "      <td>7.9250</td>\n",
       "      <td>NaN</td>\n",
       "      <td>S</td>\n",
       "    </tr>\n",
       "    <tr>\n",
       "      <th>3</th>\n",
       "      <td>4</td>\n",
       "      <td>1</td>\n",
       "      <td>1</td>\n",
       "      <td>Futrelle, Mrs. Jacques Heath (Lily May Peel)</td>\n",
       "      <td>female</td>\n",
       "      <td>35.0</td>\n",
       "      <td>1</td>\n",
       "      <td>0</td>\n",
       "      <td>113803</td>\n",
       "      <td>53.1000</td>\n",
       "      <td>C123</td>\n",
       "      <td>S</td>\n",
       "    </tr>\n",
       "    <tr>\n",
       "      <th>4</th>\n",
       "      <td>5</td>\n",
       "      <td>0</td>\n",
       "      <td>3</td>\n",
       "      <td>Allen, Mr. William Henry</td>\n",
       "      <td>male</td>\n",
       "      <td>35.0</td>\n",
       "      <td>0</td>\n",
       "      <td>0</td>\n",
       "      <td>373450</td>\n",
       "      <td>8.0500</td>\n",
       "      <td>NaN</td>\n",
       "      <td>S</td>\n",
       "    </tr>\n",
       "  </tbody>\n",
       "</table>\n",
       "</div>"
      ],
      "text/plain": [
       "   PassengerId  Survived  Pclass  \\\n",
       "0            1         0       3   \n",
       "1            2         1       1   \n",
       "2            3         1       3   \n",
       "3            4         1       1   \n",
       "4            5         0       3   \n",
       "\n",
       "                                                Name     Sex   Age  SibSp  \\\n",
       "0                            Braund, Mr. Owen Harris    male  22.0      1   \n",
       "1  Cumings, Mrs. John Bradley (Florence Briggs Th...  female  38.0      1   \n",
       "2                             Heikkinen, Miss. Laina  female  26.0      0   \n",
       "3       Futrelle, Mrs. Jacques Heath (Lily May Peel)  female  35.0      1   \n",
       "4                           Allen, Mr. William Henry    male  35.0      0   \n",
       "\n",
       "   Parch            Ticket     Fare Cabin Embarked  \n",
       "0      0         A/5 21171   7.2500   NaN        S  \n",
       "1      0          PC 17599  71.2833   C85        C  \n",
       "2      0  STON/O2. 3101282   7.9250   NaN        S  \n",
       "3      0            113803  53.1000  C123        S  \n",
       "4      0            373450   8.0500   NaN        S  "
      ]
     },
     "execution_count": 4,
     "metadata": {},
     "output_type": "execute_result"
    }
   ],
   "source": [
    "df_titanic.head()"
   ]
  },
  {
   "cell_type": "code",
   "execution_count": 5,
   "id": "e5bf4bf9",
   "metadata": {},
   "outputs": [
    {
     "data": {
      "text/html": [
       "<div>\n",
       "<style scoped>\n",
       "    .dataframe tbody tr th:only-of-type {\n",
       "        vertical-align: middle;\n",
       "    }\n",
       "\n",
       "    .dataframe tbody tr th {\n",
       "        vertical-align: top;\n",
       "    }\n",
       "\n",
       "    .dataframe thead th {\n",
       "        text-align: right;\n",
       "    }\n",
       "</style>\n",
       "<table border=\"1\" class=\"dataframe\">\n",
       "  <thead>\n",
       "    <tr style=\"text-align: right;\">\n",
       "      <th></th>\n",
       "      <th>PassengerId</th>\n",
       "      <th>Survived</th>\n",
       "      <th>Pclass</th>\n",
       "      <th>Name</th>\n",
       "      <th>Sex</th>\n",
       "      <th>Age</th>\n",
       "      <th>SibSp</th>\n",
       "      <th>Parch</th>\n",
       "      <th>Ticket</th>\n",
       "      <th>Fare</th>\n",
       "      <th>Cabin</th>\n",
       "      <th>Embarked</th>\n",
       "    </tr>\n",
       "  </thead>\n",
       "  <tbody>\n",
       "    <tr>\n",
       "      <th>886</th>\n",
       "      <td>887</td>\n",
       "      <td>0</td>\n",
       "      <td>2</td>\n",
       "      <td>Montvila, Rev. Juozas</td>\n",
       "      <td>male</td>\n",
       "      <td>27.0</td>\n",
       "      <td>0</td>\n",
       "      <td>0</td>\n",
       "      <td>211536</td>\n",
       "      <td>13.00</td>\n",
       "      <td>NaN</td>\n",
       "      <td>S</td>\n",
       "    </tr>\n",
       "    <tr>\n",
       "      <th>887</th>\n",
       "      <td>888</td>\n",
       "      <td>1</td>\n",
       "      <td>1</td>\n",
       "      <td>Graham, Miss. Margaret Edith</td>\n",
       "      <td>female</td>\n",
       "      <td>19.0</td>\n",
       "      <td>0</td>\n",
       "      <td>0</td>\n",
       "      <td>112053</td>\n",
       "      <td>30.00</td>\n",
       "      <td>B42</td>\n",
       "      <td>S</td>\n",
       "    </tr>\n",
       "    <tr>\n",
       "      <th>888</th>\n",
       "      <td>889</td>\n",
       "      <td>0</td>\n",
       "      <td>3</td>\n",
       "      <td>Johnston, Miss. Catherine Helen \"Carrie\"</td>\n",
       "      <td>female</td>\n",
       "      <td>NaN</td>\n",
       "      <td>1</td>\n",
       "      <td>2</td>\n",
       "      <td>W./C. 6607</td>\n",
       "      <td>23.45</td>\n",
       "      <td>NaN</td>\n",
       "      <td>S</td>\n",
       "    </tr>\n",
       "    <tr>\n",
       "      <th>889</th>\n",
       "      <td>890</td>\n",
       "      <td>1</td>\n",
       "      <td>1</td>\n",
       "      <td>Behr, Mr. Karl Howell</td>\n",
       "      <td>male</td>\n",
       "      <td>26.0</td>\n",
       "      <td>0</td>\n",
       "      <td>0</td>\n",
       "      <td>111369</td>\n",
       "      <td>30.00</td>\n",
       "      <td>C148</td>\n",
       "      <td>C</td>\n",
       "    </tr>\n",
       "    <tr>\n",
       "      <th>890</th>\n",
       "      <td>891</td>\n",
       "      <td>0</td>\n",
       "      <td>3</td>\n",
       "      <td>Dooley, Mr. Patrick</td>\n",
       "      <td>male</td>\n",
       "      <td>32.0</td>\n",
       "      <td>0</td>\n",
       "      <td>0</td>\n",
       "      <td>370376</td>\n",
       "      <td>7.75</td>\n",
       "      <td>NaN</td>\n",
       "      <td>Q</td>\n",
       "    </tr>\n",
       "  </tbody>\n",
       "</table>\n",
       "</div>"
      ],
      "text/plain": [
       "     PassengerId  Survived  Pclass                                      Name  \\\n",
       "886          887         0       2                     Montvila, Rev. Juozas   \n",
       "887          888         1       1              Graham, Miss. Margaret Edith   \n",
       "888          889         0       3  Johnston, Miss. Catherine Helen \"Carrie\"   \n",
       "889          890         1       1                     Behr, Mr. Karl Howell   \n",
       "890          891         0       3                       Dooley, Mr. Patrick   \n",
       "\n",
       "        Sex   Age  SibSp  Parch      Ticket   Fare Cabin Embarked  \n",
       "886    male  27.0      0      0      211536  13.00   NaN        S  \n",
       "887  female  19.0      0      0      112053  30.00   B42        S  \n",
       "888  female   NaN      1      2  W./C. 6607  23.45   NaN        S  \n",
       "889    male  26.0      0      0      111369  30.00  C148        C  \n",
       "890    male  32.0      0      0      370376   7.75   NaN        Q  "
      ]
     },
     "execution_count": 5,
     "metadata": {},
     "output_type": "execute_result"
    }
   ],
   "source": [
    "df_titanic.tail()"
   ]
  },
  {
   "cell_type": "markdown",
   "id": "064d7fc1",
   "metadata": {},
   "source": [
    "# Starting the EDA"
   ]
  },
  {
   "cell_type": "code",
   "execution_count": 6,
   "id": "362ff3d2",
   "metadata": {},
   "outputs": [
    {
     "data": {
      "text/plain": [
       "Index(['PassengerId', 'Survived', 'Pclass', 'Name', 'Sex', 'Age', 'SibSp',\n",
       "       'Parch', 'Ticket', 'Fare', 'Cabin', 'Embarked'],\n",
       "      dtype='object')"
      ]
     },
     "execution_count": 6,
     "metadata": {},
     "output_type": "execute_result"
    }
   ],
   "source": [
    "df_titanic.columns"
   ]
  },
  {
   "cell_type": "code",
   "execution_count": 7,
   "id": "b22ab2ac",
   "metadata": {},
   "outputs": [
    {
     "data": {
      "text/plain": [
       "(891, 12)"
      ]
     },
     "execution_count": 7,
     "metadata": {},
     "output_type": "execute_result"
    }
   ],
   "source": [
    "df_titanic.shape"
   ]
  },
  {
   "cell_type": "markdown",
   "id": "7b9afa5b",
   "metadata": {},
   "source": [
    "We can observe, the dataset contains 12 columns which contains both numerical and categorical data types. There are total 11 independent(predictor) columns and remaining one \"Survived\" is the dependent(target) variable. \n",
    "We can also see that Ticket column contains both numeric and alphanumeric data type and Cabin contains alphanumeric data type.\n",
    "\n",
    "The target variable related to survival of passengers is labelled as 1 = Yes and 0 = No.\n",
    "And thus we will be building classification model"
   ]
  },
  {
   "cell_type": "code",
   "execution_count": 8,
   "id": "7754de95",
   "metadata": {},
   "outputs": [
    {
     "data": {
      "text/plain": [
       "PassengerId      0\n",
       "Survived         0\n",
       "Pclass           0\n",
       "Name             0\n",
       "Sex              0\n",
       "Age            177\n",
       "SibSp            0\n",
       "Parch            0\n",
       "Ticket           0\n",
       "Fare             0\n",
       "Cabin          687\n",
       "Embarked         2\n",
       "dtype: int64"
      ]
     },
     "execution_count": 8,
     "metadata": {},
     "output_type": "execute_result"
    }
   ],
   "source": [
    "#Checking for null values\n",
    "df_titanic.isnull().sum()"
   ]
  },
  {
   "cell_type": "markdown",
   "id": "0bd6daff",
   "metadata": {},
   "source": [
    "Null Value Obs- We can see \"Cabin\" columns has 687 null entries and it wouldn't be appropriate to do imputation on this column, so we will be dropping it further.\n",
    "Since Embarked has only 2 null values, we can delete those rows further."
   ]
  },
  {
   "cell_type": "code",
   "execution_count": 9,
   "id": "01ad905c",
   "metadata": {},
   "outputs": [
    {
     "data": {
      "text/plain": [
       "PassengerId    891\n",
       "Survived         2\n",
       "Pclass           3\n",
       "Name           891\n",
       "Sex              2\n",
       "Age             88\n",
       "SibSp            7\n",
       "Parch            7\n",
       "Ticket         681\n",
       "Fare           248\n",
       "Cabin          147\n",
       "Embarked         3\n",
       "dtype: int64"
      ]
     },
     "execution_count": 9,
     "metadata": {},
     "output_type": "execute_result"
    }
   ],
   "source": [
    "#Checking the number of unique values in all columns\n",
    "df_titanic.nunique()"
   ]
  },
  {
   "cell_type": "markdown",
   "id": "99afcd86",
   "metadata": {},
   "source": [
    "obs-\"PassengerId\" and \"Name\" have all the unique values"
   ]
  },
  {
   "cell_type": "code",
   "execution_count": 10,
   "id": "420e0fb6",
   "metadata": {},
   "outputs": [
    {
     "data": {
      "text/plain": [
       "PassengerId      int64\n",
       "Survived         int64\n",
       "Pclass           int64\n",
       "Name            object\n",
       "Sex             object\n",
       "Age            float64\n",
       "SibSp            int64\n",
       "Parch            int64\n",
       "Ticket          object\n",
       "Fare           float64\n",
       "Cabin           object\n",
       "Embarked        object\n",
       "dtype: object"
      ]
     },
     "execution_count": 10,
     "metadata": {},
     "output_type": "execute_result"
    }
   ],
   "source": [
    "#Checking data types of all columns\n",
    "df_titanic.dtypes"
   ]
  },
  {
   "cell_type": "markdown",
   "id": "7697e7f0",
   "metadata": {},
   "source": [
    "dtypes Obs-The dataset contains mixed datatypes, few columns being continuous types and other few being categorical types"
   ]
  },
  {
   "cell_type": "code",
   "execution_count": 11,
   "id": "01106ff6",
   "metadata": {},
   "outputs": [
    {
     "data": {
      "text/html": [
       "<div>\n",
       "<style scoped>\n",
       "    .dataframe tbody tr th:only-of-type {\n",
       "        vertical-align: middle;\n",
       "    }\n",
       "\n",
       "    .dataframe tbody tr th {\n",
       "        vertical-align: top;\n",
       "    }\n",
       "\n",
       "    .dataframe thead th {\n",
       "        text-align: right;\n",
       "    }\n",
       "</style>\n",
       "<table border=\"1\" class=\"dataframe\">\n",
       "  <thead>\n",
       "    <tr style=\"text-align: right;\">\n",
       "      <th></th>\n",
       "      <th>PassengerId</th>\n",
       "      <th>Survived</th>\n",
       "      <th>Pclass</th>\n",
       "      <th>Name</th>\n",
       "      <th>Sex</th>\n",
       "      <th>Age</th>\n",
       "      <th>SibSp</th>\n",
       "      <th>Parch</th>\n",
       "      <th>Ticket</th>\n",
       "      <th>Fare</th>\n",
       "      <th>Cabin</th>\n",
       "      <th>Embarked</th>\n",
       "    </tr>\n",
       "  </thead>\n",
       "  <tbody>\n",
       "    <tr>\n",
       "      <th>count</th>\n",
       "      <td>891.000000</td>\n",
       "      <td>891.000000</td>\n",
       "      <td>891.000000</td>\n",
       "      <td>891</td>\n",
       "      <td>891</td>\n",
       "      <td>714.000000</td>\n",
       "      <td>891.000000</td>\n",
       "      <td>891.000000</td>\n",
       "      <td>891</td>\n",
       "      <td>891.000000</td>\n",
       "      <td>204</td>\n",
       "      <td>889</td>\n",
       "    </tr>\n",
       "    <tr>\n",
       "      <th>unique</th>\n",
       "      <td>NaN</td>\n",
       "      <td>NaN</td>\n",
       "      <td>NaN</td>\n",
       "      <td>891</td>\n",
       "      <td>2</td>\n",
       "      <td>NaN</td>\n",
       "      <td>NaN</td>\n",
       "      <td>NaN</td>\n",
       "      <td>681</td>\n",
       "      <td>NaN</td>\n",
       "      <td>147</td>\n",
       "      <td>3</td>\n",
       "    </tr>\n",
       "    <tr>\n",
       "      <th>top</th>\n",
       "      <td>NaN</td>\n",
       "      <td>NaN</td>\n",
       "      <td>NaN</td>\n",
       "      <td>Braund, Mr. Owen Harris</td>\n",
       "      <td>male</td>\n",
       "      <td>NaN</td>\n",
       "      <td>NaN</td>\n",
       "      <td>NaN</td>\n",
       "      <td>347082</td>\n",
       "      <td>NaN</td>\n",
       "      <td>B96 B98</td>\n",
       "      <td>S</td>\n",
       "    </tr>\n",
       "    <tr>\n",
       "      <th>freq</th>\n",
       "      <td>NaN</td>\n",
       "      <td>NaN</td>\n",
       "      <td>NaN</td>\n",
       "      <td>1</td>\n",
       "      <td>577</td>\n",
       "      <td>NaN</td>\n",
       "      <td>NaN</td>\n",
       "      <td>NaN</td>\n",
       "      <td>7</td>\n",
       "      <td>NaN</td>\n",
       "      <td>4</td>\n",
       "      <td>644</td>\n",
       "    </tr>\n",
       "    <tr>\n",
       "      <th>mean</th>\n",
       "      <td>446.000000</td>\n",
       "      <td>0.383838</td>\n",
       "      <td>2.308642</td>\n",
       "      <td>NaN</td>\n",
       "      <td>NaN</td>\n",
       "      <td>29.699118</td>\n",
       "      <td>0.523008</td>\n",
       "      <td>0.381594</td>\n",
       "      <td>NaN</td>\n",
       "      <td>32.204208</td>\n",
       "      <td>NaN</td>\n",
       "      <td>NaN</td>\n",
       "    </tr>\n",
       "    <tr>\n",
       "      <th>std</th>\n",
       "      <td>257.353842</td>\n",
       "      <td>0.486592</td>\n",
       "      <td>0.836071</td>\n",
       "      <td>NaN</td>\n",
       "      <td>NaN</td>\n",
       "      <td>14.526497</td>\n",
       "      <td>1.102743</td>\n",
       "      <td>0.806057</td>\n",
       "      <td>NaN</td>\n",
       "      <td>49.693429</td>\n",
       "      <td>NaN</td>\n",
       "      <td>NaN</td>\n",
       "    </tr>\n",
       "    <tr>\n",
       "      <th>min</th>\n",
       "      <td>1.000000</td>\n",
       "      <td>0.000000</td>\n",
       "      <td>1.000000</td>\n",
       "      <td>NaN</td>\n",
       "      <td>NaN</td>\n",
       "      <td>0.420000</td>\n",
       "      <td>0.000000</td>\n",
       "      <td>0.000000</td>\n",
       "      <td>NaN</td>\n",
       "      <td>0.000000</td>\n",
       "      <td>NaN</td>\n",
       "      <td>NaN</td>\n",
       "    </tr>\n",
       "    <tr>\n",
       "      <th>25%</th>\n",
       "      <td>223.500000</td>\n",
       "      <td>0.000000</td>\n",
       "      <td>2.000000</td>\n",
       "      <td>NaN</td>\n",
       "      <td>NaN</td>\n",
       "      <td>20.125000</td>\n",
       "      <td>0.000000</td>\n",
       "      <td>0.000000</td>\n",
       "      <td>NaN</td>\n",
       "      <td>7.910400</td>\n",
       "      <td>NaN</td>\n",
       "      <td>NaN</td>\n",
       "    </tr>\n",
       "    <tr>\n",
       "      <th>50%</th>\n",
       "      <td>446.000000</td>\n",
       "      <td>0.000000</td>\n",
       "      <td>3.000000</td>\n",
       "      <td>NaN</td>\n",
       "      <td>NaN</td>\n",
       "      <td>28.000000</td>\n",
       "      <td>0.000000</td>\n",
       "      <td>0.000000</td>\n",
       "      <td>NaN</td>\n",
       "      <td>14.454200</td>\n",
       "      <td>NaN</td>\n",
       "      <td>NaN</td>\n",
       "    </tr>\n",
       "    <tr>\n",
       "      <th>75%</th>\n",
       "      <td>668.500000</td>\n",
       "      <td>1.000000</td>\n",
       "      <td>3.000000</td>\n",
       "      <td>NaN</td>\n",
       "      <td>NaN</td>\n",
       "      <td>38.000000</td>\n",
       "      <td>1.000000</td>\n",
       "      <td>0.000000</td>\n",
       "      <td>NaN</td>\n",
       "      <td>31.000000</td>\n",
       "      <td>NaN</td>\n",
       "      <td>NaN</td>\n",
       "    </tr>\n",
       "    <tr>\n",
       "      <th>max</th>\n",
       "      <td>891.000000</td>\n",
       "      <td>1.000000</td>\n",
       "      <td>3.000000</td>\n",
       "      <td>NaN</td>\n",
       "      <td>NaN</td>\n",
       "      <td>80.000000</td>\n",
       "      <td>8.000000</td>\n",
       "      <td>6.000000</td>\n",
       "      <td>NaN</td>\n",
       "      <td>512.329200</td>\n",
       "      <td>NaN</td>\n",
       "      <td>NaN</td>\n",
       "    </tr>\n",
       "  </tbody>\n",
       "</table>\n",
       "</div>"
      ],
      "text/plain": [
       "        PassengerId    Survived      Pclass                     Name   Sex  \\\n",
       "count    891.000000  891.000000  891.000000                      891   891   \n",
       "unique          NaN         NaN         NaN                      891     2   \n",
       "top             NaN         NaN         NaN  Braund, Mr. Owen Harris  male   \n",
       "freq            NaN         NaN         NaN                        1   577   \n",
       "mean     446.000000    0.383838    2.308642                      NaN   NaN   \n",
       "std      257.353842    0.486592    0.836071                      NaN   NaN   \n",
       "min        1.000000    0.000000    1.000000                      NaN   NaN   \n",
       "25%      223.500000    0.000000    2.000000                      NaN   NaN   \n",
       "50%      446.000000    0.000000    3.000000                      NaN   NaN   \n",
       "75%      668.500000    1.000000    3.000000                      NaN   NaN   \n",
       "max      891.000000    1.000000    3.000000                      NaN   NaN   \n",
       "\n",
       "               Age       SibSp       Parch  Ticket        Fare    Cabin  \\\n",
       "count   714.000000  891.000000  891.000000     891  891.000000      204   \n",
       "unique         NaN         NaN         NaN     681         NaN      147   \n",
       "top            NaN         NaN         NaN  347082         NaN  B96 B98   \n",
       "freq           NaN         NaN         NaN       7         NaN        4   \n",
       "mean     29.699118    0.523008    0.381594     NaN   32.204208      NaN   \n",
       "std      14.526497    1.102743    0.806057     NaN   49.693429      NaN   \n",
       "min       0.420000    0.000000    0.000000     NaN    0.000000      NaN   \n",
       "25%      20.125000    0.000000    0.000000     NaN    7.910400      NaN   \n",
       "50%      28.000000    0.000000    0.000000     NaN   14.454200      NaN   \n",
       "75%      38.000000    1.000000    0.000000     NaN   31.000000      NaN   \n",
       "max      80.000000    8.000000    6.000000     NaN  512.329200      NaN   \n",
       "\n",
       "       Embarked  \n",
       "count       889  \n",
       "unique        3  \n",
       "top           S  \n",
       "freq        644  \n",
       "mean        NaN  \n",
       "std         NaN  \n",
       "min         NaN  \n",
       "25%         NaN  \n",
       "50%         NaN  \n",
       "75%         NaN  \n",
       "max         NaN  "
      ]
     },
     "execution_count": 11,
     "metadata": {},
     "output_type": "execute_result"
    }
   ],
   "source": [
    "#Obtaining description of all columns\n",
    "df_titanic.describe(include=\"all\") #added \"all\" since categorical data present"
   ]
  },
  {
   "cell_type": "markdown",
   "id": "2118c827",
   "metadata": {},
   "source": [
    "Description Obs- \n",
    "1. The mean in column \"Survived\",\"SibSp\",\"Parch\",\"Fare\" is considerably high than median and thus we can predict right skewness is present\n",
    "2. The mean in column \"Pclass\" is considerably low than median and thus we can predict left skewness is present\n",
    "3. The max of columns \"Age\",\"SibSp\",\"Parch\",\"Fare\" is unboundably higher than 75% and hence we predict high outliers must be present in these columns\n",
    "4. For all the categorical columns we will be treating them further"
   ]
  },
  {
   "cell_type": "markdown",
   "id": "27a6277a",
   "metadata": {},
   "source": [
    "# Data Cleaning and Pre-Processing"
   ]
  },
  {
   "cell_type": "markdown",
   "id": "0e64792a",
   "metadata": {},
   "source": [
    "### Deleting the unwanted columns and filling null values column\n",
    "We have mentioned above that we will be dropping \"Cabin\" columns as it has 687 null entries\n",
    "PassengerId,Name are not required for model performance so we will drop that. Also, Ticket name has associated fare column, so even that is not reuired."
   ]
  },
  {
   "cell_type": "code",
   "execution_count": 12,
   "id": "92bd61b7",
   "metadata": {},
   "outputs": [
    {
     "data": {
      "text/html": [
       "<div>\n",
       "<style scoped>\n",
       "    .dataframe tbody tr th:only-of-type {\n",
       "        vertical-align: middle;\n",
       "    }\n",
       "\n",
       "    .dataframe tbody tr th {\n",
       "        vertical-align: top;\n",
       "    }\n",
       "\n",
       "    .dataframe thead th {\n",
       "        text-align: right;\n",
       "    }\n",
       "</style>\n",
       "<table border=\"1\" class=\"dataframe\">\n",
       "  <thead>\n",
       "    <tr style=\"text-align: right;\">\n",
       "      <th></th>\n",
       "      <th>Survived</th>\n",
       "      <th>Pclass</th>\n",
       "      <th>Sex</th>\n",
       "      <th>Age</th>\n",
       "      <th>SibSp</th>\n",
       "      <th>Parch</th>\n",
       "      <th>Fare</th>\n",
       "      <th>Embarked</th>\n",
       "    </tr>\n",
       "  </thead>\n",
       "  <tbody>\n",
       "    <tr>\n",
       "      <th>0</th>\n",
       "      <td>0</td>\n",
       "      <td>3</td>\n",
       "      <td>male</td>\n",
       "      <td>22.0</td>\n",
       "      <td>1</td>\n",
       "      <td>0</td>\n",
       "      <td>7.2500</td>\n",
       "      <td>S</td>\n",
       "    </tr>\n",
       "    <tr>\n",
       "      <th>1</th>\n",
       "      <td>1</td>\n",
       "      <td>1</td>\n",
       "      <td>female</td>\n",
       "      <td>38.0</td>\n",
       "      <td>1</td>\n",
       "      <td>0</td>\n",
       "      <td>71.2833</td>\n",
       "      <td>C</td>\n",
       "    </tr>\n",
       "    <tr>\n",
       "      <th>2</th>\n",
       "      <td>1</td>\n",
       "      <td>3</td>\n",
       "      <td>female</td>\n",
       "      <td>26.0</td>\n",
       "      <td>0</td>\n",
       "      <td>0</td>\n",
       "      <td>7.9250</td>\n",
       "      <td>S</td>\n",
       "    </tr>\n",
       "    <tr>\n",
       "      <th>3</th>\n",
       "      <td>1</td>\n",
       "      <td>1</td>\n",
       "      <td>female</td>\n",
       "      <td>35.0</td>\n",
       "      <td>1</td>\n",
       "      <td>0</td>\n",
       "      <td>53.1000</td>\n",
       "      <td>S</td>\n",
       "    </tr>\n",
       "    <tr>\n",
       "      <th>4</th>\n",
       "      <td>0</td>\n",
       "      <td>3</td>\n",
       "      <td>male</td>\n",
       "      <td>35.0</td>\n",
       "      <td>0</td>\n",
       "      <td>0</td>\n",
       "      <td>8.0500</td>\n",
       "      <td>S</td>\n",
       "    </tr>\n",
       "  </tbody>\n",
       "</table>\n",
       "</div>"
      ],
      "text/plain": [
       "   Survived  Pclass     Sex   Age  SibSp  Parch     Fare Embarked\n",
       "0         0       3    male  22.0      1      0   7.2500        S\n",
       "1         1       1  female  38.0      1      0  71.2833        C\n",
       "2         1       3  female  26.0      0      0   7.9250        S\n",
       "3         1       1  female  35.0      1      0  53.1000        S\n",
       "4         0       3    male  35.0      0      0   8.0500        S"
      ]
     },
     "execution_count": 12,
     "metadata": {},
     "output_type": "execute_result"
    }
   ],
   "source": [
    "drop_columns=['PassengerId','Name','Ticket','Cabin']\n",
    "df_titanic.drop(drop_columns,axis = 1,inplace = True)\n",
    "df_titanic.head()"
   ]
  },
  {
   "cell_type": "markdown",
   "id": "6b163a36",
   "metadata": {},
   "source": [
    "Using of fillna technique to impute the missing values in \"Age\" Column"
   ]
  },
  {
   "cell_type": "code",
   "execution_count": 13,
   "id": "0b512078",
   "metadata": {},
   "outputs": [
    {
     "data": {
      "text/plain": [
       "(891, 8)"
      ]
     },
     "execution_count": 13,
     "metadata": {},
     "output_type": "execute_result"
    }
   ],
   "source": [
    "df_titanic.shape"
   ]
  },
  {
   "cell_type": "code",
   "execution_count": 14,
   "id": "6050a6f0",
   "metadata": {},
   "outputs": [],
   "source": [
    "df_titanic[\"Age\"] = df_titanic[\"Age\"].fillna(df_titanic[\"Age\"].mean())"
   ]
  },
  {
   "cell_type": "code",
   "execution_count": 15,
   "id": "44afd79f",
   "metadata": {},
   "outputs": [
    {
     "data": {
      "text/plain": [
       "0"
      ]
     },
     "execution_count": 15,
     "metadata": {},
     "output_type": "execute_result"
    }
   ],
   "source": [
    "df_titanic[\"Age\"].isnull().sum()"
   ]
  },
  {
   "cell_type": "markdown",
   "id": "07b41622",
   "metadata": {},
   "source": [
    "Since Embarked have only 2 NaN values, dropping those two rows"
   ]
  },
  {
   "cell_type": "code",
   "execution_count": 16,
   "id": "30d91ab5",
   "metadata": {},
   "outputs": [],
   "source": [
    "df_titanic.dropna(inplace=True)"
   ]
  },
  {
   "cell_type": "code",
   "execution_count": 17,
   "id": "29656bb1",
   "metadata": {},
   "outputs": [
    {
     "data": {
      "text/plain": [
       "0"
      ]
     },
     "execution_count": 17,
     "metadata": {},
     "output_type": "execute_result"
    }
   ],
   "source": [
    "df_titanic[\"Embarked\"].isnull().sum()"
   ]
  },
  {
   "cell_type": "markdown",
   "id": "b11cba52",
   "metadata": {},
   "source": [
    "### Data Visualization"
   ]
  },
  {
   "cell_type": "markdown",
   "id": "f0c4e238",
   "metadata": {},
   "source": [
    "##### Univariate Analysis"
   ]
  },
  {
   "cell_type": "code",
   "execution_count": 18,
   "id": "d532ff0b",
   "metadata": {},
   "outputs": [
    {
     "name": "stdout",
     "output_type": "stream",
     "text": [
      "0    549\n",
      "1    340\n",
      "Name: Survived, dtype: int64\n"
     ]
    },
    {
     "data": {
      "text/plain": [
       "<AxesSubplot:xlabel='Survived', ylabel='count'>"
      ]
     },
     "execution_count": 18,
     "metadata": {},
     "output_type": "execute_result"
    },
    {
     "data": {
      "image/png": "[encoded data removed]",
      "text/plain": [
       "<Figure size 432x288 with 1 Axes>"
      ]
     },
     "metadata": {
      "needs_background": "light"
     },
     "output_type": "display_data"
    }
   ],
   "source": [
    "print(df_titanic[\"Survived\"].value_counts())\n",
    "sns.countplot(x=\"Survived\", data=df_titanic)"
   ]
  },
  {
   "cell_type": "markdown",
   "id": "26ad5b6c",
   "metadata": {},
   "source": [
    "Obs- We can see the no. of passengers survived =342 and who died =549\n",
    "since 'Survived' is our target column, and there is imbalance in data, we will be balancing it later"
   ]
  },
  {
   "cell_type": "code",
   "execution_count": 19,
   "id": "b59cca4b",
   "metadata": {},
   "outputs": [
    {
     "name": "stdout",
     "output_type": "stream",
     "text": [
      "3    491\n",
      "1    214\n",
      "2    184\n",
      "Name: Pclass, dtype: int64\n"
     ]
    },
    {
     "data": {
      "text/plain": [
       "<AxesSubplot:xlabel='Pclass', ylabel='count'>"
      ]
     },
     "execution_count": 19,
     "metadata": {},
     "output_type": "execute_result"
    },
    {
     "data": {
      "image/png": "[encoded data removed]",
      "text/plain": [
       "<Figure size 432x288 with 1 Axes>"
      ]
     },
     "metadata": {
      "needs_background": "light"
     },
     "output_type": "display_data"
    }
   ],
   "source": [
    "print(df_titanic[\"Pclass\"].value_counts())\n",
    "sns.countplot(x=\"Pclass\", data=df_titanic)"
   ]
  },
  {
   "cell_type": "markdown",
   "id": "1869c9cb",
   "metadata": {},
   "source": [
    "Obs-As the tickets rate are higher for Pclass=1 is highest and Lowest for Pclass=3 , We can observe the No. of Passengers are highest for Pclass=3"
   ]
  },
  {
   "cell_type": "code",
   "execution_count": 20,
   "id": "6b1073bb",
   "metadata": {},
   "outputs": [
    {
     "name": "stdout",
     "output_type": "stream",
     "text": [
      "male      577\n",
      "female    312\n",
      "Name: Sex, dtype: int64\n"
     ]
    },
    {
     "data": {
      "text/plain": [
       "<AxesSubplot:xlabel='Sex', ylabel='count'>"
      ]
     },
     "execution_count": 20,
     "metadata": {},
     "output_type": "execute_result"
    },
    {
     "data": {
      "image/png": "[encoded data removed]",
      "text/plain": [
       "<Figure size 432x288 with 1 Axes>"
      ]
     },
     "metadata": {
      "needs_background": "light"
     },
     "output_type": "display_data"
    }
   ],
   "source": [
    "print(df_titanic[\"Sex\"].value_counts())\n",
    "sns.countplot(x=\"Sex\", data=df_titanic)"
   ]
  },
  {
   "cell_type": "markdown",
   "id": "1b1f7850",
   "metadata": {},
   "source": [
    "Obs-The number of males were more than female on that day"
   ]
  },
  {
   "cell_type": "code",
   "execution_count": 21,
   "id": "07608a74",
   "metadata": {},
   "outputs": [
    {
     "name": "stdout",
     "output_type": "stream",
     "text": [
      "0    606\n",
      "1    209\n",
      "2     28\n",
      "4     18\n",
      "3     16\n",
      "8      7\n",
      "5      5\n",
      "Name: SibSp, dtype: int64\n"
     ]
    },
    {
     "data": {
      "text/plain": [
       "<AxesSubplot:xlabel='SibSp', ylabel='count'>"
      ]
     },
     "execution_count": 21,
     "metadata": {},
     "output_type": "execute_result"
    },
    {
     "data": {
      "image/png": "[encoded data removed]",
      "text/plain": [
       "<Figure size 432x288 with 1 Axes>"
      ]
     },
     "metadata": {
      "needs_background": "light"
     },
     "output_type": "display_data"
    }
   ],
   "source": [
    "print(df_titanic[\"SibSp\"].value_counts())\n",
    "sns.countplot(x=\"SibSp\", data=df_titanic)"
   ]
  },
  {
   "cell_type": "markdown",
   "id": "49d2400d",
   "metadata": {},
   "source": [
    "Obs-There were few passengers siblings alon_with each other"
   ]
  },
  {
   "cell_type": "code",
   "execution_count": 22,
   "id": "fa7995f0",
   "metadata": {},
   "outputs": [
    {
     "name": "stdout",
     "output_type": "stream",
     "text": [
      "0    676\n",
      "1    118\n",
      "2     80\n",
      "5      5\n",
      "3      5\n",
      "4      4\n",
      "6      1\n",
      "Name: Parch, dtype: int64\n"
     ]
    },
    {
     "data": {
      "text/plain": [
       "<AxesSubplot:xlabel='Parch', ylabel='count'>"
      ]
     },
     "execution_count": 22,
     "metadata": {},
     "output_type": "execute_result"
    },
    {
     "data": {
      "image/png": "[encoded data removed]",
      "text/plain": [
       "<Figure size 432x288 with 1 Axes>"
      ]
     },
     "metadata": {
      "needs_background": "light"
     },
     "output_type": "display_data"
    }
   ],
   "source": [
    "print(df_titanic[\"Parch\"].value_counts())\n",
    "sns.countplot(x=\"Parch\", data=df_titanic)"
   ]
  },
  {
   "cell_type": "markdown",
   "id": "949cd50a",
   "metadata": {},
   "source": [
    "Obs-There were again very few parents with their child"
   ]
  },
  {
   "cell_type": "code",
   "execution_count": 23,
   "id": "c020c846",
   "metadata": {},
   "outputs": [
    {
     "name": "stdout",
     "output_type": "stream",
     "text": [
      "S    644\n",
      "C    168\n",
      "Q     77\n",
      "Name: Embarked, dtype: int64\n"
     ]
    },
    {
     "data": {
      "text/plain": [
       "<AxesSubplot:xlabel='Embarked', ylabel='count'>"
      ]
     },
     "execution_count": 23,
     "metadata": {},
     "output_type": "execute_result"
    },
    {
     "data": {
      "image/png": "[encoded data removed]",
      "text/plain": [
       "<Figure size 432x288 with 1 Axes>"
      ]
     },
     "metadata": {
      "needs_background": "light"
     },
     "output_type": "display_data"
    }
   ],
   "source": [
    "print(df_titanic[\"Embarked\"].value_counts())\n",
    "sns.countplot(x=\"Embarked\", data=df_titanic)"
   ]
  },
  {
   "cell_type": "markdown",
   "id": "fedd7a8d",
   "metadata": {},
   "source": [
    "obs-port of embarkation C= cherbourg , Q = Queenstown, S = Southampton"
   ]
  },
  {
   "cell_type": "code",
   "execution_count": 91,
   "id": "40f6ac9e",
   "metadata": {},
   "outputs": [
    {
     "data": {
      "text/plain": [
       "<AxesSubplot:xlabel='Fare', ylabel='Density'>"
      ]
     },
     "execution_count": 91,
     "metadata": {},
     "output_type": "execute_result"
    },
    {
     "data": {
      "text/plain": [
       "<Figure size 720x1440 with 0 Axes>"
      ]
     },
     "metadata": {},
     "output_type": "display_data"
    },
    {
     "data": {
      "image/png": "[encoded data removed]",
      "text/plain": [
       "<Figure size 432x288 with 6 Axes>"
      ]
     },
     "metadata": {
      "needs_background": "light"
     },
     "output_type": "display_data"
    }
   ],
   "source": [
    "# Next, we will plot distribution plot of all columns in same figure(to check skewness)\n",
    "plt.figure(figsize=(10,20))\n",
    "fig, axes = plt.subplots(2,3)\n",
    "fig.subplots_adjust(hspace=1, wspace=2)\n",
    "\n",
    "sns.distplot(df_titanic['Survived'], ax=axes[0,0])\n",
    "sns.distplot(df_titanic['Pclass'], ax=axes[0,1])\n",
    "sns.distplot(df_titanic['Age'], ax=axes[0,2])\n",
    "sns.distplot(df_titanic['SibSp'], ax=axes[1,0])\n",
    "sns.distplot(df_titanic['Parch'], ax=axes[1,1])\n",
    "sns.distplot(df_titanic['Fare'], ax=axes[1,2])"
   ]
  },
  {
   "cell_type": "markdown",
   "id": "8629df99",
   "metadata": {},
   "source": [
    "Obs- We can observe the data is lightly skewed in columns \"Pclass\",\"Age\" and highly skewed in \"SibSp\",\"Parch\",\"Fare\" "
   ]
  },
  {
   "cell_type": "code",
   "execution_count": 25,
   "id": "e7c23193",
   "metadata": {},
   "outputs": [
    {
     "data": {
      "text/plain": [
       "Survived       AxesSubplot(0.125,0.536818;0.227941x0.343182)\n",
       "Pclass      AxesSubplot(0.398529,0.536818;0.227941x0.343182)\n",
       "Age         AxesSubplot(0.672059,0.536818;0.227941x0.343182)\n",
       "SibSp             AxesSubplot(0.125,0.125;0.227941x0.343182)\n",
       "Parch          AxesSubplot(0.398529,0.125;0.227941x0.343182)\n",
       "Fare           AxesSubplot(0.672059,0.125;0.227941x0.343182)\n",
       "dtype: object"
      ]
     },
     "execution_count": 25,
     "metadata": {},
     "output_type": "execute_result"
    },
    {
     "data": {
      "image/png": "[encoded data removed]",
      "text/plain": [
       "<Figure size 720x576 with 6 Axes>"
      ]
     },
     "metadata": {
      "needs_background": "light"
     },
     "output_type": "display_data"
    }
   ],
   "source": [
    "#Next, we will plot box plot of all columns in same figure(to check outliers)\n",
    "df_titanic.plot(kind='box',subplots=True,layout=(2,3),figsize=(10,8))"
   ]
  },
  {
   "cell_type": "markdown",
   "id": "6c867118",
   "metadata": {},
   "source": [
    "Obs-We can see outliers are present in the columns-\"Age\",\"sibSp\",\"Parch\",\"Fare\""
   ]
  },
  {
   "cell_type": "markdown",
   "id": "f2e5acd7",
   "metadata": {},
   "source": [
    "##### Bivariate Analysis"
   ]
  },
  {
   "cell_type": "code",
   "execution_count": 26,
   "id": "18df7315",
   "metadata": {},
   "outputs": [
    {
     "name": "stdout",
     "output_type": "stream",
     "text": [
      "0    549\n",
      "1    340\n",
      "Name: Survived, dtype: int64\n"
     ]
    },
    {
     "data": {
      "text/plain": [
       "<AxesSubplot:xlabel='Survived', ylabel='count'>"
      ]
     },
     "execution_count": 26,
     "metadata": {},
     "output_type": "execute_result"
    },
    {
     "data": {
      "image/png": "[encoded data removed]",
      "text/plain": [
       "<Figure size 432x288 with 1 Axes>"
      ]
     },
     "metadata": {
      "needs_background": "light"
     },
     "output_type": "display_data"
    }
   ],
   "source": [
    "print(df_titanic[\"Survived\"].value_counts())\n",
    "sns.countplot(x=\"Survived\", data=df_titanic,hue=\"Sex\")"
   ]
  },
  {
   "cell_type": "markdown",
   "id": "1780e3d3",
   "metadata": {},
   "source": [
    "Obs-From the total 577 Males, we can see nearly only 100's survived and out of the total 314 Females nearly 250's survived. That shows women were tried to save first"
   ]
  },
  {
   "cell_type": "code",
   "execution_count": 27,
   "id": "46e26d00",
   "metadata": {},
   "outputs": [
    {
     "name": "stdout",
     "output_type": "stream",
     "text": [
      "3    491\n",
      "1    214\n",
      "2    184\n",
      "Name: Pclass, dtype: int64\n"
     ]
    },
    {
     "data": {
      "text/plain": [
       "<AxesSubplot:xlabel='Pclass', ylabel='count'>"
      ]
     },
     "execution_count": 27,
     "metadata": {},
     "output_type": "execute_result"
    },
    {
     "data": {
      "image/png": "[encoded data removed]",
      "text/plain": [
       "<Figure size 432x288 with 1 Axes>"
      ]
     },
     "metadata": {
      "needs_background": "light"
     },
     "output_type": "display_data"
    }
   ],
   "source": [
    "print(df_titanic[\"Pclass\"].value_counts())\n",
    "sns.countplot(x=\"Pclass\", data=df_titanic, hue=\"Survived\")"
   ]
  },
  {
   "cell_type": "markdown",
   "id": "fce7266f",
   "metadata": {},
   "source": [
    "Obs-We can clearly see the percentage of survival of PClass=1 is high and Pclass=3 survival-percentage was least"
   ]
  },
  {
   "cell_type": "code",
   "execution_count": 28,
   "id": "906e83d2",
   "metadata": {},
   "outputs": [
    {
     "data": {
      "text/plain": [
       "<AxesSubplot:title={'center':'Comparision between Pclass and Sex'}, xlabel='Pclass', ylabel='Sex'>"
      ]
     },
     "execution_count": 28,
     "metadata": {},
     "output_type": "execute_result"
    },
    {
     "data": {
      "image/png": "[encoded data removed]",
      "text/plain": [
       "<Figure size 432x288 with 1 Axes>"
      ]
     },
     "metadata": {
      "needs_background": "light"
     },
     "output_type": "display_data"
    }
   ],
   "source": [
    "plt.title('Comparision between Pclass and Sex')\n",
    "sns.scatterplot(df_titanic['Pclass'],df_titanic['Sex'],hue=df_titanic[\"Survived\"])"
   ]
  },
  {
   "cell_type": "markdown",
   "id": "aad99d29",
   "metadata": {},
   "source": [
    "Obs-We can observe that in \"Pclass=1\", both male and female were saved, in \"Pclass=2\", female were saved and for \"Pclass=3\", both were not saved \n",
    "One of the reason of that can be higher class accomodation is on top of ship and lowe class's towards down"
   ]
  },
  {
   "cell_type": "markdown",
   "id": "dd7ee3f3",
   "metadata": {},
   "source": [
    "##### Multivariate Analysis"
   ]
  },
  {
   "cell_type": "code",
   "execution_count": 29,
   "id": "1279c97a",
   "metadata": {},
   "outputs": [
    {
     "data": {
      "text/plain": [
       "<seaborn.axisgrid.PairGrid at 0x1dd7f7f7f70>"
      ]
     },
     "execution_count": 29,
     "metadata": {},
     "output_type": "execute_result"
    },
    {
     "data": {
      "image/png": "[encoded data removed]",
      "text/plain": [
       "<Figure size 951.875x900 with 30 Axes>"
      ]
     },
     "metadata": {
      "needs_background": "light"
     },
     "output_type": "display_data"
    }
   ],
   "source": [
    "sns.pairplot(df_titanic,hue=\"Survived\")"
   ]
  },
  {
   "cell_type": "markdown",
   "id": "32cac394",
   "metadata": {},
   "source": [
    "Obs- We have plotted different pairs of column against each other using pair plot\n",
    "We can see \"PClass=1\" since belonged to higher class siblings together were saved, again fare\"Pclass=1\" is high and also the survival was high"
   ]
  },
  {
   "cell_type": "markdown",
   "id": "6f456ea3",
   "metadata": {},
   "source": [
    "### Encoding Categorical Data"
   ]
  },
  {
   "cell_type": "code",
   "execution_count": 30,
   "id": "da0190dd",
   "metadata": {},
   "outputs": [
    {
     "data": {
      "text/html": [
       "<div>\n",
       "<style scoped>\n",
       "    .dataframe tbody tr th:only-of-type {\n",
       "        vertical-align: middle;\n",
       "    }\n",
       "\n",
       "    .dataframe tbody tr th {\n",
       "        vertical-align: top;\n",
       "    }\n",
       "\n",
       "    .dataframe thead th {\n",
       "        text-align: right;\n",
       "    }\n",
       "</style>\n",
       "<table border=\"1\" class=\"dataframe\">\n",
       "  <thead>\n",
       "    <tr style=\"text-align: right;\">\n",
       "      <th></th>\n",
       "      <th>Survived</th>\n",
       "      <th>Pclass</th>\n",
       "      <th>Sex</th>\n",
       "      <th>Age</th>\n",
       "      <th>SibSp</th>\n",
       "      <th>Parch</th>\n",
       "      <th>Fare</th>\n",
       "      <th>Embarked</th>\n",
       "    </tr>\n",
       "  </thead>\n",
       "  <tbody>\n",
       "    <tr>\n",
       "      <th>0</th>\n",
       "      <td>0</td>\n",
       "      <td>3</td>\n",
       "      <td>1</td>\n",
       "      <td>22.000000</td>\n",
       "      <td>1</td>\n",
       "      <td>0</td>\n",
       "      <td>7.2500</td>\n",
       "      <td>2</td>\n",
       "    </tr>\n",
       "    <tr>\n",
       "      <th>1</th>\n",
       "      <td>1</td>\n",
       "      <td>1</td>\n",
       "      <td>0</td>\n",
       "      <td>38.000000</td>\n",
       "      <td>1</td>\n",
       "      <td>0</td>\n",
       "      <td>71.2833</td>\n",
       "      <td>0</td>\n",
       "    </tr>\n",
       "    <tr>\n",
       "      <th>2</th>\n",
       "      <td>1</td>\n",
       "      <td>3</td>\n",
       "      <td>0</td>\n",
       "      <td>26.000000</td>\n",
       "      <td>0</td>\n",
       "      <td>0</td>\n",
       "      <td>7.9250</td>\n",
       "      <td>2</td>\n",
       "    </tr>\n",
       "    <tr>\n",
       "      <th>3</th>\n",
       "      <td>1</td>\n",
       "      <td>1</td>\n",
       "      <td>0</td>\n",
       "      <td>35.000000</td>\n",
       "      <td>1</td>\n",
       "      <td>0</td>\n",
       "      <td>53.1000</td>\n",
       "      <td>2</td>\n",
       "    </tr>\n",
       "    <tr>\n",
       "      <th>4</th>\n",
       "      <td>0</td>\n",
       "      <td>3</td>\n",
       "      <td>1</td>\n",
       "      <td>35.000000</td>\n",
       "      <td>0</td>\n",
       "      <td>0</td>\n",
       "      <td>8.0500</td>\n",
       "      <td>2</td>\n",
       "    </tr>\n",
       "    <tr>\n",
       "      <th>...</th>\n",
       "      <td>...</td>\n",
       "      <td>...</td>\n",
       "      <td>...</td>\n",
       "      <td>...</td>\n",
       "      <td>...</td>\n",
       "      <td>...</td>\n",
       "      <td>...</td>\n",
       "      <td>...</td>\n",
       "    </tr>\n",
       "    <tr>\n",
       "      <th>886</th>\n",
       "      <td>0</td>\n",
       "      <td>2</td>\n",
       "      <td>1</td>\n",
       "      <td>27.000000</td>\n",
       "      <td>0</td>\n",
       "      <td>0</td>\n",
       "      <td>13.0000</td>\n",
       "      <td>2</td>\n",
       "    </tr>\n",
       "    <tr>\n",
       "      <th>887</th>\n",
       "      <td>1</td>\n",
       "      <td>1</td>\n",
       "      <td>0</td>\n",
       "      <td>19.000000</td>\n",
       "      <td>0</td>\n",
       "      <td>0</td>\n",
       "      <td>30.0000</td>\n",
       "      <td>2</td>\n",
       "    </tr>\n",
       "    <tr>\n",
       "      <th>888</th>\n",
       "      <td>0</td>\n",
       "      <td>3</td>\n",
       "      <td>0</td>\n",
       "      <td>29.699118</td>\n",
       "      <td>1</td>\n",
       "      <td>2</td>\n",
       "      <td>23.4500</td>\n",
       "      <td>2</td>\n",
       "    </tr>\n",
       "    <tr>\n",
       "      <th>889</th>\n",
       "      <td>1</td>\n",
       "      <td>1</td>\n",
       "      <td>1</td>\n",
       "      <td>26.000000</td>\n",
       "      <td>0</td>\n",
       "      <td>0</td>\n",
       "      <td>30.0000</td>\n",
       "      <td>0</td>\n",
       "    </tr>\n",
       "    <tr>\n",
       "      <th>890</th>\n",
       "      <td>0</td>\n",
       "      <td>3</td>\n",
       "      <td>1</td>\n",
       "      <td>32.000000</td>\n",
       "      <td>0</td>\n",
       "      <td>0</td>\n",
       "      <td>7.7500</td>\n",
       "      <td>1</td>\n",
       "    </tr>\n",
       "  </tbody>\n",
       "</table>\n",
       "<p>889 rows × 8 columns</p>\n",
       "</div>"
      ],
      "text/plain": [
       "     Survived  Pclass  Sex        Age  SibSp  Parch     Fare  Embarked\n",
       "0           0       3    1  22.000000      1      0   7.2500         2\n",
       "1           1       1    0  38.000000      1      0  71.2833         0\n",
       "2           1       3    0  26.000000      0      0   7.9250         2\n",
       "3           1       1    0  35.000000      1      0  53.1000         2\n",
       "4           0       3    1  35.000000      0      0   8.0500         2\n",
       "..        ...     ...  ...        ...    ...    ...      ...       ...\n",
       "886         0       2    1  27.000000      0      0  13.0000         2\n",
       "887         1       1    0  19.000000      0      0  30.0000         2\n",
       "888         0       3    0  29.699118      1      2  23.4500         2\n",
       "889         1       1    1  26.000000      0      0  30.0000         0\n",
       "890         0       3    1  32.000000      0      0   7.7500         1\n",
       "\n",
       "[889 rows x 8 columns]"
      ]
     },
     "execution_count": 30,
     "metadata": {},
     "output_type": "execute_result"
    }
   ],
   "source": [
    "from sklearn.preprocessing import LabelEncoder\n",
    "\n",
    "le=LabelEncoder()\n",
    "df_titanic['Sex']=le.fit_transform(df_titanic['Sex'])\n",
    "df_titanic['Embarked']=le.fit_transform(df_titanic['Embarked'])\n",
    "df_titanic"
   ]
  },
  {
   "cell_type": "markdown",
   "id": "202db1a9",
   "metadata": {},
   "source": [
    "Obs- The Label Encoder has encoded the categorical values as:\n",
    "\n",
    "\"Sex\": Male-1, Female-0 \n",
    "\n",
    "\"Emabarked Ports\": 0-C(Cherbourg) ,1-Q(Queenstown), 2-S(Southampton)"
   ]
  },
  {
   "cell_type": "markdown",
   "id": "a9e66034",
   "metadata": {},
   "source": [
    "### Checking Correlation"
   ]
  },
  {
   "cell_type": "code",
   "execution_count": 31,
   "id": "01a934e1",
   "metadata": {},
   "outputs": [
    {
     "data": {
      "text/html": [
       "<div>\n",
       "<style scoped>\n",
       "    .dataframe tbody tr th:only-of-type {\n",
       "        vertical-align: middle;\n",
       "    }\n",
       "\n",
       "    .dataframe tbody tr th {\n",
       "        vertical-align: top;\n",
       "    }\n",
       "\n",
       "    .dataframe thead th {\n",
       "        text-align: right;\n",
       "    }\n",
       "</style>\n",
       "<table border=\"1\" class=\"dataframe\">\n",
       "  <thead>\n",
       "    <tr style=\"text-align: right;\">\n",
       "      <th></th>\n",
       "      <th>Survived</th>\n",
       "      <th>Pclass</th>\n",
       "      <th>Sex</th>\n",
       "      <th>Age</th>\n",
       "      <th>SibSp</th>\n",
       "      <th>Parch</th>\n",
       "      <th>Fare</th>\n",
       "      <th>Embarked</th>\n",
       "    </tr>\n",
       "  </thead>\n",
       "  <tbody>\n",
       "    <tr>\n",
       "      <th>Survived</th>\n",
       "      <td>1.000000</td>\n",
       "      <td>-0.335549</td>\n",
       "      <td>-0.541585</td>\n",
       "      <td>-0.074673</td>\n",
       "      <td>-0.034040</td>\n",
       "      <td>0.083151</td>\n",
       "      <td>0.255290</td>\n",
       "      <td>-0.169718</td>\n",
       "    </tr>\n",
       "    <tr>\n",
       "      <th>Pclass</th>\n",
       "      <td>-0.335549</td>\n",
       "      <td>1.000000</td>\n",
       "      <td>0.127741</td>\n",
       "      <td>-0.327954</td>\n",
       "      <td>0.081656</td>\n",
       "      <td>0.016824</td>\n",
       "      <td>-0.548193</td>\n",
       "      <td>0.164681</td>\n",
       "    </tr>\n",
       "    <tr>\n",
       "      <th>Sex</th>\n",
       "      <td>-0.541585</td>\n",
       "      <td>0.127741</td>\n",
       "      <td>1.000000</td>\n",
       "      <td>0.089434</td>\n",
       "      <td>-0.116348</td>\n",
       "      <td>-0.247508</td>\n",
       "      <td>-0.179958</td>\n",
       "      <td>0.110320</td>\n",
       "    </tr>\n",
       "    <tr>\n",
       "      <th>Age</th>\n",
       "      <td>-0.074673</td>\n",
       "      <td>-0.327954</td>\n",
       "      <td>0.089434</td>\n",
       "      <td>1.000000</td>\n",
       "      <td>-0.231875</td>\n",
       "      <td>-0.178232</td>\n",
       "      <td>0.088604</td>\n",
       "      <td>-0.028927</td>\n",
       "    </tr>\n",
       "    <tr>\n",
       "      <th>SibSp</th>\n",
       "      <td>-0.034040</td>\n",
       "      <td>0.081656</td>\n",
       "      <td>-0.116348</td>\n",
       "      <td>-0.231875</td>\n",
       "      <td>1.000000</td>\n",
       "      <td>0.414542</td>\n",
       "      <td>0.160887</td>\n",
       "      <td>0.068900</td>\n",
       "    </tr>\n",
       "    <tr>\n",
       "      <th>Parch</th>\n",
       "      <td>0.083151</td>\n",
       "      <td>0.016824</td>\n",
       "      <td>-0.247508</td>\n",
       "      <td>-0.178232</td>\n",
       "      <td>0.414542</td>\n",
       "      <td>1.000000</td>\n",
       "      <td>0.217532</td>\n",
       "      <td>0.040449</td>\n",
       "    </tr>\n",
       "    <tr>\n",
       "      <th>Fare</th>\n",
       "      <td>0.255290</td>\n",
       "      <td>-0.548193</td>\n",
       "      <td>-0.179958</td>\n",
       "      <td>0.088604</td>\n",
       "      <td>0.160887</td>\n",
       "      <td>0.217532</td>\n",
       "      <td>1.000000</td>\n",
       "      <td>-0.226311</td>\n",
       "    </tr>\n",
       "    <tr>\n",
       "      <th>Embarked</th>\n",
       "      <td>-0.169718</td>\n",
       "      <td>0.164681</td>\n",
       "      <td>0.110320</td>\n",
       "      <td>-0.028927</td>\n",
       "      <td>0.068900</td>\n",
       "      <td>0.040449</td>\n",
       "      <td>-0.226311</td>\n",
       "      <td>1.000000</td>\n",
       "    </tr>\n",
       "  </tbody>\n",
       "</table>\n",
       "</div>"
      ],
      "text/plain": [
       "          Survived    Pclass       Sex       Age     SibSp     Parch  \\\n",
       "Survived  1.000000 -0.335549 -0.541585 -0.074673 -0.034040  0.083151   \n",
       "Pclass   -0.335549  1.000000  0.127741 -0.327954  0.081656  0.016824   \n",
       "Sex      -0.541585  0.127741  1.000000  0.089434 -0.116348 -0.247508   \n",
       "Age      -0.074673 -0.327954  0.089434  1.000000 -0.231875 -0.178232   \n",
       "SibSp    -0.034040  0.081656 -0.116348 -0.231875  1.000000  0.414542   \n",
       "Parch     0.083151  0.016824 -0.247508 -0.178232  0.414542  1.000000   \n",
       "Fare      0.255290 -0.548193 -0.179958  0.088604  0.160887  0.217532   \n",
       "Embarked -0.169718  0.164681  0.110320 -0.028927  0.068900  0.040449   \n",
       "\n",
       "              Fare  Embarked  \n",
       "Survived  0.255290 -0.169718  \n",
       "Pclass   -0.548193  0.164681  \n",
       "Sex      -0.179958  0.110320  \n",
       "Age       0.088604 -0.028927  \n",
       "SibSp     0.160887  0.068900  \n",
       "Parch     0.217532  0.040449  \n",
       "Fare      1.000000 -0.226311  \n",
       "Embarked -0.226311  1.000000  "
      ]
     },
     "execution_count": 31,
     "metadata": {},
     "output_type": "execute_result"
    }
   ],
   "source": [
    "df_titanic.corr()"
   ]
  },
  {
   "cell_type": "code",
   "execution_count": 32,
   "id": "fa9310ea",
   "metadata": {},
   "outputs": [
    {
     "data": {
      "text/plain": [
       "<AxesSubplot:>"
      ]
     },
     "execution_count": 32,
     "metadata": {},
     "output_type": "execute_result"
    },
    {
     "data": {
      "image/png": "[encoded data removed]",
      "text/plain": [
       "<Figure size 504x504 with 2 Axes>"
      ]
     },
     "metadata": {
      "needs_background": "light"
     },
     "output_type": "display_data"
    }
   ],
   "source": [
    "#displaying Correlation using heatmap\n",
    "plt.figure(figsize=(7,7))\n",
    "sns.heatmap(df_titanic.corr(),annot=True)"
   ]
  },
  {
   "cell_type": "markdown",
   "id": "da007e4a",
   "metadata": {},
   "source": [
    "Obs-Moderately Negtative Correalated- (\"Sex\" and \"Survived\") (\"PClass\" and \"Fare\")\n",
    "\n",
    "    Moderately Positive correlated-(\"SibSp and Parch\")\n",
    "\n",
    "However, the columns aren't highly corealted to each other so we can say multi-collinearity is not present"
   ]
  },
  {
   "cell_type": "markdown",
   "id": "5ab27dcd",
   "metadata": {},
   "source": [
    "# Data Transformation"
   ]
  },
  {
   "cell_type": "markdown",
   "id": "08f70e05",
   "metadata": {},
   "source": [
    "### Checking for skewness"
   ]
  },
  {
   "cell_type": "code",
   "execution_count": 33,
   "id": "53463810",
   "metadata": {},
   "outputs": [
    {
     "data": {
      "text/plain": [
       "Survived    0.484568\n",
       "Pclass     -0.636998\n",
       "Sex        -0.625625\n",
       "Age         0.431720\n",
       "SibSp       3.691058\n",
       "Parch       2.745160\n",
       "Fare        4.801440\n",
       "Embarked   -1.261367\n",
       "dtype: float64"
      ]
     },
     "execution_count": 33,
     "metadata": {},
     "output_type": "execute_result"
    }
   ],
   "source": [
    "df_titanic.skew()"
   ]
  },
  {
   "cell_type": "markdown",
   "id": "6dc05a91",
   "metadata": {},
   "source": [
    "Obs-Except for Columns \"Survived\" and \"Age\" all other are skewed, so applying normalization techniques and checking the skewness further"
   ]
  },
  {
   "cell_type": "markdown",
   "id": "14656d9d",
   "metadata": {},
   "source": [
    "### Applying Transformation Method"
   ]
  },
  {
   "cell_type": "code",
   "execution_count": 34,
   "id": "b5e60d24",
   "metadata": {},
   "outputs": [],
   "source": [
    "from sklearn.preprocessing import PowerTransformer\n",
    "pt = PowerTransformer() #deafault method=boxcox\n",
    "\n",
    "skew_col = [\"Pclass\",\"Sex\",\"SibSp\",\"Parch\",\"Fare\",\"Embarked\"]\n",
    "df_titanic[skew_col]= pt.fit_transform(df_titanic[skew_col].values)"
   ]
  },
  {
   "cell_type": "code",
   "execution_count": 35,
   "id": "e21ba601",
   "metadata": {},
   "outputs": [
    {
     "data": {
      "text/plain": [
       "Survived    0.484568\n",
       "Pclass     -0.444702\n",
       "Sex        -0.625625\n",
       "Age         0.431720\n",
       "SibSp       0.805424\n",
       "Parch       1.225383\n",
       "Fare       -0.041424\n",
       "Embarked   -1.061486\n",
       "dtype: float64"
      ]
     },
     "execution_count": 35,
     "metadata": {},
     "output_type": "execute_result"
    }
   ],
   "source": [
    "df_titanic.skew()"
   ]
  },
  {
   "cell_type": "markdown",
   "id": "e2b670b9",
   "metadata": {},
   "source": [
    "Obs-We can observe there is a considerable decrease in the skewness after the transformation"
   ]
  },
  {
   "cell_type": "markdown",
   "id": "8095f39b",
   "metadata": {},
   "source": [
    "### Checking for outliers"
   ]
  },
  {
   "cell_type": "code",
   "execution_count": 36,
   "id": "7bae9604",
   "metadata": {},
   "outputs": [
    {
     "name": "stdout",
     "output_type": "stream",
     "text": [
      "(array([ 95, 115, 178, 262, 270, 276, 301, 412, 465, 480, 492, 596, 629,\n",
      "       632, 671, 673, 731, 744, 805, 814, 821, 849], dtype=int64), array([3, 3, 6, 6, 6, 6, 6, 6, 6, 6, 3, 6, 3, 6, 3, 6, 6, 3, 6, 6, 6, 3],\n",
      "      dtype=int64))\n"
     ]
    }
   ],
   "source": [
    "# Method 1: Z-score\n",
    "from scipy.stats import zscore\n",
    "z=np.abs(zscore(df_titanic))\n",
    "threshold=3\n",
    "print(np.where(z>3))"
   ]
  },
  {
   "cell_type": "markdown",
   "id": "7af92325",
   "metadata": {},
   "source": [
    "Obs-From the box plot, we already visualized outliers were present earlier in multiple columns.\n",
    "\n",
    "Here it is exactly showing the locations where outliers are present, removing these locations data further"
   ]
  },
  {
   "cell_type": "code",
   "execution_count": 37,
   "id": "cbd2fbf3",
   "metadata": {},
   "outputs": [],
   "source": [
    "df_titanic_new=df_titanic[(z<3).all(axis=1)]"
   ]
  },
  {
   "cell_type": "code",
   "execution_count": 38,
   "id": "b93bd7ef",
   "metadata": {},
   "outputs": [
    {
     "name": "stdout",
     "output_type": "stream",
     "text": [
      "df_titanic.shape: (889, 8) \n",
      "df_titanic_new.shape: (867, 8)\n"
     ]
    }
   ],
   "source": [
    "print(\"df_titanic.shape:\",df_titanic.shape, \"\\ndf_titanic_new.shape:\",df_titanic_new.shape)"
   ]
  },
  {
   "cell_type": "code",
   "execution_count": 39,
   "id": "9cf91247",
   "metadata": {},
   "outputs": [
    {
     "data": {
      "text/plain": [
       "2.4746906636670416"
      ]
     },
     "execution_count": 39,
     "metadata": {},
     "output_type": "execute_result"
    }
   ],
   "source": [
    "# Let's check the the data loss\n",
    "data_loss = (889-867)/889*100\n",
    "data_loss"
   ]
  },
  {
   "cell_type": "code",
   "execution_count": 40,
   "id": "2a57a3eb",
   "metadata": {},
   "outputs": [],
   "source": [
    "# Method 2: IQR(Inter Quartile) Method\n",
    "Q1=df_titanic.quantile(0.25)\n",
    "Q3=df_titanic.quantile(0.75)\n",
    "IQR=Q3 - Q1\n",
    "\n",
    "df_titanic_new2=df_titanic[~((df_titanic < (Q1 - 1.5 * IQR)) |(df_titanic > (Q3 + 1.5 * IQR))).any(axis=1)]"
   ]
  },
  {
   "cell_type": "code",
   "execution_count": 41,
   "id": "60ab0284",
   "metadata": {},
   "outputs": [
    {
     "name": "stdout",
     "output_type": "stream",
     "text": [
      "df_titanic.shape: (889, 8) \n",
      "df_titanic_new2: (626, 8)\n"
     ]
    }
   ],
   "source": [
    "print(\"df_titanic.shape:\",df_titanic.shape, \"\\ndf_titanic_new2:\",df_titanic_new2.shape)"
   ]
  },
  {
   "cell_type": "code",
   "execution_count": 42,
   "id": "60af43c2",
   "metadata": {},
   "outputs": [
    {
     "data": {
      "text/plain": [
       "29.58380202474691"
      ]
     },
     "execution_count": 42,
     "metadata": {},
     "output_type": "execute_result"
    }
   ],
   "source": [
    "# Let's check the the data loss\n",
    "data_loss2 = (889-626)/889*100\n",
    "data_loss2"
   ]
  },
  {
   "cell_type": "markdown",
   "id": "4f1aa2a8",
   "metadata": {},
   "source": [
    "Obs- The Data Loss in IQR method is very high, so we will be going with Z-score method"
   ]
  },
  {
   "cell_type": "code",
   "execution_count": 43,
   "id": "31ab215b",
   "metadata": {},
   "outputs": [],
   "source": [
    "df_titanic=df_titanic_new # Assigning back the new created dataframe"
   ]
  },
  {
   "cell_type": "code",
   "execution_count": 44,
   "id": "dff182af",
   "metadata": {},
   "outputs": [
    {
     "data": {
      "text/plain": [
       "(867, 8)"
      ]
     },
     "execution_count": 44,
     "metadata": {},
     "output_type": "execute_result"
    }
   ],
   "source": [
    "df_titanic.shape"
   ]
  },
  {
   "cell_type": "markdown",
   "id": "892e8af0",
   "metadata": {},
   "source": [
    "### Creating Input(Predictor) and Output(Target) Columns"
   ]
  },
  {
   "cell_type": "code",
   "execution_count": 45,
   "id": "9e9cea2c",
   "metadata": {},
   "outputs": [],
   "source": [
    "x=df_titanic.drop(columns=['Survived'],axis=1)\n",
    "y=df_titanic['Survived']"
   ]
  },
  {
   "cell_type": "code",
   "execution_count": 46,
   "id": "fa9bab40",
   "metadata": {},
   "outputs": [
    {
     "data": {
      "text/plain": [
       "(867, 7)"
      ]
     },
     "execution_count": 46,
     "metadata": {},
     "output_type": "execute_result"
    }
   ],
   "source": [
    "x.shape"
   ]
  },
  {
   "cell_type": "code",
   "execution_count": 47,
   "id": "2158ea80",
   "metadata": {},
   "outputs": [
    {
     "data": {
      "text/plain": [
       "(867,)"
      ]
     },
     "execution_count": 47,
     "metadata": {},
     "output_type": "execute_result"
    }
   ],
   "source": [
    "y.shape"
   ]
  },
  {
   "cell_type": "markdown",
   "id": "86cca717",
   "metadata": {},
   "source": [
    "### Data Scaling"
   ]
  },
  {
   "cell_type": "code",
   "execution_count": 48,
   "id": "87f1d02b",
   "metadata": {},
   "outputs": [
    {
     "data": {
      "text/plain": [
       "array([[ 0.85029924,  0.74977474, -0.5809341 , ..., -0.56865883,\n",
       "        -1.04716434,  0.61669686],\n",
       "       [-1.48053709, -1.33373391,  0.69867007, ..., -0.56865883,\n",
       "         1.43361335, -1.76348931],\n",
       "       [ 0.85029924, -1.33373391, -0.26103306, ..., -0.56865883,\n",
       "        -0.94770181,  0.61669686],\n",
       "       ...,\n",
       "       [ 0.85029924, -1.33373391,  0.03480484, ...,  1.82020423,\n",
       "         0.26090385,  0.61669686],\n",
       "       [-1.48053709,  0.74977474, -0.26103306, ..., -0.56865883,\n",
       "         0.52851421, -1.76348931],\n",
       "       [ 0.85029924,  0.74977474,  0.2188185 , ..., -0.56865883,\n",
       "        -0.97267425, -1.21968835]])"
      ]
     },
     "execution_count": 48,
     "metadata": {},
     "output_type": "execute_result"
    }
   ],
   "source": [
    "from sklearn.preprocessing import StandardScaler\n",
    "st=StandardScaler()\n",
    "x_scale=st.fit_transform(x)\n",
    "x_scale"
   ]
  },
  {
   "cell_type": "code",
   "execution_count": 49,
   "id": "1ecddc8e",
   "metadata": {},
   "outputs": [],
   "source": [
    "x=pd.DataFrame(data=x_scale)"
   ]
  },
  {
   "cell_type": "markdown",
   "id": "13af9953",
   "metadata": {},
   "source": [
    "### Checking for Imbalance "
   ]
  },
  {
   "cell_type": "code",
   "execution_count": 50,
   "id": "978cd3bf",
   "metadata": {},
   "outputs": [
    {
     "name": "stdout",
     "output_type": "stream",
     "text": [
      "0    529\n",
      "1    338\n",
      "Name: Survived, dtype: int64\n"
     ]
    }
   ],
   "source": [
    "print(y.value_counts())"
   ]
  },
  {
   "cell_type": "markdown",
   "id": "27599f61",
   "metadata": {},
   "source": [
    "Obs-We can see the target is imbalanced, and therefore we need to balance it."
   ]
  },
  {
   "cell_type": "markdown",
   "id": "033ce0e6",
   "metadata": {},
   "source": [
    "#### Oversampling using SMOTE"
   ]
  },
  {
   "cell_type": "markdown",
   "id": "61e98d84",
   "metadata": {},
   "source": [
    "pip install imblearn"
   ]
  },
  {
   "cell_type": "code",
   "execution_count": 51,
   "id": "d5fc503f",
   "metadata": {},
   "outputs": [],
   "source": [
    "from imblearn.over_sampling import SMOTE\n",
    "SM = SMOTE()\n",
    "x,y= SM.fit_resample(x,y)"
   ]
  },
  {
   "cell_type": "code",
   "execution_count": 52,
   "id": "51c516ff",
   "metadata": {},
   "outputs": [
    {
     "name": "stdout",
     "output_type": "stream",
     "text": [
      "0    529\n",
      "1    529\n",
      "Name: Survived, dtype: int64\n"
     ]
    }
   ],
   "source": [
    "print(y.value_counts())"
   ]
  },
  {
   "cell_type": "markdown",
   "id": "4f2df671",
   "metadata": {},
   "source": [
    "# Data Modelling"
   ]
  },
  {
   "cell_type": "markdown",
   "id": "b3cea462",
   "metadata": {},
   "source": [
    "### Finding Best Random State "
   ]
  },
  {
   "cell_type": "code",
   "execution_count": 53,
   "id": "946daf00",
   "metadata": {},
   "outputs": [
    {
     "name": "stdout",
     "output_type": "stream",
     "text": [
      "Best accuracy is  0.8377358490566038  on Random_state  94\n"
     ]
    }
   ],
   "source": [
    "from sklearn.tree import DecisionTreeClassifier\n",
    "from sklearn.linear_model import LogisticRegression\n",
    "from sklearn.model_selection import train_test_split\n",
    "from sklearn.metrics import accuracy_score,confusion_matrix,classification_report\n",
    "maxAccu=0\n",
    "maxRS=0\n",
    "for i in range(1,200):\n",
    "    x_train,x_test,y_train,y_test = train_test_split(x,y,test_size=.25, random_state =i)\n",
    "    lg = LogisticRegression()\n",
    "    lg.fit(x_train, y_train)\n",
    "    pred = lg.predict(x_test)\n",
    "    acc=accuracy_score(y_test, pred)\n",
    "    if acc>maxAccu:\n",
    "        maxAccu=acc\n",
    "        maxRS=i\n",
    "print(\"Best accuracy is \",maxAccu,\" on Random_state \",maxRS)"
   ]
  },
  {
   "cell_type": "markdown",
   "id": "fffd21dd",
   "metadata": {},
   "source": [
    "### Splitting  data into Train-Test"
   ]
  },
  {
   "cell_type": "code",
   "execution_count": 54,
   "id": "780f6d75",
   "metadata": {},
   "outputs": [],
   "source": [
    "x_train,x_test,y_train,y_test=train_test_split(x,y,test_size=0.25,random_state=94)"
   ]
  },
  {
   "cell_type": "code",
   "execution_count": 55,
   "id": "26b2df51",
   "metadata": {},
   "outputs": [
    {
     "data": {
      "text/plain": [
       "(793, 7)"
      ]
     },
     "execution_count": 55,
     "metadata": {},
     "output_type": "execute_result"
    }
   ],
   "source": [
    "x_train.shape"
   ]
  },
  {
   "cell_type": "code",
   "execution_count": 56,
   "id": "252f4e3a",
   "metadata": {},
   "outputs": [
    {
     "data": {
      "text/plain": [
       "(793,)"
      ]
     },
     "execution_count": 56,
     "metadata": {},
     "output_type": "execute_result"
    }
   ],
   "source": [
    "y_train.shape"
   ]
  },
  {
   "cell_type": "code",
   "execution_count": 57,
   "id": "e8ac5d79",
   "metadata": {},
   "outputs": [
    {
     "data": {
      "text/plain": [
       "(265, 7)"
      ]
     },
     "execution_count": 57,
     "metadata": {},
     "output_type": "execute_result"
    }
   ],
   "source": [
    "x_test.shape"
   ]
  },
  {
   "cell_type": "code",
   "execution_count": 58,
   "id": "309e4acb",
   "metadata": {},
   "outputs": [
    {
     "data": {
      "text/plain": [
       "(265,)"
      ]
     },
     "execution_count": 58,
     "metadata": {},
     "output_type": "execute_result"
    }
   ],
   "source": [
    "y_test.shape"
   ]
  },
  {
   "cell_type": "markdown",
   "id": "9bcea8b3",
   "metadata": {},
   "source": [
    "## Using various Machine Learning Algorithms"
   ]
  },
  {
   "cell_type": "code",
   "execution_count": 59,
   "id": "eabb6af5",
   "metadata": {},
   "outputs": [],
   "source": [
    "#importing necessary libraries\n",
    "from sklearn.linear_model import LogisticRegression\n",
    "from sklearn.naive_bayes import GaussianNB\n",
    "from sklearn.tree import DecisionTreeClassifier\n",
    "from sklearn.neighbors import KNeighborsClassifier\n",
    "from sklearn.svm import SVC\n",
    "\n",
    "from sklearn.metrics import classification_report, confusion_matrix, roc_curve, roc_auc_score, accuracy_score\n",
    "\n",
    "from sklearn.ensemble import RandomForestClassifier\n",
    "from sklearn.ensemble import AdaBoostClassifier\n",
    "from sklearn.ensemble import GradientBoostingClassifier"
   ]
  },
  {
   "cell_type": "markdown",
   "id": "de217e97",
   "metadata": {},
   "source": [
    "### 1. Logistic Regression"
   ]
  },
  {
   "cell_type": "code",
   "execution_count": 60,
   "id": "55944b5a",
   "metadata": {},
   "outputs": [
    {
     "name": "stdout",
     "output_type": "stream",
     "text": [
      "Accuracy: 0.8377358490566038\n",
      "Confusion Matrix:\n",
      " [[118  14]\n",
      " [ 29 104]]\n",
      "Classification Report:\n",
      "               precision    recall  f1-score   support\n",
      "\n",
      "           0       0.80      0.89      0.85       132\n",
      "           1       0.88      0.78      0.83       133\n",
      "\n",
      "    accuracy                           0.84       265\n",
      "   macro avg       0.84      0.84      0.84       265\n",
      "weighted avg       0.84      0.84      0.84       265\n",
      "\n"
     ]
    }
   ],
   "source": [
    "lg=LogisticRegression()\n",
    "lg.fit(x_train,y_train)\n",
    "predlg=lg.predict(x_test)\n",
    "print(\"Accuracy:\",accuracy_score(y_test,predlg))\n",
    "print(\"Confusion Matrix:\\n\",confusion_matrix(y_test,predlg))\n",
    "print(\"Classification Report:\\n\",classification_report(y_test,predlg))"
   ]
  },
  {
   "cell_type": "markdown",
   "id": "bc6fbb35",
   "metadata": {},
   "source": [
    "Obs- The Logistic Regression has provided the accuracy_score:0.8037735849056604 and f1-score:0.80"
   ]
  },
  {
   "cell_type": "markdown",
   "id": "7b28e0ec",
   "metadata": {},
   "source": [
    "### 2. GaussianNB"
   ]
  },
  {
   "cell_type": "code",
   "execution_count": 61,
   "id": "f6c65c1f",
   "metadata": {},
   "outputs": [
    {
     "name": "stdout",
     "output_type": "stream",
     "text": [
      "Accuracy: 0.7924528301886793\n",
      "Confusion Matrix:\n",
      " [[110  22]\n",
      " [ 33 100]]\n",
      "Classification Report:\n",
      "               precision    recall  f1-score   support\n",
      "\n",
      "           0       0.77      0.83      0.80       132\n",
      "           1       0.82      0.75      0.78       133\n",
      "\n",
      "    accuracy                           0.79       265\n",
      "   macro avg       0.79      0.79      0.79       265\n",
      "weighted avg       0.79      0.79      0.79       265\n",
      "\n"
     ]
    }
   ],
   "source": [
    "gnb=GaussianNB()\n",
    "gnb.fit(x_train,y_train)\n",
    "predgnb=gnb.predict(x_test)\n",
    "print(\"Accuracy:\",accuracy_score(y_test,predgnb))\n",
    "print(\"Confusion Matrix:\\n\",confusion_matrix(y_test,predgnb))\n",
    "print(\"Classification Report:\\n\",classification_report(y_test,predgnb))"
   ]
  },
  {
   "cell_type": "markdown",
   "id": "ade53e6a",
   "metadata": {},
   "source": [
    "Obs- The GaussianNB has provided the accuracy_score:0.7886792452830189 and f1-score:0.79"
   ]
  },
  {
   "cell_type": "markdown",
   "id": "2cafd577",
   "metadata": {},
   "source": [
    "### 3.Decision Tree Classifier"
   ]
  },
  {
   "cell_type": "code",
   "execution_count": 62,
   "id": "256db941",
   "metadata": {},
   "outputs": [
    {
     "name": "stdout",
     "output_type": "stream",
     "text": [
      "Accuracy: 0.7773584905660378\n",
      "Confusion Matrix:\n",
      " [[107  25]\n",
      " [ 34  99]]\n",
      "Classification Report:\n",
      "               precision    recall  f1-score   support\n",
      "\n",
      "           0       0.76      0.81      0.78       132\n",
      "           1       0.80      0.74      0.77       133\n",
      "\n",
      "    accuracy                           0.78       265\n",
      "   macro avg       0.78      0.78      0.78       265\n",
      "weighted avg       0.78      0.78      0.78       265\n",
      "\n"
     ]
    }
   ],
   "source": [
    "dtc=DecisionTreeClassifier()\n",
    "dtc.fit(x_train,y_train)\n",
    "preddtc=dtc.predict(x_test)\n",
    "print(\"Accuracy:\",accuracy_score(y_test,preddtc))\n",
    "print(\"Confusion Matrix:\\n\",confusion_matrix(y_test,preddtc))\n",
    "print(\"Classification Report:\\n\",classification_report(y_test,preddtc))"
   ]
  },
  {
   "cell_type": "markdown",
   "id": "6fe33b44",
   "metadata": {},
   "source": [
    "Obs- The Decision Tree Classifier has provided the accuracy-score:0.7849056603773585 and f1-score:0.79"
   ]
  },
  {
   "cell_type": "markdown",
   "id": "c565d4de",
   "metadata": {},
   "source": [
    "### 4.K Nearest Neighbor Classifier"
   ]
  },
  {
   "cell_type": "code",
   "execution_count": 63,
   "id": "9c7b1b26",
   "metadata": {},
   "outputs": [
    {
     "name": "stdout",
     "output_type": "stream",
     "text": [
      "Accuracy: 0.8301886792452831\n",
      "Confusion Matrix:\n",
      " [[115  17]\n",
      " [ 28 105]]\n",
      "Classification Report:\n",
      "               precision    recall  f1-score   support\n",
      "\n",
      "           0       0.80      0.87      0.84       132\n",
      "           1       0.86      0.79      0.82       133\n",
      "\n",
      "    accuracy                           0.83       265\n",
      "   macro avg       0.83      0.83      0.83       265\n",
      "weighted avg       0.83      0.83      0.83       265\n",
      "\n"
     ]
    }
   ],
   "source": [
    "knn=KNeighborsClassifier()\n",
    "knn.fit(x_train,y_train)\n",
    "predknn=knn.predict(x_test)\n",
    "print(\"Accuracy:\",accuracy_score(y_test,predknn))\n",
    "print(\"Confusion Matrix:\\n\",confusion_matrix(y_test,predknn))\n",
    "print(\"Classification Report:\\n\",classification_report(y_test,predknn))"
   ]
  },
  {
   "cell_type": "markdown",
   "id": "f6d08618",
   "metadata": {},
   "source": [
    "Obs- The K Nearest Neighbor Classifier has provided the accuracy-score:0.8377358490566038 and f1-score:0.84"
   ]
  },
  {
   "cell_type": "markdown",
   "id": "a79fcee2",
   "metadata": {},
   "source": [
    "### 5.Support Vector Machine Classifier"
   ]
  },
  {
   "cell_type": "code",
   "execution_count": 64,
   "id": "2a4c3e00",
   "metadata": {},
   "outputs": [
    {
     "name": "stdout",
     "output_type": "stream",
     "text": [
      "Accuracy: 0.8264150943396227\n",
      "Confusion Matrix:\n",
      " [[122  10]\n",
      " [ 36  97]]\n",
      "Classification Report:\n",
      "               precision    recall  f1-score   support\n",
      "\n",
      "           0       0.77      0.92      0.84       132\n",
      "           1       0.91      0.73      0.81       133\n",
      "\n",
      "    accuracy                           0.83       265\n",
      "   macro avg       0.84      0.83      0.82       265\n",
      "weighted avg       0.84      0.83      0.82       265\n",
      "\n"
     ]
    }
   ],
   "source": [
    "svc=SVC()\n",
    "svc.fit(x_train,y_train)\n",
    "predsvc=svc.predict(x_test)\n",
    "print(\"Accuracy:\",accuracy_score(y_test,predsvc))\n",
    "print(\"Confusion Matrix:\\n\",confusion_matrix(y_test,predsvc))\n",
    "print(\"Classification Report:\\n\",classification_report(y_test,predsvc))"
   ]
  },
  {
   "cell_type": "markdown",
   "id": "b65e8e24",
   "metadata": {},
   "source": [
    "Obs- The Support Vector Machine Classifier has provided the accuracy-score:0.8075471698113208 and f1-score:0.82"
   ]
  },
  {
   "cell_type": "markdown",
   "id": "b4861782",
   "metadata": {},
   "source": [
    "### 6. Ensemble Methods\n",
    "#### 6.1 Random Forest Classifier"
   ]
  },
  {
   "cell_type": "code",
   "execution_count": 65,
   "id": "efe8eecf",
   "metadata": {},
   "outputs": [
    {
     "name": "stdout",
     "output_type": "stream",
     "text": [
      "Accuracy: 0.8264150943396227\n",
      "Confusion Matrix:\n",
      " [[114  18]\n",
      " [ 28 105]]\n",
      "Classification Report:\n",
      "               precision    recall  f1-score   support\n",
      "\n",
      "           0       0.80      0.86      0.83       132\n",
      "           1       0.85      0.79      0.82       133\n",
      "\n",
      "    accuracy                           0.83       265\n",
      "   macro avg       0.83      0.83      0.83       265\n",
      "weighted avg       0.83      0.83      0.83       265\n",
      "\n"
     ]
    }
   ],
   "source": [
    "rf=RandomForestClassifier(n_estimators=100)\n",
    "rf.fit(x_train,y_train)\n",
    "predrf=rf.predict(x_test)\n",
    "print(\"Accuracy:\",accuracy_score(y_test,predrf))\n",
    "print(\"Confusion Matrix:\\n\",confusion_matrix(y_test,predrf))\n",
    "print(\"Classification Report:\\n\",classification_report(y_test,predrf))"
   ]
  },
  {
   "cell_type": "markdown",
   "id": "352fbbf4",
   "metadata": {},
   "source": [
    "Obs- The Random Forest Classifier has provided the accuracy-score:0.8452830188679246 and f1-score:0.85"
   ]
  },
  {
   "cell_type": "markdown",
   "id": "fac69af4",
   "metadata": {},
   "source": [
    "#### 6.2 Ada Boost Classifier"
   ]
  },
  {
   "cell_type": "code",
   "execution_count": 66,
   "id": "4c0b1d74",
   "metadata": {},
   "outputs": [
    {
     "name": "stdout",
     "output_type": "stream",
     "text": [
      "Accuracy: 0.8377358490566038\n",
      "Confusion Matrix:\n",
      " [[118  14]\n",
      " [ 29 104]]\n",
      "Classification Report:\n",
      "               precision    recall  f1-score   support\n",
      "\n",
      "           0       0.80      0.89      0.85       132\n",
      "           1       0.88      0.78      0.83       133\n",
      "\n",
      "    accuracy                           0.84       265\n",
      "   macro avg       0.84      0.84      0.84       265\n",
      "weighted avg       0.84      0.84      0.84       265\n",
      "\n"
     ]
    }
   ],
   "source": [
    "ad=AdaBoostClassifier(n_estimators=50,learning_rate=1.0)\n",
    "ad.fit(x_train,y_train)\n",
    "predad=ad.predict(x_test)\n",
    "print(\"Accuracy:\",accuracy_score(y_test,predad))\n",
    "print(\"Confusion Matrix:\\n\",confusion_matrix(y_test,predad))\n",
    "print(\"Classification Report:\\n\",classification_report(y_test,predad))"
   ]
  },
  {
   "cell_type": "markdown",
   "id": "d4aab2d8",
   "metadata": {},
   "source": [
    "Obs- The Ada Boost Classifier has provided the accuracy-score:0.8188679245283019 and f1-score:0.82"
   ]
  },
  {
   "cell_type": "markdown",
   "id": "f3514d55",
   "metadata": {},
   "source": [
    "#### 6.3 Gradient Boosting Classifier"
   ]
  },
  {
   "cell_type": "code",
   "execution_count": 67,
   "id": "19b27803",
   "metadata": {},
   "outputs": [
    {
     "name": "stdout",
     "output_type": "stream",
     "text": [
      "Accuracy: 0.8490566037735849\n",
      "Confusion Matrix:\n",
      " [[119  13]\n",
      " [ 27 106]]\n",
      "Classification Report:\n",
      "               precision    recall  f1-score   support\n",
      "\n",
      "           0       0.82      0.90      0.86       132\n",
      "           1       0.89      0.80      0.84       133\n",
      "\n",
      "    accuracy                           0.85       265\n",
      "   macro avg       0.85      0.85      0.85       265\n",
      "weighted avg       0.85      0.85      0.85       265\n",
      "\n"
     ]
    }
   ],
   "source": [
    "gb=GradientBoostingClassifier()\n",
    "gb.fit(x_train,y_train)\n",
    "predgb=gb.predict(x_test)\n",
    "print(\"Accuracy:\",accuracy_score(y_test,predgb))\n",
    "print(\"Confusion Matrix:\\n\",confusion_matrix(y_test,predgb))\n",
    "print(\"Classification Report:\\n\",classification_report(y_test,predgb))"
   ]
  },
  {
   "cell_type": "markdown",
   "id": "dcab79da",
   "metadata": {},
   "source": [
    "Obs- The Gradient Boosting Classifier has provided the accuracy-score:0.8452830188679246 and f1-score:0.85"
   ]
  },
  {
   "cell_type": "markdown",
   "id": "990e9b6d",
   "metadata": {},
   "source": [
    "### Cross Validation"
   ]
  },
  {
   "cell_type": "code",
   "execution_count": 68,
   "id": "1b99d870",
   "metadata": {},
   "outputs": [],
   "source": [
    "from sklearn.model_selection import cross_val_score"
   ]
  },
  {
   "cell_type": "code",
   "execution_count": 69,
   "id": "2d727b5e",
   "metadata": {},
   "outputs": [
    {
     "name": "stdout",
     "output_type": "stream",
     "text": [
      "CV score  for Logistic rgerssion 0.7864168827684879\n"
     ]
    }
   ],
   "source": [
    "# cv score for Logistic Regression \n",
    "print('CV score  for Logistic rgerssion',cross_val_score(lg,x,y,cv=5).mean())"
   ]
  },
  {
   "cell_type": "code",
   "execution_count": 70,
   "id": "4c165288",
   "metadata": {},
   "outputs": [
    {
     "name": "stdout",
     "output_type": "stream",
     "text": [
      "CV score  for Gaussian NB  0.749575248144505\n"
     ]
    }
   ],
   "source": [
    "# cv score for Gaussian NB \n",
    "print('CV score  for Gaussian NB ',cross_val_score(gnb,x,y,cv=5).mean())"
   ]
  },
  {
   "cell_type": "code",
   "execution_count": 71,
   "id": "aeab1c69",
   "metadata": {},
   "outputs": [
    {
     "name": "stdout",
     "output_type": "stream",
     "text": [
      "CV score  for Decision Tree Classifier  0.8034650809264063\n"
     ]
    }
   ],
   "source": [
    "# cv score for Decision Tree Classifier \n",
    "print('CV score  for Decision Tree Classifier ',cross_val_score(dtc,x,y,cv=5).mean())"
   ]
  },
  {
   "cell_type": "code",
   "execution_count": 72,
   "id": "94c0ea48",
   "metadata": {},
   "outputs": [
    {
     "name": "stdout",
     "output_type": "stream",
     "text": [
      "CV score  for K Neighbors Classifier  0.8110122507377268\n"
     ]
    }
   ],
   "source": [
    "# cv score for K Neighbors Classifier \n",
    "print('CV score  for K Neighbors Classifier ',cross_val_score(knn,x,y,cv=5).mean())"
   ]
  },
  {
   "cell_type": "code",
   "execution_count": 73,
   "id": "1a940a8e",
   "metadata": {},
   "outputs": [
    {
     "name": "stdout",
     "output_type": "stream",
     "text": [
      "CV score  for Support Vector Machine Classifier  0.7958732003934543\n"
     ]
    }
   ],
   "source": [
    "# cv score for Support Vector Machine Classifier \n",
    "print('CV score  for Support Vector Machine Classifier ',cross_val_score(svc,x,y,cv=5).mean())"
   ]
  },
  {
   "cell_type": "code",
   "execution_count": 74,
   "id": "8f3f466b",
   "metadata": {},
   "outputs": [
    {
     "name": "stdout",
     "output_type": "stream",
     "text": [
      "CV score  for Random Forest Classifier  0.8185638916212108\n"
     ]
    }
   ],
   "source": [
    "# cv score for Random Forest Classifier\n",
    "print('CV score  for Random Forest Classifier ',cross_val_score(rf,x,y,cv=5).mean())"
   ]
  },
  {
   "cell_type": "code",
   "execution_count": 75,
   "id": "acaf5265",
   "metadata": {},
   "outputs": [
    {
     "name": "stdout",
     "output_type": "stream",
     "text": [
      "CV score  for Ada Boost Classifier  0.7892694268085487\n"
     ]
    }
   ],
   "source": [
    "# cv score for Ada Boost Classifier\n",
    "print('CV score  for Ada Boost Classifier ',cross_val_score(ad,x,y,cv=5).mean())"
   ]
  },
  {
   "cell_type": "code",
   "execution_count": 76,
   "id": "b465c1b0",
   "metadata": {},
   "outputs": [
    {
     "name": "stdout",
     "output_type": "stream",
     "text": [
      "CV score  for GradientBoostingClassifier  0.8260931771438791\n"
     ]
    }
   ],
   "source": [
    "# cv score for GradientBoostingClassifier\n",
    "print('CV score  for GradientBoostingClassifier ',cross_val_score(gb,x,y,cv=5).mean())"
   ]
  },
  {
   "cell_type": "markdown",
   "id": "c70234d6",
   "metadata": {},
   "source": [
    "Obs-From the observation of accuracy and cross validation score and their difference we can predict that Gradient Boosting Classifier is the best model."
   ]
  },
  {
   "cell_type": "markdown",
   "id": "af619b66",
   "metadata": {},
   "source": [
    "## Hyper Parameter Tuning"
   ]
  },
  {
   "cell_type": "code",
   "execution_count": 77,
   "id": "89feca1b",
   "metadata": {},
   "outputs": [
    {
     "data": {
      "text/plain": [
       "{'ccp_alpha': 0.0,\n",
       " 'criterion': 'friedman_mse',\n",
       " 'init': None,\n",
       " 'learning_rate': 0.1,\n",
       " 'loss': 'deviance',\n",
       " 'max_depth': 3,\n",
       " 'max_features': None,\n",
       " 'max_leaf_nodes': None,\n",
       " 'min_impurity_decrease': 0.0,\n",
       " 'min_samples_leaf': 1,\n",
       " 'min_samples_split': 2,\n",
       " 'min_weight_fraction_leaf': 0.0,\n",
       " 'n_estimators': 100,\n",
       " 'n_iter_no_change': None,\n",
       " 'random_state': None,\n",
       " 'subsample': 1.0,\n",
       " 'tol': 0.0001,\n",
       " 'validation_fraction': 0.1,\n",
       " 'verbose': 0,\n",
       " 'warm_start': False}"
      ]
     },
     "execution_count": 77,
     "metadata": {},
     "output_type": "execute_result"
    }
   ],
   "source": [
    "gb.get_params() # Getting List of parameters for Gradient Bossting Algorithm"
   ]
  },
  {
   "cell_type": "code",
   "execution_count": 78,
   "id": "af0d744c",
   "metadata": {},
   "outputs": [],
   "source": [
    "#Selecting few parameter list to pass in Gradient Boosting \n",
    "from sklearn.model_selection import GridSearchCV\n",
    "# defining parameter range\n",
    "parameter = {'learning_rate': [0.1, 1, 10, 100, 1000],\n",
    "             'n_estimators': [100, 150, 200],\n",
    "             'criterion':['friedman_mse', 'squared_error'],\n",
    "              'max_depth':[2,3,4]}"
   ]
  },
  {
   "cell_type": "code",
   "execution_count": 79,
   "id": "3deb987b",
   "metadata": {},
   "outputs": [
    {
     "name": "stdout",
     "output_type": "stream",
     "text": [
      "{'criterion': 'friedman_mse', 'learning_rate': 0.1, 'max_depth': 3, 'n_estimators': 150}\n"
     ]
    },
    {
     "data": {
      "text/plain": [
       "0.8490566037735849"
      ]
     },
     "execution_count": 79,
     "metadata": {},
     "output_type": "execute_result"
    }
   ],
   "source": [
    "GCV = GridSearchCV(gb,parameter,cv=5,scoring='accuracy')\n",
    "\n",
    "GCV.fit(x_train,y_train)  \n",
    "print(GCV.best_params_)         #printing the best parameter found by Gridsearchcv\n",
    "GCV_pred = GCV.best_estimator_.predict(x_test)    #predicting accuracy with obtained best parameter \n",
    "accuracy_score(y_test, GCV_pred)                  #Printing accuracy"
   ]
  },
  {
   "cell_type": "code",
   "execution_count": 80,
   "id": "a3ae2be9",
   "metadata": {},
   "outputs": [
    {
     "name": "stdout",
     "output_type": "stream",
     "text": [
      "Accuracy: 0.8490566037735849\n",
      "Confusion Matrix:\n",
      " [[119  13]\n",
      " [ 27 106]]\n",
      "Classification Report:\n",
      "               precision    recall  f1-score   support\n",
      "\n",
      "           0       0.82      0.90      0.86       132\n",
      "           1       0.89      0.80      0.84       133\n",
      "\n",
      "    accuracy                           0.85       265\n",
      "   macro avg       0.85      0.85      0.85       265\n",
      "weighted avg       0.85      0.85      0.85       265\n",
      "\n"
     ]
    }
   ],
   "source": [
    "#Applying best parameter values on GradientBoosting Algorithm \n",
    "titanic_best=GradientBoostingClassifier()\n",
    "titanic_best.fit(x_train,y_train)\n",
    "predgb1=titanic_best.predict(x_test)\n",
    "print(\"Accuracy:\",accuracy_score(y_test,predgb1))\n",
    "print(\"Confusion Matrix:\\n\",confusion_matrix(y_test,predgb1))\n",
    "print(\"Classification Report:\\n\",classification_report(y_test,predgb1))"
   ]
  },
  {
   "cell_type": "markdown",
   "id": "f178fc41",
   "metadata": {},
   "source": [
    "Obs-The Gradient Boosting Algorithm gives accuracy_score:0.8452830188679246 after tuning"
   ]
  },
  {
   "cell_type": "markdown",
   "id": "20db2b11",
   "metadata": {},
   "source": [
    "### Plotting ROC-AUC curve for best model"
   ]
  },
  {
   "cell_type": "code",
   "execution_count": 81,
   "id": "1496bf8c",
   "metadata": {},
   "outputs": [],
   "source": [
    "from sklearn.metrics import roc_curve\n",
    "from sklearn.metrics import roc_auc_score"
   ]
  },
  {
   "cell_type": "code",
   "execution_count": 82,
   "id": "b19fa785",
   "metadata": {},
   "outputs": [
    {
     "data": {
      "image/png": "[encoded data removed]",
      "text/plain": [
       "<Figure size 432x288 with 1 Axes>"
      ]
     },
     "metadata": {
      "needs_background": "light"
     },
     "output_type": "display_data"
    }
   ],
   "source": [
    "fpr,tpr,threshholds=roc_curve(y_test,predgb)\n",
    "auc = roc_auc_score(y_test,predgb)\n",
    "plt.plot([0,1],[0,1],'k--')\n",
    "plt.plot(fpr,tpr,label='titanic_best')\n",
    "plt.xlabel('False Positive Rate')\n",
    "plt.ylabel('True Positive Rate')\n",
    "plt.legend()\n",
    "plt.show()"
   ]
  },
  {
   "cell_type": "markdown",
   "id": "dc8db897",
   "metadata": {},
   "source": [
    "Obs- The best model ie. Gradient Boosting Classifier has AUC(area under curve)=83.01%"
   ]
  },
  {
   "cell_type": "markdown",
   "id": "855879a5",
   "metadata": {},
   "source": [
    "### Saving the best model"
   ]
  },
  {
   "cell_type": "code",
   "execution_count": 83,
   "id": "9a82804e",
   "metadata": {},
   "outputs": [
    {
     "data": {
      "text/plain": [
       "['Titanic.obj']"
      ]
     },
     "execution_count": 83,
     "metadata": {},
     "output_type": "execute_result"
    }
   ],
   "source": [
    "import joblib\n",
    "\n",
    "joblib.dump(titanic_best,'Titanic.obj')"
   ]
  },
  {
   "cell_type": "code",
   "execution_count": 84,
   "id": "04bb0a6f",
   "metadata": {},
   "outputs": [],
   "source": [
    "titanic_model=joblib.load('Titanic.obj')"
   ]
  },
  {
   "cell_type": "code",
   "execution_count": 85,
   "id": "ce859318",
   "metadata": {},
   "outputs": [
    {
     "data": {
      "text/plain": [
       "GradientBoostingClassifier()"
      ]
     },
     "execution_count": 85,
     "metadata": {},
     "output_type": "execute_result"
    }
   ],
   "source": [
    "titanic_model"
   ]
  },
  {
   "cell_type": "markdown",
   "id": "b7b73bb0",
   "metadata": {},
   "source": [
    "### Predicting the Output"
   ]
  },
  {
   "cell_type": "code",
   "execution_count": 86,
   "id": "d791edb7",
   "metadata": {},
   "outputs": [
    {
     "data": {
      "text/html": [
       "<div>\n",
       "<style scoped>\n",
       "    .dataframe tbody tr th:only-of-type {\n",
       "        vertical-align: middle;\n",
       "    }\n",
       "\n",
       "    .dataframe tbody tr th {\n",
       "        vertical-align: top;\n",
       "    }\n",
       "\n",
       "    .dataframe thead th {\n",
       "        text-align: right;\n",
       "    }\n",
       "</style>\n",
       "<table border=\"1\" class=\"dataframe\">\n",
       "  <thead>\n",
       "    <tr style=\"text-align: right;\">\n",
       "      <th></th>\n",
       "      <th>Original</th>\n",
       "      <th>Predicted</th>\n",
       "    </tr>\n",
       "  </thead>\n",
       "  <tbody>\n",
       "    <tr>\n",
       "      <th>0</th>\n",
       "      <td>0</td>\n",
       "      <td>0</td>\n",
       "    </tr>\n",
       "    <tr>\n",
       "      <th>1</th>\n",
       "      <td>0</td>\n",
       "      <td>0</td>\n",
       "    </tr>\n",
       "    <tr>\n",
       "      <th>2</th>\n",
       "      <td>1</td>\n",
       "      <td>0</td>\n",
       "    </tr>\n",
       "    <tr>\n",
       "      <th>3</th>\n",
       "      <td>0</td>\n",
       "      <td>0</td>\n",
       "    </tr>\n",
       "    <tr>\n",
       "      <th>4</th>\n",
       "      <td>1</td>\n",
       "      <td>1</td>\n",
       "    </tr>\n",
       "    <tr>\n",
       "      <th>...</th>\n",
       "      <td>...</td>\n",
       "      <td>...</td>\n",
       "    </tr>\n",
       "    <tr>\n",
       "      <th>260</th>\n",
       "      <td>0</td>\n",
       "      <td>0</td>\n",
       "    </tr>\n",
       "    <tr>\n",
       "      <th>261</th>\n",
       "      <td>0</td>\n",
       "      <td>0</td>\n",
       "    </tr>\n",
       "    <tr>\n",
       "      <th>262</th>\n",
       "      <td>1</td>\n",
       "      <td>0</td>\n",
       "    </tr>\n",
       "    <tr>\n",
       "      <th>263</th>\n",
       "      <td>1</td>\n",
       "      <td>1</td>\n",
       "    </tr>\n",
       "    <tr>\n",
       "      <th>264</th>\n",
       "      <td>1</td>\n",
       "      <td>0</td>\n",
       "    </tr>\n",
       "  </tbody>\n",
       "</table>\n",
       "<p>265 rows × 2 columns</p>\n",
       "</div>"
      ],
      "text/plain": [
       "     Original  Predicted\n",
       "0           0          0\n",
       "1           0          0\n",
       "2           1          0\n",
       "3           0          0\n",
       "4           1          1\n",
       "..        ...        ...\n",
       "260         0          0\n",
       "261         0          0\n",
       "262         1          0\n",
       "263         1          1\n",
       "264         1          0\n",
       "\n",
       "[265 rows x 2 columns]"
      ]
     },
     "execution_count": 86,
     "metadata": {},
     "output_type": "execute_result"
    }
   ],
   "source": [
    "ori = np.array(y_test)\n",
    "predicted = np.array(titanic_best.predict(x_test))\n",
    "df_new = pd.DataFrame({\"Original\":ori,\"Predicted\":predicted},index= range(len(ori)))\n",
    "df_new"
   ]
  },
  {
   "cell_type": "code",
   "execution_count": null,
   "id": "a13823b3",
   "metadata": {},
   "outputs": [],
   "source": []
  }
 ],
 "metadata": {
  "kernelspec": {
   "display_name": "Python 3 (ipykernel)",
   "language": "python",
   "name": "python3"
  },
  "language_info": {
   "codemirror_mode": {
    "name": "ipython",
    "version": 3
   },
   "file_extension": ".py",
   "mimetype": "text/x-python",
   "name": "python",
   "nbconvert_exporter": "python",
   "pygments_lexer": "ipython3",
   "version": "3.9.12"
  }
 },
 "nbformat": 4,
 "nbformat_minor": 5
}
